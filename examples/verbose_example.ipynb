{
 "cells": [
  {
   "cell_type": "code",
   "execution_count": 1,
   "source": [
    "import numpy as np\n",
    "import pandas as pd\n",
    "import scipy.stats as ss\n",
    "from typing import List"
   ],
   "outputs": [],
   "metadata": {}
  },
  {
   "cell_type": "markdown",
   "source": [
    "# Data loading"
   ],
   "metadata": {}
  },
  {
   "cell_type": "code",
   "execution_count": 2,
   "source": [
    "# Load your data\n",
    "df_tmp = pd.read_parquet(\"data/empatica/tmp.parquet\", engine='fastparquet').set_index(\"timestamp\")\n",
    "df_gsr = pd.read_parquet(\"data/empatica/gsr.parquet\", engine='fastparquet').set_index(\"timestamp\")\n",
    "df_acc = pd.read_parquet(\"data/empatica/acc.parquet\", engine='fastparquet').set_index(\"timestamp\")\n",
    "\n",
    "# !!! The data MUST datetime Indexed\n",
    "assert isinstance(df_tmp.index, pd.DatetimeIndex)\n",
    "\n",
    "print(df_tmp.head(3))   # ~4Hz\n",
    "print('-'*60)\n",
    "print(df_acc.head(6))  # ~32Hz\n",
    "print('-'*60)\n",
    "print(df_gsr.head(3))   # ~4Hz"
   ],
   "outputs": [
    {
     "name": "stdout",
     "output_type": "stream",
     "text": [
      "                                         TMP\n",
      "timestamp                                   \n",
      "2017-06-13 14:22:13+02:00         382.209991\n",
      "2017-06-13 14:22:13.250000+02:00  382.209991\n",
      "2017-06-13 14:22:13.500000+02:00  382.209991\n",
      "------------------------------------------------------------\n",
      "                                  ACC_x  ACC_y  ACC_z\n",
      "timestamp                                            \n",
      "2017-06-13 14:22:13+02:00             0      5     63\n",
      "2017-06-13 14:22:13.031250+02:00      0      5     63\n",
      "2017-06-13 14:22:13.062500+02:00      0      5     63\n",
      "2017-06-13 14:22:13.093750+02:00      0      5     63\n",
      "2017-06-13 14:22:13.125000+02:00      0      5     63\n",
      "2017-06-13 14:22:13.156250+02:00     -1      5     63\n",
      "------------------------------------------------------------\n",
      "                                       EDA\n",
      "timestamp                                 \n",
      "2017-06-13 14:22:13+02:00         0.000000\n",
      "2017-06-13 14:22:13.250000+02:00  0.400309\n",
      "2017-06-13 14:22:13.500000+02:00  0.475767\n"
     ]
    }
   ],
   "metadata": {}
  },
  {
   "cell_type": "markdown",
   "source": [
    "**note**: The `ACC` signal is sampled at a different sample frequency.\n",
    "\n",
    "> So we deal with `multivariate data` of which each modality has a different sample-frequency."
   ],
   "metadata": {}
  },
  {
   "cell_type": "markdown",
   "source": [
    "# Series Processing pipeline"
   ],
   "metadata": {}
  },
  {
   "cell_type": "code",
   "execution_count": 3,
   "source": [
    "try: \n",
    "    from tsflex.processing import SeriesProcessor, SeriesPipeline\n",
    "    from tsflex.processing.logger import get_processor_logs\n",
    "except:\n",
    "    import sys\n",
    "    sys.path.append('../')\n",
    "    from tsflex.processing import SeriesProcessor, SeriesPipeline\n",
    "    from tsflex.processing.logger import get_processor_logs"
   ],
   "outputs": [],
   "metadata": {}
  },
  {
   "cell_type": "markdown",
   "source": [
    "> **note**: processing takes place on one or multiple flat series as is and does not use window-stride parameters<br>the **output** of a processing step should either be `one or multiple` existing **series** (which will be updated in the internal representation ) and/or `one-multiple` new series."
   ],
   "metadata": {}
  },
  {
   "cell_type": "markdown",
   "source": [
    "**[link to docs](https://predict-idlab.github.io/tsflex/features/index.html#getting-started)**\n",
    "\n",
    "![series uml](https://raw.githubusercontent.com/predict-idlab/tsflex/main/docs/_static/series_uml.png)"
   ],
   "metadata": {}
  },
  {
   "cell_type": "markdown",
   "source": [
    "As shown above, there are 2 relevant classes for processing.\n",
    "\n",
    "1. [SeriesPipeline](https://predict-idlab.github.io/tsflex/processing/#tsflex.processing.SeriesPipeline): serves as a pipeline, withholding the to-be-applied processing steps\n",
    "2. [SeriesProcessor](https://predict-idlab.github.io/tsflex/processing/#tsflex.processing.SeriesProcessor): an instance of this class describes a processing step.<br>\n",
    "   Processors are defined by:<br>\n",
    "   * `function`: the Callable processing-function - e.g. scipy.signal.detrend\n",
    "   * `series_names`: the name(s) of the series on which the processing function should be applied\n",
    "   * `**kwargs`: the keyword arguments for the function.\n",
    "\n",
    "The snippets below show how the SeriesPipeline & SeriesProcessor interplay:"
   ],
   "metadata": {}
  },
  {
   "cell_type": "code",
   "execution_count": 4,
   "source": [
    "# --------------------- some custom signal procesisng functions ---------------------\n",
    "from scipy.signal import savgol_filter\n",
    "\n",
    "def clip_quantiles(sig: pd.Series, lower_q=0.01, upper_q=0.99) -> np.ndarray:\n",
    "    # Note that this function induces a data leakage\n",
    "    quantile_vals = np.quantile(sig, q=[lower_q, upper_q])\n",
    "    return np.clip(sig, *quantile_vals)\n",
    "\n",
    "def smv(*sigs) -> pd.Series:\n",
    "    # creates a new series\n",
    "    sig_prefixes = set(sig.name.split('_')[0] for sig in sigs)\n",
    "    result = np.sqrt(np.sum([np.square(sig) for sig in sigs], axis=0))\n",
    "    return pd.Series(result, index=sigs[0].index, name='|'.join(sig_prefixes)+'_'+'SMV')"
   ],
   "outputs": [],
   "metadata": {}
  },
  {
   "cell_type": "code",
   "execution_count": 5,
   "source": [
    "# -- 1.  Create the series processors (with their keyword arguments)\n",
    "clipper_tmp = SeriesProcessor(clip_quantiles, series_names=\"TMP\", lower_q=0, upper_q=0.999)\n",
    "savgol_eda = SeriesProcessor(savgol_filter, \"EDA\", window_length=5, polyorder=2)\n",
    "savgol_acc = SeriesProcessor(savgol_filter, [\"ACC_x\", \"ACC_y\", \"ACC_z\"], window_length=33, polyorder=2)\n",
    "smv_processor = SeriesProcessor(smv, (\"ACC_x\", \"ACC_y\", \"ACC_z\"))\n",
    "clipper_smv = SeriesProcessor(clip_quantiles, \"ACC_SMV\")\n",
    "\n",
    "# -- 2. Create the series pipeline which wittholds a list of processors\n",
    "series_pipe = SeriesPipeline(\n",
    "    processors=[clipper_tmp, savgol_eda, savgol_acc, smv_processor, clipper_smv]\n",
    ")\n",
    "series_pipe"
   ],
   "outputs": [
    {
     "data": {
      "text/plain": "[\n\tclip_quantiles {'lower_q': 0, 'upper_q': 0.999} :  ('TMP',)\n\tsavgol_filter {'window_length': 5, 'polyorder': 2} :  ('EDA',)\n\tsavgol_filter {'window_length': 33, 'polyorder': 2} :  ('ACC_x',) ('ACC_y',) ('ACC_z',)\n\tsmv {} :  ('ACC_x', 'ACC_y', 'ACC_z')\n\tclip_quantiles {} :  ('ACC_SMV',)\n]"
     },
     "execution_count": 5,
     "metadata": {},
     "output_type": "execute_result"
    }
   ],
   "metadata": {}
  },
  {
   "cell_type": "code",
   "execution_count": 6,
   "source": [
    "# 3. Process the data\n",
    "out_data : List[pd.Series] = series_pipe.process(\n",
    "    [df_gsr, df_acc, df_tmp]\n",
    ")\n",
    "\n",
    "# update the df_gsr and the df_tmp, and save the df_smv\n",
    "for series in out_data:\n",
    "    print(series.name)"
   ],
   "outputs": [
    {
     "name": "stdout",
     "output_type": "stream",
     "text": [
      "EDA\n",
      "ACC_x\n",
      "ACC_y\n",
      "ACC_z\n",
      "TMP\n",
      "ACC_SMV\n"
     ]
    }
   ],
   "metadata": {}
  },
  {
   "cell_type": "markdown",
   "source": [
    "## Processing function logging"
   ],
   "metadata": {}
  },
  {
   "cell_type": "markdown",
   "source": [
    "The `ProcessingPipeline` can also log the duration of it's `SeriesProcessor` steps\n",
    "\n",
    "To do so, one needs to set the `logging_file_path` argumetn and then call the `get_processor_logs()` method with this corresponding path to see the output dataframe."
   ],
   "metadata": {}
  },
  {
   "cell_type": "code",
   "execution_count": 7,
   "source": [
    "_ = series_pipe.process([df_gsr, df_acc, df_tmp], logging_file_path=\"example_processing_logs.log\")"
   ],
   "outputs": [
    {
     "name": "stderr",
     "output_type": "stream",
     "text": [
      "/home/jonas/git/gIDLab/predict/time_series/tsflex/utils/logging.py:45: RuntimeWarning: Logging file (example_processing_logs.log) already exists. This file will be overwritten!\n",
      "  RuntimeWarning,\n"
     ]
    }
   ],
   "metadata": {}
  },
  {
   "cell_type": "code",
   "execution_count": 8,
   "source": [
    "get_processor_logs(\"example_processing_logs.log\")"
   ],
   "outputs": [
    {
     "data": {
      "text/plain": "                 log_time        function                  series_names  \\\n0 2021-07-28 11:50:34.770  clip_quantiles                        (TMP,)   \n1 2021-07-28 11:50:34.771   savgol_filter                        (EDA,)   \n2 2021-07-28 11:50:34.791   savgol_filter  (ACC_x,), (ACC_y,), (ACC_z,)   \n3 2021-07-28 11:50:34.796             smv         (ACC_x, ACC_y, ACC_z)   \n4 2021-07-28 11:50:34.800  clip_quantiles                    (ACC_SMV,)   \n\n                   duration  \n0 0 days 00:00:00.002986431  \n1 0 days 00:00:00.001148224  \n2 0 days 00:00:00.020092487  \n3 0 days 00:00:00.004370451  \n4 0 days 00:00:00.004100323  ",
      "text/html": "<div>\n<style scoped>\n    .dataframe tbody tr th:only-of-type {\n        vertical-align: middle;\n    }\n\n    .dataframe tbody tr th {\n        vertical-align: top;\n    }\n\n    .dataframe thead th {\n        text-align: right;\n    }\n</style>\n<table border=\"1\" class=\"dataframe\">\n  <thead>\n    <tr style=\"text-align: right;\">\n      <th></th>\n      <th>log_time</th>\n      <th>function</th>\n      <th>series_names</th>\n      <th>duration</th>\n    </tr>\n  </thead>\n  <tbody>\n    <tr>\n      <th>0</th>\n      <td>2021-07-28 11:50:34.770</td>\n      <td>clip_quantiles</td>\n      <td>(TMP,)</td>\n      <td>0 days 00:00:00.002986431</td>\n    </tr>\n    <tr>\n      <th>1</th>\n      <td>2021-07-28 11:50:34.771</td>\n      <td>savgol_filter</td>\n      <td>(EDA,)</td>\n      <td>0 days 00:00:00.001148224</td>\n    </tr>\n    <tr>\n      <th>2</th>\n      <td>2021-07-28 11:50:34.791</td>\n      <td>savgol_filter</td>\n      <td>(ACC_x,), (ACC_y,), (ACC_z,)</td>\n      <td>0 days 00:00:00.020092487</td>\n    </tr>\n    <tr>\n      <th>3</th>\n      <td>2021-07-28 11:50:34.796</td>\n      <td>smv</td>\n      <td>(ACC_x, ACC_y, ACC_z)</td>\n      <td>0 days 00:00:00.004370451</td>\n    </tr>\n    <tr>\n      <th>4</th>\n      <td>2021-07-28 11:50:34.800</td>\n      <td>clip_quantiles</td>\n      <td>(ACC_SMV,)</td>\n      <td>0 days 00:00:00.004100323</td>\n    </tr>\n  </tbody>\n</table>\n</div>"
     },
     "execution_count": 8,
     "metadata": {},
     "output_type": "execute_result"
    }
   ],
   "metadata": {}
  },
  {
   "cell_type": "markdown",
   "source": [
    "This is especially useful to see which of the processing step is the bottleneck"
   ],
   "metadata": {}
  },
  {
   "cell_type": "markdown",
   "source": [
    "# Feature extraction"
   ],
   "metadata": {
    "tags": []
   }
  },
  {
   "cell_type": "code",
   "execution_count": 9,
   "source": [
    "try: \n",
    "    from tsflex.features import FeatureCollection, FuncWrapper\n",
    "    from tsflex.features import FeatureDescriptor, MultipleFeatureDescriptors\n",
    "    from tsflex.features.logger import get_feature_logs\n",
    "except:\n",
    "    import sys\n",
    "    sys.path.append('../')\n",
    "    from tsflex.features import FeatureCollection, FuncWrapper\n",
    "    from tsflex.features import FeatureDescriptor, MultipleFeatureDescriptors\n",
    "    from tsflex.features.logger import get_feature_logs"
   ],
   "outputs": [],
   "metadata": {}
  },
  {
   "cell_type": "markdown",
   "source": [
    "## Defining functions"
   ],
   "metadata": {
    "tags": []
   }
  },
  {
   "cell_type": "markdown",
   "source": [
    "**[link to docs](https://predict-idlab.github.io/tsflex/features/index.html#getting-started)**\n",
    "\n",
    "![features uml](https://raw.githubusercontent.com/predict-idlab/tsflex/main/docs/_static/features_uml.png)\n",
    "\n",
    "As shown above, there are 3 relevant classes for feature-extraction.\n",
    "\n",
    "1. [FeatureCollection](https://predict-idlab.github.io/tsflex/features/#tsflex.features.FeatureCollection): serves as a registry, withholding the to-be-calculated _features_\n",
    "2. [FeatureDescriptor](https://predict-idlab.github.io/tsflex/features/#tsflex.features.FeatureDescriptor): an instance of this class describes a _feature_. <br>Features are defined by:\n",
    "      * `series_name`: the names of the signal(s) which this feature will use. \n",
    "      * `function`: the _Callable_ feature-function - e.g. _np.mean_\n",
    "      * `window`: the _time-based_ window -  e.g. _\"1hour\"_\n",
    "      * `stride`: the _time-based_ stride - e.g. _\"2days\"_\n",
    "3. [NumpyFuncWrapper](https://predict-idlab.github.io/tsflex/features/#tsflex.features.NumpyFuncWrapper): a wrapper around _Callable_ functions, intended for advanced feature function definitions, such as:\n",
    "    * features with multiple output columns\n",
    "    * passing _**kwargs_ to feature functions\n",
    "\n",
    "\n",
    "**Note**: this library does `not` provide any feature-functions as:\n",
    "* There already exist many other feature extraction libraries such as numpy, scipy, tsfresh with which `tsflex` integrates.\n",
    "* (Relevant) features are dependent on the objective and signals-modalites, making features methods very problem specific.\n",
    "* Finally, as can be seen in the example below, our `NumpyFuncWrapper`'s `func`-attribute is versatile enough to wrap the end-user's desired features."
   ],
   "metadata": {}
  },
  {
   "cell_type": "code",
   "execution_count": 10,
   "source": [
    "# --------------------- some custom feature extraction functions ---------------------\n",
    "# -- 1. one-to-many functions\n",
    "#    To compute quantiles, you need sort the windowed data, which is a rather expensive\n",
    "#    operation O(n*log(n)). Hence, you might want to calculate all your desired \n",
    "#    quantiles in a single function-wrapper, returning multiple outputs.\n",
    "\n",
    "quantiles = [0.25, 0.5, 0.75]\n",
    "f_quantiles = FuncWrapper(\n",
    "    func=np.quantile,  # the wrapped function that will operate on numpy arrays\n",
    "    output_names=[f\"quantile_{q}\" for q in quantiles],  # the output column names\n",
    "    q=quantiles,  # optional - additional function-related kwargs\n",
    ")\n",
    "\n",
    "\n",
    "# -- 2. in-line functions\n",
    "#    You can define your functions locally; these will serialize flawlessly\n",
    "def slope(x):\n",
    "    return np.polyfit(np.arange(0, len(x)), x, 1)[0]\n",
    "\n",
    "f_slope = FuncWrapper(slope, output_names=\"slope\")\n",
    "\n",
    "# -- 3. Lambda's\n",
    "#    Or even use lambda's and other modules' functions\n",
    "f_rms = FuncWrapper(lambda x: np.sqrt(np.mean(x ** 2)), output_names=\"rms\")\n",
    "f_area = FuncWrapper(np.sum, output_names=\"area\")\n",
    "\n",
    "\n",
    "# (For convenience) we store the constructed `NumpyFuncWrappers` in a list\n",
    "segment_funcs = [\n",
    "    np.mean,\n",
    "    np.std,\n",
    "    np.var,\n",
    "    np.max,\n",
    "    np.min,\n",
    "    ss.skew,  # use other libraries such as scipy\n",
    "    ss.kurtosis,\n",
    "    f_quantiles,\n",
    "    f_slope,\n",
    "    f_rms,\n",
    "    f_area,\n",
    "]\n",
    "segment_funcs"
   ],
   "outputs": [
    {
     "data": {
      "text/plain": "[<function numpy.mean(a, axis=None, dtype=None, out=None, keepdims=<no value>, *, where=<no value>)>,\n <function numpy.std(a, axis=None, dtype=None, out=None, ddof=0, keepdims=<no value>, *, where=<no value>)>,\n <function numpy.var(a, axis=None, dtype=None, out=None, ddof=0, keepdims=<no value>, *, where=<no value>)>,\n <function numpy.amax(a, axis=None, out=None, keepdims=<no value>, initial=<no value>, where=<no value>)>,\n <function numpy.amin(a, axis=None, out=None, keepdims=<no value>, initial=<no value>, where=<no value>)>,\n <function scipy.stats.stats.skew(a, axis=0, bias=True, nan_policy='propagate')>,\n <function scipy.stats.stats.kurtosis(a, axis=0, fisher=True, bias=True, nan_policy='propagate')>,\n FuncWrapper(quantile, ['quantile_0.25', 'quantile_0.5', 'quantile_0.75'], {'q': [0.25, 0.5, 0.75]}),\n FuncWrapper(slope, ['slope'], {}),\n FuncWrapper(<lambda>, ['rms'], {}),\n FuncWrapper(sum, ['area'], {})]"
     },
     "execution_count": 10,
     "metadata": {},
     "output_type": "execute_result"
    }
   ],
   "metadata": {}
  },
  {
   "cell_type": "markdown",
   "source": [
    "## Single series feature extraction"
   ],
   "metadata": {
    "tags": []
   }
  },
  {
   "cell_type": "markdown",
   "source": [
    "The defined functions above will be encapsulated in a [FeatureDescriptor](https://predict-idlab.github.io/tsflex/features/index.html#tsflex.features.FeatureDescriptor) object.\n",
    "\n",
    "A `FeatureDescriptor` describes a feature, and has 4 main attributes:\n",
    "\n",
    "<center>\n",
    "\n",
    "## Featuredescriptor constructor args:\n",
    "\n",
    "|  attribute \t|                  type                 \t| info                                                                                                             \t|\n",
    "|-----------:\t|:-------------------------------------:\t|------------------------------------------------------------------------------------------------------------------\t|\n",
    "| `function` \t| Union[Callable, <br>NumpyFuncWrapper] \t| The `function` that calculates this feature.                                                                     \t|\n",
    "|      `key` \t|                 Tuple[str, ...]                \t| The signal key; i.e., the `pd.DataFrame` column name or <br> `pd.Series` name on which the function will operate.     \t|\n",
    "|   `window` \t|                  Union[str, pd.timedelta]               \t| The window size on which this feature will be applied, <br> expressed in a **time-based** manner. \t|\n",
    "|   `stride` \t|                  Union[str, pd.timedelta]                  \t| The stride of the window rolling process, also as <br> expressed in a **time-based** manner|\n",
    "\n",
    "</center>\n",
    "\n",
    "\n",
    "**note**: [MultipleFeatureDescriptor](https://predict-idlab.github.io/tsflex/features/index.html#tsflex.features.MultipleFeatureDescriptors) is actaully a factory for `FeatureDescriptor` objects."
   ],
   "metadata": {}
  },
  {
   "cell_type": "markdown",
   "source": [
    "### Fixed window size & stride"
   ],
   "metadata": {
    "tags": []
   }
  },
  {
   "cell_type": "markdown",
   "source": [
    "**note**: this functionality is exposed by most existing time-series libraries (often on a sample-based matter).\n",
    "\n",
    "In this example, we will use the _temperature_ signal from a wearable"
   ],
   "metadata": {}
  },
  {
   "cell_type": "code",
   "execution_count": 11,
   "source": [
    "df_tmp.sample(2)"
   ],
   "outputs": [
    {
     "data": {
      "text/plain": "                                        TMP\ntimestamp                                  \n2017-06-13 16:01:05.500000+02:00  32.630001\n2017-06-13 15:47:05.500000+02:00  33.869999",
      "text/html": "<div>\n<style scoped>\n    .dataframe tbody tr th:only-of-type {\n        vertical-align: middle;\n    }\n\n    .dataframe tbody tr th {\n        vertical-align: top;\n    }\n\n    .dataframe thead th {\n        text-align: right;\n    }\n</style>\n<table border=\"1\" class=\"dataframe\">\n  <thead>\n    <tr style=\"text-align: right;\">\n      <th></th>\n      <th>TMP</th>\n    </tr>\n    <tr>\n      <th>timestamp</th>\n      <th></th>\n    </tr>\n  </thead>\n  <tbody>\n    <tr>\n      <th>2017-06-13 16:01:05.500000+02:00</th>\n      <td>32.630001</td>\n    </tr>\n    <tr>\n      <th>2017-06-13 15:47:05.500000+02:00</th>\n      <td>33.869999</td>\n    </tr>\n  </tbody>\n</table>\n</div>"
     },
     "execution_count": 11,
     "metadata": {},
     "output_type": "execute_result"
    }
   ],
   "metadata": {
    "collapsed": false,
    "pycharm": {
     "name": "#%%\n"
    }
   }
  },
  {
   "cell_type": "markdown",
   "source": [
    "Note how the `TMP`-column is used as signal_key in the `FeatureCollection`"
   ],
   "metadata": {}
  },
  {
   "cell_type": "code",
   "execution_count": 12,
   "source": [
    "# Define the sample frequency and window size\n",
    "tmp_feat_extr = FeatureCollection(\n",
    "    feature_descriptors=[\n",
    "        MultipleFeatureDescriptors(\n",
    "            functions=segment_funcs,  # The list of functions we constructed earlier\n",
    "            series_names=[\"TMP\"],\n",
    "            windows='60s',\n",
    "            strides='30s',\n",
    "        )\n",
    "    ]\n",
    ")\n",
    "\n",
    "# The FeatureCollection's __repr__() gives a nice overview of the structure\n",
    "tmp_feat_extr"
   ],
   "outputs": [
    {
     "data": {
      "text/plain": "TMP: (\n\twin: 1m    , stride: 30s: [\n\t\tFeatureDescriptor - func: FuncWrapper(mean, ['mean'], {}),\n\t\tFeatureDescriptor - func: FuncWrapper(std, ['std'], {}),\n\t\tFeatureDescriptor - func: FuncWrapper(var, ['var'], {}),\n\t\tFeatureDescriptor - func: FuncWrapper(amax, ['amax'], {}),\n\t\tFeatureDescriptor - func: FuncWrapper(amin, ['amin'], {}),\n\t\tFeatureDescriptor - func: FuncWrapper(skew, ['skew'], {}),\n\t\tFeatureDescriptor - func: FuncWrapper(kurtosis, ['kurtosis'], {}),\n\t\tFeatureDescriptor - func: FuncWrapper(quantile, ['quantile_0.25', 'quantile_0.5', 'quantile_0.75'], {'q': [0.25, 0.5, 0.75]}),\n\t\tFeatureDescriptor - func: FuncWrapper(slope, ['slope'], {}),\n\t\tFeatureDescriptor - func: FuncWrapper(<lambda>, ['rms'], {}),\n\t\tFeatureDescriptor - func: FuncWrapper(sum, ['area'], {}),\n\t]\n)"
     },
     "execution_count": 12,
     "metadata": {},
     "output_type": "execute_result"
    }
   ],
   "metadata": {
    "tags": []
   }
  },
  {
   "cell_type": "code",
   "execution_count": 13,
   "source": [
    "# to extract the features we just call the collection's `calculate()` function\n",
    "extracted_feats = tmp_feat_extr.calculate(\n",
    "    data=out_data,    # The signals on which features are calculated\n",
    "    # NOTE: out_data withholds the updated TMP signal\n",
    "    return_df=True,  # If true, an outer merge on the feature-outputs will be performed\n",
    "    n_jobs=2         # If > 1, the feature extraction is parallellized\n",
    ")\n",
    "\n",
    "extracted_feats.sample(2)"
   ],
   "outputs": [
    {
     "data": {
      "text/plain": "                           TMP__mean__w=1m_s=30s  TMP__std__w=1m_s=30s  \\\ntimestamp                                                                \n2017-06-13 15:12:13+02:00              34.596996              0.029173   \n2017-06-13 15:27:43+02:00              34.168499              0.036960   \n\n                           TMP__amax__w=1m_s=30s  TMP__var__w=1m_s=30s  \\\ntimestamp                                                                \n2017-06-13 15:12:13+02:00              34.650002              0.000851   \n2017-06-13 15:27:43+02:00              34.230000              0.001366   \n\n                           TMP__amin__w=1m_s=30s  TMP__kurtosis__w=1m_s=30s  \\\ntimestamp                                                                     \n2017-06-13 15:12:13+02:00              34.529999                  -0.567899   \n2017-06-13 15:27:43+02:00              34.090000                  -0.164706   \n\n                           TMP__skew__w=1m_s=30s  \\\ntimestamp                                          \n2017-06-13 15:12:13+02:00              -0.169334   \n2017-06-13 15:27:43+02:00              -0.499020   \n\n                           TMP__quantile_0.25__w=1m_s=30s  \\\ntimestamp                                                   \n2017-06-13 15:12:13+02:00                       34.590000   \n2017-06-13 15:27:43+02:00                       34.150002   \n\n                           TMP__quantile_0.5__w=1m_s=30s  \\\ntimestamp                                                  \n2017-06-13 15:12:13+02:00                          34.59   \n2017-06-13 15:27:43+02:00                          34.18   \n\n                           TMP__quantile_0.75__w=1m_s=30s  \\\ntimestamp                                                   \n2017-06-13 15:12:13+02:00                       34.610001   \n2017-06-13 15:27:43+02:00                       34.180000   \n\n                           TMP__slope__w=1m_s=30s  TMP__area__w=1m_s=30s  \\\ntimestamp                                                                  \n2017-06-13 15:12:13+02:00               -0.000151            8303.279297   \n2017-06-13 15:27:43+02:00               -0.000361            8200.439453   \n\n                           TMP__rms__w=1m_s=30s  \ntimestamp                                        \n2017-06-13 15:12:13+02:00             34.597015  \n2017-06-13 15:27:43+02:00             34.168522  ",
      "text/html": "<div>\n<style scoped>\n    .dataframe tbody tr th:only-of-type {\n        vertical-align: middle;\n    }\n\n    .dataframe tbody tr th {\n        vertical-align: top;\n    }\n\n    .dataframe thead th {\n        text-align: right;\n    }\n</style>\n<table border=\"1\" class=\"dataframe\">\n  <thead>\n    <tr style=\"text-align: right;\">\n      <th></th>\n      <th>TMP__mean__w=1m_s=30s</th>\n      <th>TMP__std__w=1m_s=30s</th>\n      <th>TMP__amax__w=1m_s=30s</th>\n      <th>TMP__var__w=1m_s=30s</th>\n      <th>TMP__amin__w=1m_s=30s</th>\n      <th>TMP__kurtosis__w=1m_s=30s</th>\n      <th>TMP__skew__w=1m_s=30s</th>\n      <th>TMP__quantile_0.25__w=1m_s=30s</th>\n      <th>TMP__quantile_0.5__w=1m_s=30s</th>\n      <th>TMP__quantile_0.75__w=1m_s=30s</th>\n      <th>TMP__slope__w=1m_s=30s</th>\n      <th>TMP__area__w=1m_s=30s</th>\n      <th>TMP__rms__w=1m_s=30s</th>\n    </tr>\n    <tr>\n      <th>timestamp</th>\n      <th></th>\n      <th></th>\n      <th></th>\n      <th></th>\n      <th></th>\n      <th></th>\n      <th></th>\n      <th></th>\n      <th></th>\n      <th></th>\n      <th></th>\n      <th></th>\n      <th></th>\n    </tr>\n  </thead>\n  <tbody>\n    <tr>\n      <th>2017-06-13 15:12:13+02:00</th>\n      <td>34.596996</td>\n      <td>0.029173</td>\n      <td>34.650002</td>\n      <td>0.000851</td>\n      <td>34.529999</td>\n      <td>-0.567899</td>\n      <td>-0.169334</td>\n      <td>34.590000</td>\n      <td>34.59</td>\n      <td>34.610001</td>\n      <td>-0.000151</td>\n      <td>8303.279297</td>\n      <td>34.597015</td>\n    </tr>\n    <tr>\n      <th>2017-06-13 15:27:43+02:00</th>\n      <td>34.168499</td>\n      <td>0.036960</td>\n      <td>34.230000</td>\n      <td>0.001366</td>\n      <td>34.090000</td>\n      <td>-0.164706</td>\n      <td>-0.499020</td>\n      <td>34.150002</td>\n      <td>34.18</td>\n      <td>34.180000</td>\n      <td>-0.000361</td>\n      <td>8200.439453</td>\n      <td>34.168522</td>\n    </tr>\n  </tbody>\n</table>\n</div>"
     },
     "execution_count": 13,
     "metadata": {},
     "output_type": "execute_result"
    }
   ],
   "metadata": {}
  },
  {
   "cell_type": "markdown",
   "source": [
    "### Multiple `time-based` window sizes and strides"
   ],
   "metadata": {}
  },
  {
   "cell_type": "markdown",
   "source": [
    "_In this example, we use **multiple** stride-window-size combinations on a wearables' ElectorDermal Activity (EDA)_"
   ],
   "metadata": {}
  },
  {
   "cell_type": "markdown",
   "source": [
    "Note that we do not use int-based window-stride combinations, but `time-based` ones. Also take a closer look at the `__repr__` string."
   ],
   "metadata": {}
  },
  {
   "cell_type": "code",
   "execution_count": 14,
   "source": [
    "# PoC: we will select a random combination of the window_size stride combination\n",
    "window_size_s = ['30s', '120s', '90s', '1h']\n",
    "stride_size_s = ['15s', '30s']\n",
    "\n",
    "import random\n",
    "\n",
    "gsr_feat_extr = FeatureCollection(\n",
    "    [\n",
    "        FeatureDescriptor(\n",
    "            series_name=\"EDA\",\n",
    "            window=random.choice(window_size_s),\n",
    "            stride=random.choice(stride_size_s),\n",
    "            function=f,\n",
    "        )\n",
    "        for f in segment_funcs\n",
    "    ]\n",
    ")\n",
    "\n",
    "# the __repr__ string outputs the windows & strides in a time-string representation :)\n",
    "print(gsr_feat_extr)\n",
    "print('-'*60)\n",
    "gsr_feat_extr.calculate(df_gsr, return_df=True, show_progress=False, n_jobs=None).sample(2)"
   ],
   "outputs": [
    {
     "name": "stdout",
     "output_type": "stream",
     "text": [
      "EDA: (\n",
      "\twin: 2m    , stride: 30s: [\n",
      "\t\tFeatureDescriptor - func: FuncWrapper(mean, ['mean'], {}),\n",
      "\t\tFeatureDescriptor - func: FuncWrapper(var, ['var'], {}),\n",
      "\t\tFeatureDescriptor - func: FuncWrapper(skew, ['skew'], {}),\n",
      "\t]\n",
      "\twin: 1m30s , stride: 30s: [\n",
      "\t\tFeatureDescriptor - func: FuncWrapper(std, ['std'], {}),\n",
      "\t\tFeatureDescriptor - func: FuncWrapper(kurtosis, ['kurtosis'], {}),\n",
      "\t]\n",
      "\twin: 30s   , stride: 15s: [\n",
      "\t\tFeatureDescriptor - func: FuncWrapper(amax, ['amax'], {}),\n",
      "\t]\n",
      "\twin: 1h    , stride: 15s: [\n",
      "\t\tFeatureDescriptor - func: FuncWrapper(amin, ['amin'], {}),\n",
      "\t]\n",
      "\twin: 2m    , stride: 15s: [\n",
      "\t\tFeatureDescriptor - func: FuncWrapper(quantile, ['quantile_0.25', 'quantile_0.5', 'quantile_0.75'], {'q': [0.25, 0.5, 0.75]}),\n",
      "\t\tFeatureDescriptor - func: FuncWrapper(sum, ['area'], {}),\n",
      "\t]\n",
      "\twin: 1m30s , stride: 15s: [\n",
      "\t\tFeatureDescriptor - func: FuncWrapper(slope, ['slope'], {}),\n",
      "\t]\n",
      "\twin: 30s   , stride: 30s: [\n",
      "\t\tFeatureDescriptor - func: FuncWrapper(<lambda>, ['rms'], {}),\n",
      "\t]\n",
      ")\n",
      "\n",
      "------------------------------------------------------------\n"
     ]
    },
    {
     "data": {
      "text/plain": "                           EDA__mean__w=2m_s=30s  EDA__amax__w=30s_s=15s  \\\ntimestamp                                                                  \n2017-06-13 15:16:13+02:00               1.502608                1.478893   \n2017-06-13 14:27:28+02:00                    NaN                0.904480   \n\n                           EDA__area__w=2m_s=15s  EDA__amin__w=1h_s=15s  \\\ntimestamp                                                                 \n2017-06-13 15:16:13+02:00             721.251831                    NaN   \n2017-06-13 14:27:28+02:00             378.004639                    NaN   \n\n                           EDA__rms__w=30s_s=30s  EDA__var__w=2m_s=30s  \\\ntimestamp                                                                \n2017-06-13 15:16:13+02:00               1.450556              0.004926   \n2017-06-13 14:27:28+02:00                    NaN                   NaN   \n\n                           EDA__std__w=1m30s_s=30s  \\\ntimestamp                                            \n2017-06-13 15:16:13+02:00                 0.046663   \n2017-06-13 14:27:28+02:00                      NaN   \n\n                           EDA__kurtosis__w=1m30s_s=30s  \\\ntimestamp                                                 \n2017-06-13 15:16:13+02:00                      1.073257   \n2017-06-13 14:27:28+02:00                           NaN   \n\n                           EDA__slope__w=1m30s_s=15s  \\\ntimestamp                                              \n2017-06-13 15:16:13+02:00                  -0.000103   \n2017-06-13 14:27:28+02:00                   0.000477   \n\n                           EDA__quantile_0.25__w=2m_s=15s  \\\ntimestamp                                                   \n2017-06-13 15:16:13+02:00                        1.446920   \n2017-06-13 14:27:28+02:00                        0.633344   \n\n                           EDA__quantile_0.5__w=2m_s=15s  \\\ntimestamp                                                  \n2017-06-13 15:16:13+02:00                       1.483469   \n2017-06-13 14:27:28+02:00                       0.863553   \n\n                           EDA__quantile_0.75__w=2m_s=15s  \\\ntimestamp                                                   \n2017-06-13 15:16:13+02:00                        1.550713   \n2017-06-13 14:27:28+02:00                        0.889452   \n\n                           EDA__skew__w=2m_s=30s  \ntimestamp                                         \n2017-06-13 15:16:13+02:00                0.74839  \n2017-06-13 14:27:28+02:00                    NaN  ",
      "text/html": "<div>\n<style scoped>\n    .dataframe tbody tr th:only-of-type {\n        vertical-align: middle;\n    }\n\n    .dataframe tbody tr th {\n        vertical-align: top;\n    }\n\n    .dataframe thead th {\n        text-align: right;\n    }\n</style>\n<table border=\"1\" class=\"dataframe\">\n  <thead>\n    <tr style=\"text-align: right;\">\n      <th></th>\n      <th>EDA__mean__w=2m_s=30s</th>\n      <th>EDA__amax__w=30s_s=15s</th>\n      <th>EDA__area__w=2m_s=15s</th>\n      <th>EDA__amin__w=1h_s=15s</th>\n      <th>EDA__rms__w=30s_s=30s</th>\n      <th>EDA__var__w=2m_s=30s</th>\n      <th>EDA__std__w=1m30s_s=30s</th>\n      <th>EDA__kurtosis__w=1m30s_s=30s</th>\n      <th>EDA__slope__w=1m30s_s=15s</th>\n      <th>EDA__quantile_0.25__w=2m_s=15s</th>\n      <th>EDA__quantile_0.5__w=2m_s=15s</th>\n      <th>EDA__quantile_0.75__w=2m_s=15s</th>\n      <th>EDA__skew__w=2m_s=30s</th>\n    </tr>\n    <tr>\n      <th>timestamp</th>\n      <th></th>\n      <th></th>\n      <th></th>\n      <th></th>\n      <th></th>\n      <th></th>\n      <th></th>\n      <th></th>\n      <th></th>\n      <th></th>\n      <th></th>\n      <th></th>\n      <th></th>\n    </tr>\n  </thead>\n  <tbody>\n    <tr>\n      <th>2017-06-13 15:16:13+02:00</th>\n      <td>1.502608</td>\n      <td>1.478893</td>\n      <td>721.251831</td>\n      <td>NaN</td>\n      <td>1.450556</td>\n      <td>0.004926</td>\n      <td>0.046663</td>\n      <td>1.073257</td>\n      <td>-0.000103</td>\n      <td>1.446920</td>\n      <td>1.483469</td>\n      <td>1.550713</td>\n      <td>0.74839</td>\n    </tr>\n    <tr>\n      <th>2017-06-13 14:27:28+02:00</th>\n      <td>NaN</td>\n      <td>0.904480</td>\n      <td>378.004639</td>\n      <td>NaN</td>\n      <td>NaN</td>\n      <td>NaN</td>\n      <td>NaN</td>\n      <td>NaN</td>\n      <td>0.000477</td>\n      <td>0.633344</td>\n      <td>0.863553</td>\n      <td>0.889452</td>\n      <td>NaN</td>\n    </tr>\n  </tbody>\n</table>\n</div>"
     },
     "execution_count": 14,
     "metadata": {},
     "output_type": "execute_result"
    }
   ],
   "metadata": {}
  },
  {
   "cell_type": "markdown",
   "source": [
    "**note**: The `NaN` values in the above pd.DataFrame are cause by the outer merge which we do to retain the time-indices. Various feature were extracted at different windows & strides, thus making few features share the same time-indices.\n",
    "<br><br>\n",
    "If we set `return_df=False`, a `List[pd.Series]` will be returned"
   ],
   "metadata": {}
  },
  {
   "cell_type": "code",
   "execution_count": 15,
   "source": [
    "feat_list : List[pd.Series] = gsr_feat_extr.calculate(df_gsr, return_df=False, show_progress=False, n_jobs=None)\n",
    "print(len(feat_list))\n",
    "feat_list[0].sample(3)"
   ],
   "outputs": [
    {
     "name": "stdout",
     "output_type": "stream",
     "text": [
      "11\n"
     ]
    },
    {
     "data": {
      "text/plain": "                           EDA__amax__w=30s_s=15s\ntimestamp                                        \n2017-06-13 14:37:58+02:00                1.008074\n2017-06-13 14:53:28+02:00                0.800954\n2017-06-13 15:59:13+02:00                2.201695",
      "text/html": "<div>\n<style scoped>\n    .dataframe tbody tr th:only-of-type {\n        vertical-align: middle;\n    }\n\n    .dataframe tbody tr th {\n        vertical-align: top;\n    }\n\n    .dataframe thead th {\n        text-align: right;\n    }\n</style>\n<table border=\"1\" class=\"dataframe\">\n  <thead>\n    <tr style=\"text-align: right;\">\n      <th></th>\n      <th>EDA__amax__w=30s_s=15s</th>\n    </tr>\n    <tr>\n      <th>timestamp</th>\n      <th></th>\n    </tr>\n  </thead>\n  <tbody>\n    <tr>\n      <th>2017-06-13 14:37:58+02:00</th>\n      <td>1.008074</td>\n    </tr>\n    <tr>\n      <th>2017-06-13 14:53:28+02:00</th>\n      <td>0.800954</td>\n    </tr>\n    <tr>\n      <th>2017-06-13 15:59:13+02:00</th>\n      <td>2.201695</td>\n    </tr>\n  </tbody>\n</table>\n</div>"
     },
     "execution_count": 15,
     "metadata": {},
     "output_type": "execute_result"
    }
   ],
   "metadata": {}
  },
  {
   "cell_type": "markdown",
   "source": [
    "## Multiple series feature extraction"
   ],
   "metadata": {
    "tags": []
   }
  },
  {
   "cell_type": "code",
   "execution_count": 16,
   "source": [
    "# Construct the feature FeatureCollection\n",
    "#   =  higher order wrapper which aggregates the featuredescriptions\n",
    "multimodal_feature_extraction = FeatureCollection(\n",
    "    feature_descriptors=[gsr_feat_extr, tmp_feat_extr]\n",
    ")\n",
    "\n",
    "print(multimodal_feature_extraction)\n",
    "print('-'*60)\n",
    "\n",
    "df_feat = multimodal_feature_extraction.calculate(\n",
    "    [df_gsr, df_tmp], return_df=True\n",
    ")\n",
    "df_feat.sample(2)"
   ],
   "outputs": [
    {
     "name": "stdout",
     "output_type": "stream",
     "text": [
      "EDA: (\n",
      "\twin: 2m    , stride: 30s: [\n",
      "\t\tFeatureDescriptor - func: FuncWrapper(mean, ['mean'], {}),\n",
      "\t\tFeatureDescriptor - func: FuncWrapper(var, ['var'], {}),\n",
      "\t\tFeatureDescriptor - func: FuncWrapper(skew, ['skew'], {}),\n",
      "\t]\n",
      "\twin: 1m30s , stride: 30s: [\n",
      "\t\tFeatureDescriptor - func: FuncWrapper(std, ['std'], {}),\n",
      "\t\tFeatureDescriptor - func: FuncWrapper(kurtosis, ['kurtosis'], {}),\n",
      "\t]\n",
      "\twin: 30s   , stride: 15s: [\n",
      "\t\tFeatureDescriptor - func: FuncWrapper(amax, ['amax'], {}),\n",
      "\t]\n",
      "\twin: 1h    , stride: 15s: [\n",
      "\t\tFeatureDescriptor - func: FuncWrapper(amin, ['amin'], {}),\n",
      "\t]\n",
      "\twin: 2m    , stride: 15s: [\n",
      "\t\tFeatureDescriptor - func: FuncWrapper(quantile, ['quantile_0.25', 'quantile_0.5', 'quantile_0.75'], {'q': [0.25, 0.5, 0.75]}),\n",
      "\t\tFeatureDescriptor - func: FuncWrapper(sum, ['area'], {}),\n",
      "\t]\n",
      "\twin: 1m30s , stride: 15s: [\n",
      "\t\tFeatureDescriptor - func: FuncWrapper(slope, ['slope'], {}),\n",
      "\t]\n",
      "\twin: 30s   , stride: 30s: [\n",
      "\t\tFeatureDescriptor - func: FuncWrapper(<lambda>, ['rms'], {}),\n",
      "\t]\n",
      ")\n",
      "TMP: (\n",
      "\twin: 1m    , stride: 30s: [\n",
      "\t\tFeatureDescriptor - func: FuncWrapper(mean, ['mean'], {}),\n",
      "\t\tFeatureDescriptor - func: FuncWrapper(std, ['std'], {}),\n",
      "\t\tFeatureDescriptor - func: FuncWrapper(var, ['var'], {}),\n",
      "\t\tFeatureDescriptor - func: FuncWrapper(amax, ['amax'], {}),\n",
      "\t\tFeatureDescriptor - func: FuncWrapper(amin, ['amin'], {}),\n",
      "\t\tFeatureDescriptor - func: FuncWrapper(skew, ['skew'], {}),\n",
      "\t\tFeatureDescriptor - func: FuncWrapper(kurtosis, ['kurtosis'], {}),\n",
      "\t\tFeatureDescriptor - func: FuncWrapper(quantile, ['quantile_0.25', 'quantile_0.5', 'quantile_0.75'], {'q': [0.25, 0.5, 0.75]}),\n",
      "\t\tFeatureDescriptor - func: FuncWrapper(slope, ['slope'], {}),\n",
      "\t\tFeatureDescriptor - func: FuncWrapper(<lambda>, ['rms'], {}),\n",
      "\t\tFeatureDescriptor - func: FuncWrapper(sum, ['area'], {}),\n",
      "\t]\n",
      ")\n",
      "\n",
      "------------------------------------------------------------\n"
     ]
    },
    {
     "data": {
      "text/plain": "                           EDA__mean__w=2m_s=30s  EDA__amax__w=30s_s=15s  \\\ntimestamp                                                                  \n2017-06-13 14:58:13+02:00                0.76363                0.784328   \n2017-06-13 14:41:58+02:00                    NaN                0.925012   \n\n                           EDA__amin__w=1h_s=15s  EDA__area__w=2m_s=15s  \\\ntimestamp                                                                 \n2017-06-13 14:58:13+02:00                    NaN             366.542603   \n2017-06-13 14:41:58+02:00                    NaN             462.217804   \n\n                           EDA__rms__w=30s_s=30s  EDA__var__w=2m_s=30s  \\\ntimestamp                                                                \n2017-06-13 14:58:13+02:00               0.773541              0.000288   \n2017-06-13 14:41:58+02:00                    NaN                   NaN   \n\n                           TMP__amax__w=1m_s=30s  TMP__amin__w=1m_s=30s  \\\ntimestamp                                                                 \n2017-06-13 14:58:13+02:00              35.650002              35.450001   \n2017-06-13 14:41:58+02:00                    NaN                    NaN   \n\n                           TMP__mean__w=1m_s=30s  EDA__std__w=1m30s_s=30s  \\\ntimestamp                                                                   \n2017-06-13 14:58:13+02:00              35.536831                 0.019061   \n2017-06-13 14:41:58+02:00                    NaN                      NaN   \n\n                           ...  TMP__quantile_0.5__w=1m_s=30s  \\\ntimestamp                  ...                                  \n2017-06-13 14:58:13+02:00  ...                      35.529999   \n2017-06-13 14:41:58+02:00  ...                            NaN   \n\n                           TMP__quantile_0.75__w=1m_s=30s  \\\ntimestamp                                                   \n2017-06-13 14:58:13+02:00                           35.57   \n2017-06-13 14:41:58+02:00                             NaN   \n\n                           EDA__quantile_0.25__w=2m_s=15s  \\\ntimestamp                                                   \n2017-06-13 14:58:13+02:00                        0.764824   \n2017-06-13 14:41:58+02:00                        0.923733   \n\n                           EDA__quantile_0.5__w=2m_s=15s  \\\ntimestamp                                                  \n2017-06-13 14:58:13+02:00                       0.768981   \n2017-06-13 14:41:58+02:00                       0.965938   \n\n                           EDA__quantile_0.75__w=2m_s=15s  \\\ntimestamp                                                   \n2017-06-13 14:58:13+02:00                        0.770260   \n2017-06-13 14:41:58+02:00                        0.996633   \n\n                           EDA__kurtosis__w=1m30s_s=30s  \\\ntimestamp                                                 \n2017-06-13 14:58:13+02:00                      2.135251   \n2017-06-13 14:41:58+02:00                           NaN   \n\n                           EDA__skew__w=2m_s=30s  EDA__slope__w=1m30s_s=15s  \\\ntimestamp                                                                     \n2017-06-13 14:58:13+02:00              -2.262712                   0.000053   \n2017-06-13 14:41:58+02:00                    NaN                  -0.000328   \n\n                           TMP__kurtosis__w=1m_s=30s  TMP__skew__w=1m_s=30s  \ntimestamp                                                                    \n2017-06-13 14:58:13+02:00                  -0.535471               0.411049  \n2017-06-13 14:41:58+02:00                        NaN                    NaN  \n\n[2 rows x 26 columns]",
      "text/html": "<div>\n<style scoped>\n    .dataframe tbody tr th:only-of-type {\n        vertical-align: middle;\n    }\n\n    .dataframe tbody tr th {\n        vertical-align: top;\n    }\n\n    .dataframe thead th {\n        text-align: right;\n    }\n</style>\n<table border=\"1\" class=\"dataframe\">\n  <thead>\n    <tr style=\"text-align: right;\">\n      <th></th>\n      <th>EDA__mean__w=2m_s=30s</th>\n      <th>EDA__amax__w=30s_s=15s</th>\n      <th>EDA__amin__w=1h_s=15s</th>\n      <th>EDA__area__w=2m_s=15s</th>\n      <th>EDA__rms__w=30s_s=30s</th>\n      <th>EDA__var__w=2m_s=30s</th>\n      <th>TMP__amax__w=1m_s=30s</th>\n      <th>TMP__amin__w=1m_s=30s</th>\n      <th>TMP__mean__w=1m_s=30s</th>\n      <th>EDA__std__w=1m30s_s=30s</th>\n      <th>...</th>\n      <th>TMP__quantile_0.5__w=1m_s=30s</th>\n      <th>TMP__quantile_0.75__w=1m_s=30s</th>\n      <th>EDA__quantile_0.25__w=2m_s=15s</th>\n      <th>EDA__quantile_0.5__w=2m_s=15s</th>\n      <th>EDA__quantile_0.75__w=2m_s=15s</th>\n      <th>EDA__kurtosis__w=1m30s_s=30s</th>\n      <th>EDA__skew__w=2m_s=30s</th>\n      <th>EDA__slope__w=1m30s_s=15s</th>\n      <th>TMP__kurtosis__w=1m_s=30s</th>\n      <th>TMP__skew__w=1m_s=30s</th>\n    </tr>\n    <tr>\n      <th>timestamp</th>\n      <th></th>\n      <th></th>\n      <th></th>\n      <th></th>\n      <th></th>\n      <th></th>\n      <th></th>\n      <th></th>\n      <th></th>\n      <th></th>\n      <th></th>\n      <th></th>\n      <th></th>\n      <th></th>\n      <th></th>\n      <th></th>\n      <th></th>\n      <th></th>\n      <th></th>\n      <th></th>\n      <th></th>\n    </tr>\n  </thead>\n  <tbody>\n    <tr>\n      <th>2017-06-13 14:58:13+02:00</th>\n      <td>0.76363</td>\n      <td>0.784328</td>\n      <td>NaN</td>\n      <td>366.542603</td>\n      <td>0.773541</td>\n      <td>0.000288</td>\n      <td>35.650002</td>\n      <td>35.450001</td>\n      <td>35.536831</td>\n      <td>0.019061</td>\n      <td>...</td>\n      <td>35.529999</td>\n      <td>35.57</td>\n      <td>0.764824</td>\n      <td>0.768981</td>\n      <td>0.770260</td>\n      <td>2.135251</td>\n      <td>-2.262712</td>\n      <td>0.000053</td>\n      <td>-0.535471</td>\n      <td>0.411049</td>\n    </tr>\n    <tr>\n      <th>2017-06-13 14:41:58+02:00</th>\n      <td>NaN</td>\n      <td>0.925012</td>\n      <td>NaN</td>\n      <td>462.217804</td>\n      <td>NaN</td>\n      <td>NaN</td>\n      <td>NaN</td>\n      <td>NaN</td>\n      <td>NaN</td>\n      <td>NaN</td>\n      <td>...</td>\n      <td>NaN</td>\n      <td>NaN</td>\n      <td>0.923733</td>\n      <td>0.965938</td>\n      <td>0.996633</td>\n      <td>NaN</td>\n      <td>NaN</td>\n      <td>-0.000328</td>\n      <td>NaN</td>\n      <td>NaN</td>\n    </tr>\n  </tbody>\n</table>\n<p>2 rows × 26 columns</p>\n</div>"
     },
     "execution_count": 16,
     "metadata": {},
     "output_type": "execute_result"
    }
   ],
   "metadata": {
    "tags": []
   }
  },
  {
   "cell_type": "markdown",
   "source": [
    "## Logging"
   ],
   "metadata": {}
  },
  {
   "cell_type": "markdown",
   "source": [
    "The `FeatureCollection` can also log the duration of it's `Features`\n",
    "\n",
    "To do so, one needs to set the `logging_file_path` argumetn and then call the `get_feature_logs()` method with this corresponding path to see the output dataframe."
   ],
   "metadata": {}
  },
  {
   "cell_type": "code",
   "execution_count": 17,
   "source": [
    "multimodal_feature_extraction.calculate(out_data, logging_file_path=\"example_feature_logs.log\");"
   ],
   "outputs": [
    {
     "name": "stderr",
     "output_type": "stream",
     "text": [
      "/home/jonas/git/gIDLab/predict/time_series/tsflex/utils/logging.py:45: RuntimeWarning: Logging file (example_feature_logs.log) already exists. This file will be overwritten!\n",
      "  RuntimeWarning,\n"
     ]
    }
   ],
   "metadata": {}
  },
  {
   "cell_type": "code",
   "execution_count": 18,
   "source": [
    "get_feature_logs(\"example_feature_logs.log\")"
   ],
   "outputs": [
    {
     "data": {
      "text/plain": "                  log_time  function series_names window stride  \\\n0  2021-07-28 11:50:35.931      mean       (EDA,)     2m    30s   \n1  2021-07-28 11:50:35.936       var       (EDA,)     2m    30s   \n2  2021-07-28 11:50:35.937      amax       (EDA,)    30s    15s   \n3  2021-07-28 11:50:35.940      amin       (EDA,)     1h    15s   \n4  2021-07-28 11:50:35.942       sum       (EDA,)     2m    15s   \n5  2021-07-28 11:50:35.947  <lambda>       (EDA,)    30s    30s   \n6  2021-07-28 11:50:35.947       std       (EDA,)  1m30s    30s   \n7  2021-07-28 11:50:35.949      amin       (TMP,)     1m    30s   \n8  2021-07-28 11:50:35.950      amax       (TMP,)     1m    30s   \n9  2021-07-28 11:50:35.951      mean       (TMP,)     1m    30s   \n10 2021-07-28 11:50:35.955       std       (TMP,)     1m    30s   \n11 2021-07-28 11:50:35.959       sum       (TMP,)     1m    30s   \n12 2021-07-28 11:50:35.960       var       (TMP,)     1m    30s   \n13 2021-07-28 11:50:35.962  <lambda>       (TMP,)     1m    30s   \n14 2021-07-28 11:50:35.978  quantile       (TMP,)     1m    30s   \n15 2021-07-28 11:50:35.984     slope       (TMP,)     1m    30s   \n16 2021-07-28 11:50:35.996  kurtosis       (EDA,)  1m30s    30s   \n17 2021-07-28 11:50:35.999     slope       (EDA,)  1m30s    15s   \n18 2021-07-28 11:50:36.015  kurtosis       (TMP,)     1m    30s   \n19 2021-07-28 11:50:36.016      skew       (TMP,)     1m    30s   \n20 2021-07-28 11:50:36.021  quantile       (EDA,)     2m    15s   \n21 2021-07-28 11:50:36.028      skew       (EDA,)     2m    30s   \n\n                    duration  \n0  0 days 00:00:00.008283854  \n1  0 days 00:00:00.012363434  \n2  0 days 00:00:00.003353119  \n3  0 days 00:00:00.003232241  \n4  0 days 00:00:00.004831553  \n5  0 days 00:00:00.009498835  \n6  0 days 00:00:00.021203518  \n7  0 days 00:00:00.002373695  \n8  0 days 00:00:00.002312422  \n9  0 days 00:00:00.011403084  \n10 0 days 00:00:00.013612032  \n11 0 days 00:00:00.002473116  \n12 0 days 00:00:00.016016722  \n13 0 days 00:00:00.008723497  \n14 0 days 00:00:00.026094198  \n15 0 days 00:00:00.030780554  \n16 0 days 00:00:00.070245743  \n17 0 days 00:00:00.062313318  \n18 0 days 00:00:00.063559055  \n19 0 days 00:00:00.065897703  \n20 0 days 00:00:00.084147692  \n21 0 days 00:00:00.104119539  ",
      "text/html": "<div>\n<style scoped>\n    .dataframe tbody tr th:only-of-type {\n        vertical-align: middle;\n    }\n\n    .dataframe tbody tr th {\n        vertical-align: top;\n    }\n\n    .dataframe thead th {\n        text-align: right;\n    }\n</style>\n<table border=\"1\" class=\"dataframe\">\n  <thead>\n    <tr style=\"text-align: right;\">\n      <th></th>\n      <th>log_time</th>\n      <th>function</th>\n      <th>series_names</th>\n      <th>window</th>\n      <th>stride</th>\n      <th>duration</th>\n    </tr>\n  </thead>\n  <tbody>\n    <tr>\n      <th>0</th>\n      <td>2021-07-28 11:50:35.931</td>\n      <td>mean</td>\n      <td>(EDA,)</td>\n      <td>2m</td>\n      <td>30s</td>\n      <td>0 days 00:00:00.008283854</td>\n    </tr>\n    <tr>\n      <th>1</th>\n      <td>2021-07-28 11:50:35.936</td>\n      <td>var</td>\n      <td>(EDA,)</td>\n      <td>2m</td>\n      <td>30s</td>\n      <td>0 days 00:00:00.012363434</td>\n    </tr>\n    <tr>\n      <th>2</th>\n      <td>2021-07-28 11:50:35.937</td>\n      <td>amax</td>\n      <td>(EDA,)</td>\n      <td>30s</td>\n      <td>15s</td>\n      <td>0 days 00:00:00.003353119</td>\n    </tr>\n    <tr>\n      <th>3</th>\n      <td>2021-07-28 11:50:35.940</td>\n      <td>amin</td>\n      <td>(EDA,)</td>\n      <td>1h</td>\n      <td>15s</td>\n      <td>0 days 00:00:00.003232241</td>\n    </tr>\n    <tr>\n      <th>4</th>\n      <td>2021-07-28 11:50:35.942</td>\n      <td>sum</td>\n      <td>(EDA,)</td>\n      <td>2m</td>\n      <td>15s</td>\n      <td>0 days 00:00:00.004831553</td>\n    </tr>\n    <tr>\n      <th>5</th>\n      <td>2021-07-28 11:50:35.947</td>\n      <td>&lt;lambda&gt;</td>\n      <td>(EDA,)</td>\n      <td>30s</td>\n      <td>30s</td>\n      <td>0 days 00:00:00.009498835</td>\n    </tr>\n    <tr>\n      <th>6</th>\n      <td>2021-07-28 11:50:35.947</td>\n      <td>std</td>\n      <td>(EDA,)</td>\n      <td>1m30s</td>\n      <td>30s</td>\n      <td>0 days 00:00:00.021203518</td>\n    </tr>\n    <tr>\n      <th>7</th>\n      <td>2021-07-28 11:50:35.949</td>\n      <td>amin</td>\n      <td>(TMP,)</td>\n      <td>1m</td>\n      <td>30s</td>\n      <td>0 days 00:00:00.002373695</td>\n    </tr>\n    <tr>\n      <th>8</th>\n      <td>2021-07-28 11:50:35.950</td>\n      <td>amax</td>\n      <td>(TMP,)</td>\n      <td>1m</td>\n      <td>30s</td>\n      <td>0 days 00:00:00.002312422</td>\n    </tr>\n    <tr>\n      <th>9</th>\n      <td>2021-07-28 11:50:35.951</td>\n      <td>mean</td>\n      <td>(TMP,)</td>\n      <td>1m</td>\n      <td>30s</td>\n      <td>0 days 00:00:00.011403084</td>\n    </tr>\n    <tr>\n      <th>10</th>\n      <td>2021-07-28 11:50:35.955</td>\n      <td>std</td>\n      <td>(TMP,)</td>\n      <td>1m</td>\n      <td>30s</td>\n      <td>0 days 00:00:00.013612032</td>\n    </tr>\n    <tr>\n      <th>11</th>\n      <td>2021-07-28 11:50:35.959</td>\n      <td>sum</td>\n      <td>(TMP,)</td>\n      <td>1m</td>\n      <td>30s</td>\n      <td>0 days 00:00:00.002473116</td>\n    </tr>\n    <tr>\n      <th>12</th>\n      <td>2021-07-28 11:50:35.960</td>\n      <td>var</td>\n      <td>(TMP,)</td>\n      <td>1m</td>\n      <td>30s</td>\n      <td>0 days 00:00:00.016016722</td>\n    </tr>\n    <tr>\n      <th>13</th>\n      <td>2021-07-28 11:50:35.962</td>\n      <td>&lt;lambda&gt;</td>\n      <td>(TMP,)</td>\n      <td>1m</td>\n      <td>30s</td>\n      <td>0 days 00:00:00.008723497</td>\n    </tr>\n    <tr>\n      <th>14</th>\n      <td>2021-07-28 11:50:35.978</td>\n      <td>quantile</td>\n      <td>(TMP,)</td>\n      <td>1m</td>\n      <td>30s</td>\n      <td>0 days 00:00:00.026094198</td>\n    </tr>\n    <tr>\n      <th>15</th>\n      <td>2021-07-28 11:50:35.984</td>\n      <td>slope</td>\n      <td>(TMP,)</td>\n      <td>1m</td>\n      <td>30s</td>\n      <td>0 days 00:00:00.030780554</td>\n    </tr>\n    <tr>\n      <th>16</th>\n      <td>2021-07-28 11:50:35.996</td>\n      <td>kurtosis</td>\n      <td>(EDA,)</td>\n      <td>1m30s</td>\n      <td>30s</td>\n      <td>0 days 00:00:00.070245743</td>\n    </tr>\n    <tr>\n      <th>17</th>\n      <td>2021-07-28 11:50:35.999</td>\n      <td>slope</td>\n      <td>(EDA,)</td>\n      <td>1m30s</td>\n      <td>15s</td>\n      <td>0 days 00:00:00.062313318</td>\n    </tr>\n    <tr>\n      <th>18</th>\n      <td>2021-07-28 11:50:36.015</td>\n      <td>kurtosis</td>\n      <td>(TMP,)</td>\n      <td>1m</td>\n      <td>30s</td>\n      <td>0 days 00:00:00.063559055</td>\n    </tr>\n    <tr>\n      <th>19</th>\n      <td>2021-07-28 11:50:36.016</td>\n      <td>skew</td>\n      <td>(TMP,)</td>\n      <td>1m</td>\n      <td>30s</td>\n      <td>0 days 00:00:00.065897703</td>\n    </tr>\n    <tr>\n      <th>20</th>\n      <td>2021-07-28 11:50:36.021</td>\n      <td>quantile</td>\n      <td>(EDA,)</td>\n      <td>2m</td>\n      <td>15s</td>\n      <td>0 days 00:00:00.084147692</td>\n    </tr>\n    <tr>\n      <th>21</th>\n      <td>2021-07-28 11:50:36.028</td>\n      <td>skew</td>\n      <td>(EDA,)</td>\n      <td>2m</td>\n      <td>30s</td>\n      <td>0 days 00:00:00.104119539</td>\n    </tr>\n  </tbody>\n</table>\n</div>"
     },
     "execution_count": 18,
     "metadata": {},
     "output_type": "execute_result"
    }
   ],
   "metadata": {}
  },
  {
   "cell_type": "markdown",
   "source": [
    "This is especially  useful for optimizing to see which features are the bottleneck"
   ],
   "metadata": {}
  },
  {
   "cell_type": "markdown",
   "source": [
    "## Use case: batch-based feature extraction"
   ],
   "metadata": {
    "tags": []
   }
  },
  {
   "cell_type": "code",
   "execution_count": 19,
   "source": [
    "from tsflex.chunking import chunk_data"
   ],
   "outputs": [],
   "metadata": {}
  },
  {
   "cell_type": "markdown",
   "source": [
    "* maybe execute this on a highdimensional series, like the `sleep data`"
   ],
   "metadata": {}
  },
  {
   "cell_type": "code",
   "execution_count": 20,
   "source": [
    "same_range_chunks = chunk_data(\n",
    "    data=[df_tmp],\n",
    "    fs_dict={\"EDA\": 4, \"TMP\": 4},\n",
    "    max_chunk_dur='10min'\n",
    ")"
   ],
   "outputs": [],
   "metadata": {}
  },
  {
   "cell_type": "markdown",
   "source": [
    "## Serialization"
   ],
   "metadata": {
    "tags": []
   }
  },
  {
   "cell_type": "markdown",
   "source": [
    "Serialization is mandatory to store and share your pipelines.\n",
    "`TODO`"
   ],
   "metadata": {}
  },
  {
   "cell_type": "code",
   "execution_count": 21,
   "source": [
    "multimodal_feature_extraction.serialize(\"data/example_serialization.pkl\")"
   ],
   "outputs": [],
   "metadata": {}
  },
  {
   "cell_type": "markdown",
   "source": [
    "# Bonus - Get LAYD: Look At Your Data"
   ],
   "metadata": {
    "tags": []
   }
  },
  {
   "cell_type": "markdown",
   "source": [
    "And as a bonus, for running/reading this notebook, you get some nice visualization code, for\n",
    "ofcourse time-series."
   ],
   "metadata": {}
  },
  {
   "cell_type": "code",
   "execution_count": 22,
   "source": [
    "# !pip install ipywidgets\n",
    "# !pip install plotly\n",
    "import ipywidgets as widgets\n",
    "import plotly.graph_objects as go\n",
    "from ipywidgets import interact_manual\n",
    "from plotly.subplots import make_subplots"
   ],
   "outputs": [],
   "metadata": {}
  },
  {
   "cell_type": "code",
   "execution_count": 23,
   "source": [
    "df_dict = {\"tmp\": df_tmp, \"gsr\": df_gsr}\n",
    "feat_widget = widgets.SelectMultiple(options=df_feat.columns)\n",
    "sig_widget = widgets.SelectMultiple(options=[\"gsr\", \"tmp\"])\n",
    "\n",
    "\n",
    "@interact_manual\n",
    "def visuzalize(features=feat_widget, signals=sig_widget):\n",
    "    row_titles = list(signals) + [\"features\"] if len(features) else []\n",
    "    fig = make_subplots(\n",
    "        rows=len(row_titles),\n",
    "        cols=1,\n",
    "        shared_xaxes=True,\n",
    "        vertical_spacing=0.1 / len(row_titles),\n",
    "        row_titles=row_titles,\n",
    "    )\n",
    "    fig.update_layout(height=300 * len(row_titles))\n",
    "\n",
    "    # first, visualize the \"raw\" signals\n",
    "    row_idx = 1\n",
    "    for sig in signals:\n",
    "        df_sig = df_dict[sig][10:].resample(\"1s\").mean()\n",
    "        for col in set(df_sig.columns).difference([\"index\", \"timestamp\"]):\n",
    "            fig.add_trace(\n",
    "                go.Scattergl(x=df_sig.index, y=df_sig[col], name=col, hoverinfo=\"skip\"),\n",
    "                row=row_idx,\n",
    "                col=1,\n",
    "            )\n",
    "        row_idx += 1\n",
    "\n",
    "    # then visualize the features\n",
    "    for feature in features:\n",
    "        df_ff = df_feat[feature].dropna()\n",
    "        fig.add_trace(\n",
    "            go.Scattergl(\n",
    "                connectgaps=True,\n",
    "                x=df_ff.index,\n",
    "                y=df_ff,\n",
    "                name=feature,\n",
    "                hoverinfo=\"skip\",\n",
    "                mode=\"markers\",\n",
    "                showlegend=True,\n",
    "            ),\n",
    "            row=row_idx,\n",
    "            col=1,\n",
    "        )\n",
    "\n",
    "    return fig.show()"
   ],
   "outputs": [
    {
     "data": {
      "text/plain": "interactive(children=(SelectMultiple(description='features', options=('EDA__mean__w=2m_s=30s', 'EDA__amax__w=3…",
      "application/vnd.jupyter.widget-view+json": {
       "version_major": 2,
       "version_minor": 0,
       "model_id": "8f027d22363d4765b49e26d3eb65ba7a"
      }
     },
     "metadata": {},
     "output_type": "display_data"
    }
   ],
   "metadata": {}
  },
  {
   "cell_type": "code",
   "execution_count": 23,
   "source": [],
   "outputs": [],
   "metadata": {
    "collapsed": false,
    "pycharm": {
     "name": "#%%\n"
    }
   }
  }
 ],
 "metadata": {
  "interpreter": {
   "hash": "bb9f799bd6e477ee22986cb3017f2b22764a696a803a513374640b5de3a6fdad"
  },
  "kernelspec": {
   "name": "python3",
   "language": "python",
   "display_name": "Python 3"
  },
  "language_info": {
   "name": "python",
   "version": ""
  },
  "metadata": {
   "interpreter": {
    "hash": "11faeb0f6d59efecf80914f265bd27ce56a3bb8010c5ee7c0d3aa19a8ad9fdc4"
   }
  },
  "toc-autonumbering": true
 },
 "nbformat": 4,
 "nbformat_minor": 4
}