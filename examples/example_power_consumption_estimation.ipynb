{
 "cells": [
  {
   "cell_type": "code",
   "execution_count": 1,
   "id": "6d012ea3-cce3-47eb-86f8-2e936dd690ea",
   "metadata": {},
   "outputs": [],
   "source": [
    "%load_ext autoreload\n",
    "%autoreload 2\n",
    "\n",
    "import urllib.request as urllib2\n",
    "from io import BytesIO\n",
    "from zipfile import ZipFile\n",
    "\n",
    "import numpy as np\n",
    "import pandas as pd"
   ]
  },
  {
   "cell_type": "markdown",
   "id": "5b7bc845-1c78-415d-96bf-9658f4f62e96",
   "metadata": {},
   "source": [
    "# loading in the data"
   ]
  },
  {
   "cell_type": "code",
   "execution_count": 2,
   "id": "528a337e-5492-4e2f-9c57-7506d4a5bc36",
   "metadata": {},
   "outputs": [
    {
     "name": "stdout",
     "output_type": "stream",
     "text": [
      "<class 'pandas.core.frame.DataFrame'>\n",
      "DatetimeIndex: 2075259 entries, 2006-12-16 17:24:00 to 2010-11-26 21:02:00\n",
      "Data columns (total 7 columns):\n",
      " #   Column                 Dtype  \n",
      "---  ------                 -----  \n",
      " 0   Global_active_power    float32\n",
      " 1   Global_reactive_power  float32\n",
      " 2   Voltage                float32\n",
      " 3   Global_intensity       float32\n",
      " 4   Sub_metering_1         float32\n",
      " 5   Sub_metering_2         float32\n",
      " 6   Sub_metering_3         float32\n",
      "dtypes: float32(7)\n",
      "memory usage: 71.2 MB\n"
     ]
    }
   ],
   "source": [
    "zip_url: str = \"https://archive.ics.uci.edu/ml/machine-learning-databases/00235/household_power_consumption.zip\"\n",
    "zipped_file_name: str = \"household_power_consumption.txt\"\n",
    "\n",
    "\n",
    "df_power_consumption: pd.DataFrame = pd.read_csv(\n",
    "    ZipFile(BytesIO(urllib2.urlopen(zip_url).read())).open(zipped_file_name),\n",
    "    sep=\";\",\n",
    "    parse_dates={\"timestamp\": [\"Date\", \"Time\"]},\n",
    "    infer_datetime_format=True,\n",
    "    low_memory=False,\n",
    "    na_values=[\"nan\", \"?\"],\n",
    "    index_col=\"timestamp\",\n",
    "    dtype=\"float32\",\n",
    ")\n",
    "\n",
    "df_power_consumption.info()"
   ]
  },
  {
   "cell_type": "code",
   "execution_count": 3,
   "id": "a47f894c-d219-4972-9616-8db26f225519",
   "metadata": {},
   "outputs": [
    {
     "data": {
      "text/html": [
       "<div>\n",
       "<style scoped>\n",
       "    .dataframe tbody tr th:only-of-type {\n",
       "        vertical-align: middle;\n",
       "    }\n",
       "\n",
       "    .dataframe tbody tr th {\n",
       "        vertical-align: top;\n",
       "    }\n",
       "\n",
       "    .dataframe thead th {\n",
       "        text-align: right;\n",
       "    }\n",
       "</style>\n",
       "<table border=\"1\" class=\"dataframe\">\n",
       "  <thead>\n",
       "    <tr style=\"text-align: right;\">\n",
       "      <th></th>\n",
       "      <th>Global_active_power</th>\n",
       "      <th>Global_reactive_power</th>\n",
       "      <th>Voltage</th>\n",
       "      <th>Global_intensity</th>\n",
       "      <th>Sub_metering_1</th>\n",
       "      <th>Sub_metering_2</th>\n",
       "      <th>Sub_metering_3</th>\n",
       "    </tr>\n",
       "    <tr>\n",
       "      <th>timestamp</th>\n",
       "      <th></th>\n",
       "      <th></th>\n",
       "      <th></th>\n",
       "      <th></th>\n",
       "      <th></th>\n",
       "      <th></th>\n",
       "      <th></th>\n",
       "    </tr>\n",
       "  </thead>\n",
       "  <tbody>\n",
       "    <tr>\n",
       "      <th>2008-05-25 09:44:00</th>\n",
       "      <td>0.678</td>\n",
       "      <td>0.150</td>\n",
       "      <td>237.690002</td>\n",
       "      <td>3.0</td>\n",
       "      <td>0.0</td>\n",
       "      <td>1.0</td>\n",
       "      <td>1.0</td>\n",
       "    </tr>\n",
       "    <tr>\n",
       "      <th>2009-09-06 21:38:00</th>\n",
       "      <td>2.616</td>\n",
       "      <td>0.328</td>\n",
       "      <td>239.720001</td>\n",
       "      <td>11.0</td>\n",
       "      <td>0.0</td>\n",
       "      <td>1.0</td>\n",
       "      <td>19.0</td>\n",
       "    </tr>\n",
       "  </tbody>\n",
       "</table>\n",
       "</div>"
      ],
      "text/plain": [
       "                     Global_active_power  Global_reactive_power     Voltage  \\\n",
       "timestamp                                                                     \n",
       "2008-05-25 09:44:00                0.678                  0.150  237.690002   \n",
       "2009-09-06 21:38:00                2.616                  0.328  239.720001   \n",
       "\n",
       "                     Global_intensity  Sub_metering_1  Sub_metering_2  \\\n",
       "timestamp                                                               \n",
       "2008-05-25 09:44:00               3.0             0.0             1.0   \n",
       "2009-09-06 21:38:00              11.0             0.0             1.0   \n",
       "\n",
       "                     Sub_metering_3  \n",
       "timestamp                            \n",
       "2008-05-25 09:44:00             1.0  \n",
       "2009-09-06 21:38:00            19.0  "
      ]
     },
     "execution_count": 3,
     "metadata": {},
     "output_type": "execute_result"
    }
   ],
   "source": [
    "df_power_consumption.sample(2)"
   ]
  },
  {
   "cell_type": "code",
   "execution_count": 4,
   "id": "5039c919-3d3b-4ecb-b948-e35ce9068b97",
   "metadata": {},
   "outputs": [
    {
     "data": {
      "text/plain": [
       "Global_active_power      25979\n",
       "Global_reactive_power    25979\n",
       "Voltage                  25979\n",
       "Global_intensity         25979\n",
       "Sub_metering_1           25979\n",
       "Sub_metering_2           25979\n",
       "Sub_metering_3           25979\n",
       "dtype: int64"
      ]
     },
     "execution_count": 4,
     "metadata": {},
     "output_type": "execute_result"
    }
   ],
   "source": [
    "df_power_consumption.isnull().sum()"
   ]
  },
  {
   "cell_type": "code",
   "execution_count": 5,
   "id": "5d31419e-06d0-4094-b1bf-d3e6ad67e17a",
   "metadata": {},
   "outputs": [
    {
     "data": {
      "text/plain": [
       "(2075259, 7)"
      ]
     },
     "execution_count": 5,
     "metadata": {},
     "output_type": "execute_result"
    }
   ],
   "source": [
    "df_power_consumption.shape"
   ]
  },
  {
   "cell_type": "code",
   "execution_count": 6,
   "id": "4b513741-fb87-451f-afd3-f5c205491e29",
   "metadata": {},
   "outputs": [
    {
     "data": {
      "text/plain": [
       "0 days 00:01:00    2075258\n",
       "Name: timestamp, dtype: int64"
      ]
     },
     "execution_count": 6,
     "metadata": {},
     "output_type": "execute_result"
    }
   ],
   "source": [
    "# so the data is actually regularly sampled\n",
    "df_power_consumption.index.to_series().diff().value_counts()"
   ]
  },
  {
   "cell_type": "code",
   "execution_count": 7,
   "id": "4a8af785-a405-4258-952f-1321b5059dde",
   "metadata": {
    "tags": []
   },
   "outputs": [
    {
     "data": {
      "text/plain": [
       "0 days 00:03:00    14\n",
       "0 days 01:24:00     1\n",
       "2 days 14:04:00     1\n",
       "Name: timestamp, dtype: int64"
      ]
     },
     "execution_count": 7,
     "metadata": {},
     "output_type": "execute_result"
    }
   ],
   "source": [
    "# but if we drop the nan's, this will not be the case\n",
    "df_power_consumption = df_power_consumption.dropna()\n",
    "df_power_consumption.index.to_series().diff().value_counts().sample(3)"
   ]
  },
  {
   "cell_type": "code",
   "execution_count": 8,
   "id": "a1c99b1b-149b-4788-a2c1-ec7036ba0431",
   "metadata": {},
   "outputs": [
    {
     "data": {
      "text/html": [
       "<div>\n",
       "<style scoped>\n",
       "    .dataframe tbody tr th:only-of-type {\n",
       "        vertical-align: middle;\n",
       "    }\n",
       "\n",
       "    .dataframe tbody tr th {\n",
       "        vertical-align: top;\n",
       "    }\n",
       "\n",
       "    .dataframe thead th {\n",
       "        text-align: right;\n",
       "    }\n",
       "</style>\n",
       "<table border=\"1\" class=\"dataframe\">\n",
       "  <thead>\n",
       "    <tr style=\"text-align: right;\">\n",
       "      <th></th>\n",
       "      <th>Global_active_power</th>\n",
       "      <th>Global_reactive_power</th>\n",
       "      <th>Voltage</th>\n",
       "      <th>Global_intensity</th>\n",
       "      <th>Sub_metering_1</th>\n",
       "      <th>Sub_metering_2</th>\n",
       "      <th>Sub_metering_3</th>\n",
       "    </tr>\n",
       "    <tr>\n",
       "      <th>timestamp</th>\n",
       "      <th></th>\n",
       "      <th></th>\n",
       "      <th></th>\n",
       "      <th></th>\n",
       "      <th></th>\n",
       "      <th></th>\n",
       "      <th></th>\n",
       "    </tr>\n",
       "  </thead>\n",
       "  <tbody>\n",
       "    <tr>\n",
       "      <th>2009-01-01 02:15:00</th>\n",
       "      <td>0.564</td>\n",
       "      <td>0.064</td>\n",
       "      <td>246.119995</td>\n",
       "      <td>2.4</td>\n",
       "      <td>0.0</td>\n",
       "      <td>1.0</td>\n",
       "      <td>0.0</td>\n",
       "    </tr>\n",
       "    <tr>\n",
       "      <th>2009-10-07 13:46:00</th>\n",
       "      <td>0.506</td>\n",
       "      <td>0.066</td>\n",
       "      <td>243.080002</td>\n",
       "      <td>2.0</td>\n",
       "      <td>0.0</td>\n",
       "      <td>0.0</td>\n",
       "      <td>1.0</td>\n",
       "    </tr>\n",
       "  </tbody>\n",
       "</table>\n",
       "</div>"
      ],
      "text/plain": [
       "                     Global_active_power  Global_reactive_power     Voltage  \\\n",
       "timestamp                                                                     \n",
       "2009-01-01 02:15:00                0.564                  0.064  246.119995   \n",
       "2009-10-07 13:46:00                0.506                  0.066  243.080002   \n",
       "\n",
       "                     Global_intensity  Sub_metering_1  Sub_metering_2  \\\n",
       "timestamp                                                               \n",
       "2009-01-01 02:15:00               2.4             0.0             1.0   \n",
       "2009-10-07 13:46:00               2.0             0.0             0.0   \n",
       "\n",
       "                     Sub_metering_3  \n",
       "timestamp                            \n",
       "2009-01-01 02:15:00             0.0  \n",
       "2009-10-07 13:46:00             1.0  "
      ]
     },
     "execution_count": 8,
     "metadata": {},
     "output_type": "execute_result"
    }
   ],
   "source": [
    "df_power_consumption.sample(2)"
   ]
  },
  {
   "cell_type": "markdown",
   "id": "e13cc9ca-cc1e-4c2f-a12d-388a8f5b169f",
   "metadata": {},
   "source": [
    "**global variables**:\n",
    "* `global_active_power`: household global **minute averaged** active power (kilowatt)\n",
    "* `global_reactive_power`: household global **minute averaged** reactive power (kilowatt)\n",
    "* `global_intensity`: household global **minute averaged** current (ampere)\n",
    "* `voltage`: minute-averaged voltage (volt)\n",
    "\n",
    "**sub meterings**:\n",
    "* `sub_metering_1`: **kitchen** - dishwasher & microwave - (in watt-hour of **active energy**)\n",
    "* `sub_metering_2`: **laundry room** - washing maching, tumble drier, refrigerator & light (in watt-hour of **active energy**)\n",
    "* `sub_metering_3`: electric water-heater & air conditioner (in watt-hour of **active energy**)\n",
    "\n",
    "\n",
    "As the user is only billed for the **active power**, we will use this variable as target."
   ]
  },
  {
   "cell_type": "code",
   "execution_count": 9,
   "id": "d7b8bfff-767c-4e4d-8668-751cd8799019",
   "metadata": {},
   "outputs": [
    {
     "data": {
      "text/html": [
       "<style type=\"text/css\">\n",
       "#T_0637d_row0_col0, #T_0637d_row0_col1, #T_0637d_row0_col2, #T_0637d_row0_col3, #T_0637d_row0_col4, #T_0637d_row0_col5, #T_0637d_row0_col6, #T_0637d_row1_col1, #T_0637d_row1_col2, #T_0637d_row1_col3, #T_0637d_row1_col4, #T_0637d_row1_col5, #T_0637d_row1_col6, #T_0637d_row2_col2, #T_0637d_row2_col3, #T_0637d_row2_col4, #T_0637d_row2_col5, #T_0637d_row2_col6, #T_0637d_row3_col3, #T_0637d_row3_col4, #T_0637d_row3_col5, #T_0637d_row3_col6, #T_0637d_row4_col4, #T_0637d_row4_col5, #T_0637d_row4_col6, #T_0637d_row5_col5, #T_0637d_row5_col6, #T_0637d_row6_col6 {\n",
       "  background-color: #9bbcff;\n",
       "  color: #000000;\n",
       "}\n",
       "#T_0637d_row1_col0 {\n",
       "  background-color: #d4dbe6;\n",
       "  color: #000000;\n",
       "}\n",
       "#T_0637d_row2_col0 {\n",
       "  background-color: #3d50c3;\n",
       "  color: #f1f1f1;\n",
       "}\n",
       "#T_0637d_row2_col1 {\n",
       "  background-color: #80a3fa;\n",
       "  color: #f1f1f1;\n",
       "}\n",
       "#T_0637d_row3_col0 {\n",
       "  background-color: #b40426;\n",
       "  color: #f1f1f1;\n",
       "}\n",
       "#T_0637d_row3_col1 {\n",
       "  background-color: #d7dce3;\n",
       "  color: #000000;\n",
       "}\n",
       "#T_0637d_row3_col2 {\n",
       "  background-color: #3b4cc0;\n",
       "  color: #f1f1f1;\n",
       "}\n",
       "#T_0637d_row4_col0 {\n",
       "  background-color: #f5c1a9;\n",
       "  color: #000000;\n",
       "}\n",
       "#T_0637d_row4_col1 {\n",
       "  background-color: #bad0f8;\n",
       "  color: #000000;\n",
       "}\n",
       "#T_0637d_row4_col2 {\n",
       "  background-color: #6b8df0;\n",
       "  color: #f1f1f1;\n",
       "}\n",
       "#T_0637d_row4_col3 {\n",
       "  background-color: #f5c0a7;\n",
       "  color: #000000;\n",
       "}\n",
       "#T_0637d_row5_col0 {\n",
       "  background-color: #f2cbb7;\n",
       "  color: #000000;\n",
       "}\n",
       "#T_0637d_row5_col1 {\n",
       "  background-color: #bcd2f7;\n",
       "  color: #000000;\n",
       "}\n",
       "#T_0637d_row5_col2 {\n",
       "  background-color: #7295f4;\n",
       "  color: #f1f1f1;\n",
       "}\n",
       "#T_0637d_row5_col3 {\n",
       "  background-color: #f2cab5;\n",
       "  color: #000000;\n",
       "}\n",
       "#T_0637d_row5_col4 {\n",
       "  background-color: #a9c6fd;\n",
       "  color: #000000;\n",
       "}\n",
       "#T_0637d_row6_col0 {\n",
       "  background-color: #f59c7d;\n",
       "  color: #000000;\n",
       "}\n",
       "#T_0637d_row6_col1 {\n",
       "  background-color: #b1cbfc;\n",
       "  color: #000000;\n",
       "}\n",
       "#T_0637d_row6_col2 {\n",
       "  background-color: #5977e3;\n",
       "  color: #f1f1f1;\n",
       "}\n",
       "#T_0637d_row6_col3 {\n",
       "  background-color: #f59f80;\n",
       "  color: #000000;\n",
       "}\n",
       "#T_0637d_row6_col4 {\n",
       "  background-color: #b5cdfa;\n",
       "  color: #000000;\n",
       "}\n",
       "#T_0637d_row6_col5 {\n",
       "  background-color: #afcafc;\n",
       "  color: #000000;\n",
       "}\n",
       "</style>\n",
       "<table id=\"T_0637d_\">\n",
       "  <thead>\n",
       "    <tr>\n",
       "      <th class=\"blank level0\" >&nbsp;</th>\n",
       "      <th class=\"col_heading level0 col0\" >Global_active_power</th>\n",
       "      <th class=\"col_heading level0 col1\" >Global_reactive_power</th>\n",
       "      <th class=\"col_heading level0 col2\" >Voltage</th>\n",
       "      <th class=\"col_heading level0 col3\" >Global_intensity</th>\n",
       "      <th class=\"col_heading level0 col4\" >Sub_metering_1</th>\n",
       "      <th class=\"col_heading level0 col5\" >Sub_metering_2</th>\n",
       "      <th class=\"col_heading level0 col6\" >Sub_metering_3</th>\n",
       "    </tr>\n",
       "  </thead>\n",
       "  <tbody>\n",
       "    <tr>\n",
       "      <th id=\"T_0637d_level0_row0\" class=\"row_heading level0 row0\" >Global_active_power</th>\n",
       "      <td id=\"T_0637d_row0_col0\" class=\"data row0 col0\" >0.000</td>\n",
       "      <td id=\"T_0637d_row0_col1\" class=\"data row0 col1\" >0.000</td>\n",
       "      <td id=\"T_0637d_row0_col2\" class=\"data row0 col2\" >-0.000</td>\n",
       "      <td id=\"T_0637d_row0_col3\" class=\"data row0 col3\" >0.000</td>\n",
       "      <td id=\"T_0637d_row0_col4\" class=\"data row0 col4\" >0.000</td>\n",
       "      <td id=\"T_0637d_row0_col5\" class=\"data row0 col5\" >0.000</td>\n",
       "      <td id=\"T_0637d_row0_col6\" class=\"data row0 col6\" >0.000</td>\n",
       "    </tr>\n",
       "    <tr>\n",
       "      <th id=\"T_0637d_level0_row1\" class=\"row_heading level0 row1\" >Global_reactive_power</th>\n",
       "      <td id=\"T_0637d_row1_col0\" class=\"data row1 col0\" >0.247</td>\n",
       "      <td id=\"T_0637d_row1_col1\" class=\"data row1 col1\" >0.000</td>\n",
       "      <td id=\"T_0637d_row1_col2\" class=\"data row1 col2\" >-0.000</td>\n",
       "      <td id=\"T_0637d_row1_col3\" class=\"data row1 col3\" >0.000</td>\n",
       "      <td id=\"T_0637d_row1_col4\" class=\"data row1 col4\" >0.000</td>\n",
       "      <td id=\"T_0637d_row1_col5\" class=\"data row1 col5\" >0.000</td>\n",
       "      <td id=\"T_0637d_row1_col6\" class=\"data row1 col6\" >0.000</td>\n",
       "    </tr>\n",
       "    <tr>\n",
       "      <th id=\"T_0637d_level0_row2\" class=\"row_heading level0 row2\" >Voltage</th>\n",
       "      <td id=\"T_0637d_row2_col0\" class=\"data row2 col0\" >-0.400</td>\n",
       "      <td id=\"T_0637d_row2_col1\" class=\"data row2 col1\" >-0.112</td>\n",
       "      <td id=\"T_0637d_row2_col2\" class=\"data row2 col2\" >0.000</td>\n",
       "      <td id=\"T_0637d_row2_col3\" class=\"data row2 col3\" >-0.000</td>\n",
       "      <td id=\"T_0637d_row2_col4\" class=\"data row2 col4\" >-0.000</td>\n",
       "      <td id=\"T_0637d_row2_col5\" class=\"data row2 col5\" >-0.000</td>\n",
       "      <td id=\"T_0637d_row2_col6\" class=\"data row2 col6\" >-0.000</td>\n",
       "    </tr>\n",
       "    <tr>\n",
       "      <th id=\"T_0637d_level0_row3\" class=\"row_heading level0 row3\" >Global_intensity</th>\n",
       "      <td id=\"T_0637d_row3_col0\" class=\"data row3 col0\" >0.999</td>\n",
       "      <td id=\"T_0637d_row3_col1\" class=\"data row3 col1\" >0.266</td>\n",
       "      <td id=\"T_0637d_row3_col2\" class=\"data row3 col2\" >-0.411</td>\n",
       "      <td id=\"T_0637d_row3_col3\" class=\"data row3 col3\" >0.000</td>\n",
       "      <td id=\"T_0637d_row3_col4\" class=\"data row3 col4\" >0.000</td>\n",
       "      <td id=\"T_0637d_row3_col5\" class=\"data row3 col5\" >0.000</td>\n",
       "      <td id=\"T_0637d_row3_col6\" class=\"data row3 col6\" >0.000</td>\n",
       "    </tr>\n",
       "    <tr>\n",
       "      <th id=\"T_0637d_level0_row4\" class=\"row_heading level0 row4\" >Sub_metering_1</th>\n",
       "      <td id=\"T_0637d_row4_col0\" class=\"data row4 col0\" >0.484</td>\n",
       "      <td id=\"T_0637d_row4_col1\" class=\"data row4 col1\" >0.123</td>\n",
       "      <td id=\"T_0637d_row4_col2\" class=\"data row4 col2\" >-0.196</td>\n",
       "      <td id=\"T_0637d_row4_col3\" class=\"data row4 col3\" >0.489</td>\n",
       "      <td id=\"T_0637d_row4_col4\" class=\"data row4 col4\" >0.000</td>\n",
       "      <td id=\"T_0637d_row4_col5\" class=\"data row4 col5\" >0.000</td>\n",
       "      <td id=\"T_0637d_row4_col6\" class=\"data row4 col6\" >0.000</td>\n",
       "    </tr>\n",
       "    <tr>\n",
       "      <th id=\"T_0637d_level0_row5\" class=\"row_heading level0 row5\" >Sub_metering_2</th>\n",
       "      <td id=\"T_0637d_row5_col0\" class=\"data row5 col0\" >0.435</td>\n",
       "      <td id=\"T_0637d_row5_col1\" class=\"data row5 col1\" >0.139</td>\n",
       "      <td id=\"T_0637d_row5_col2\" class=\"data row5 col2\" >-0.167</td>\n",
       "      <td id=\"T_0637d_row5_col3\" class=\"data row5 col3\" >0.440</td>\n",
       "      <td id=\"T_0637d_row5_col4\" class=\"data row5 col4\" >0.055</td>\n",
       "      <td id=\"T_0637d_row5_col5\" class=\"data row5 col5\" >0.000</td>\n",
       "      <td id=\"T_0637d_row5_col6\" class=\"data row5 col6\" >0.000</td>\n",
       "    </tr>\n",
       "    <tr>\n",
       "      <th id=\"T_0637d_level0_row6\" class=\"row_heading level0 row6\" >Sub_metering_3</th>\n",
       "      <td id=\"T_0637d_row6_col0\" class=\"data row6 col0\" >0.639</td>\n",
       "      <td id=\"T_0637d_row6_col1\" class=\"data row6 col1\" >0.090</td>\n",
       "      <td id=\"T_0637d_row6_col2\" class=\"data row6 col2\" >-0.268</td>\n",
       "      <td id=\"T_0637d_row6_col3\" class=\"data row6 col3\" >0.627</td>\n",
       "      <td id=\"T_0637d_row6_col4\" class=\"data row6 col4\" >0.103</td>\n",
       "      <td id=\"T_0637d_row6_col5\" class=\"data row6 col5\" >0.081</td>\n",
       "      <td id=\"T_0637d_row6_col6\" class=\"data row6 col6\" >0.000</td>\n",
       "    </tr>\n",
       "  </tbody>\n",
       "</table>\n"
      ],
      "text/plain": [
       "<pandas.io.formats.style.Styler at 0x7fc0f53e16a0>"
      ]
     },
     "execution_count": 9,
     "metadata": {},
     "output_type": "execute_result"
    }
   ],
   "source": [
    "corr = df_power_consumption.corr() * np.tril(\n",
    "    np.ones(tuple([len(df_power_consumption.columns)] * 2)), k=-1\n",
    ")\n",
    "pd.set_option(\"precision\", 3)\n",
    "corr.style.background_gradient(cmap=\"coolwarm\", axis=None)"
   ]
  },
  {
   "cell_type": "markdown",
   "id": "618a223f-6911-4218-a05c-30f72f59b67e",
   "metadata": {},
   "source": [
    "Our objective is:\n",
    "> To estimate the average `Global active power` over the last 15 minutes by **only** using current or past sub-metering values.\n",
    "\n",
    "**remark**:\n",
    "We explicitly did not use global variables (like `global_intensity`) as these are show high correlations with the global power consumption."
   ]
  },
  {
   "cell_type": "code",
   "execution_count": 10,
   "id": "ac7aebbd-1865-4d39-ae20-1a59ba4a61f4",
   "metadata": {},
   "outputs": [],
   "source": [
    "# create the target\n",
    "df_power_consumption[\"avg_15min_GAP\"] = df_power_consumption.rolling(\"15min\")[\n",
    "    \"Global_active_power\"\n",
    "].aggregate(np.nanmean)"
   ]
  },
  {
   "cell_type": "markdown",
   "id": "96d6491d-8c31-4bdb-af1a-655b253b0066",
   "metadata": {
    "tags": []
   },
   "source": [
    "# EDA"
   ]
  },
  {
   "cell_type": "markdown",
   "id": "94f91a14-cbcb-4362-8343-88f8cbf4bf2a",
   "metadata": {},
   "source": [
    "`TODO`"
   ]
  },
  {
   "cell_type": "markdown",
   "id": "f1d357a6-bf82-4bec-9fac-ff50a7f7d80e",
   "metadata": {},
   "source": [
    "# ML time"
   ]
  },
  {
   "cell_type": "markdown",
   "id": "43d97733-846b-4d3f-97e8-c2698f5551f8",
   "metadata": {},
   "source": [
    "## train-test split"
   ]
  },
  {
   "cell_type": "code",
   "execution_count": 11,
   "id": "a5f264fd-c547-4475-99de-391c0f9a1b3d",
   "metadata": {},
   "outputs": [],
   "source": [
    "train_columns = [f\"Sub_metering_{i}\" for i in range(1, 4)] + [\"timestamp\"]\n",
    "target_col = \"avg_15min_GAP\"\n",
    "\n",
    "# The percentage of data used for testing\n",
    "test_pct = 0.2\n",
    "day_margin = 3\n",
    "\n",
    "# add the timestamp col\n",
    "df_power_consumption[\"timestamp\"] = df_power_consumption.index\n",
    "\n",
    "# Temporal split: Use the last test_pct of the data as test_data\n",
    "df_train = df_power_consumption[: -int(len(df_power_consumption) * test_pct)].copy()\n",
    "X_train, y_train = df_train[train_columns], df_train[target_col]\n",
    "\n",
    "df_test = df_power_consumption[df_train.index[-1] + pd.Timedelta(days=day_margin) :]\n",
    "X_test, y_test = df_test[train_columns], df_test[target_col]"
   ]
  },
  {
   "cell_type": "code",
   "execution_count": 12,
   "id": "a301c660-9935-45f0-906c-63bf981f4299",
   "metadata": {},
   "outputs": [],
   "source": [
    "import sys\n",
    "sys.path.append(\"../\")"
   ]
  },
  {
   "cell_type": "code",
   "execution_count": 13,
   "id": "c0f35e44-053e-4f47-978b-3b83f7599961",
   "metadata": {},
   "outputs": [],
   "source": [
    "import scipy.stats as ss\n",
    "\n",
    "from tsflex.chunking import chunk_data\n",
    "from tsflex.features import FeatureCollection, MultipleFeatureDescriptors\n",
    "from tsflex.features.utils import make_robust"
   ]
  },
  {
   "cell_type": "markdown",
   "id": "f3558302-1cfb-4e26-8860-23ba725ff71e",
   "metadata": {},
   "source": [
    "## Feature extraction with tsflex"
   ]
  },
  {
   "cell_type": "code",
   "execution_count": 14,
   "id": "e29a98df-3467-48ca-8172-bc83e3540cf6",
   "metadata": {
    "tags": []
   },
   "outputs": [
    {
     "data": {
      "text/plain": [
       "Sub_metering_1: (\n",
       "\twin: 15m   , stride: 15m: [\n",
       "\t\tFeatureDescriptor - func: FuncWrapper([robust]__amin, ['amin'], {}),\n",
       "\t\tFeatureDescriptor - func: FuncWrapper([robust]__amax, ['amax'], {}),\n",
       "\t\tFeatureDescriptor - func: FuncWrapper([robust]__std, ['std'], {}),\n",
       "\t\tFeatureDescriptor - func: FuncWrapper([robust]__mean, ['mean'], {}),\n",
       "\t\tFeatureDescriptor - func: FuncWrapper([robust]__slope, ['slope'], {}),\n",
       "\t\tFeatureDescriptor - func: FuncWrapper([robust]__skew, ['skew'], {}),\n",
       "\t\tFeatureDescriptor - func: FuncWrapper([robust]__abs_diff_mean, ['abs_diff_mean'], {}),\n",
       "\t\tFeatureDescriptor - func: FuncWrapper([robust]__diff_std, ['diff_std'], {}),\n",
       "\t\tFeatureDescriptor - func: FuncWrapper([robust]__sum, ['sum'], {}),\n",
       "\t\tFeatureDescriptor - func: FuncWrapper([robust]__len, ['len'], {}),\n",
       "\t]\n",
       "\twin: 30m   , stride: 15m: [\n",
       "\t\tFeatureDescriptor - func: FuncWrapper([robust]__amin, ['amin'], {}),\n",
       "\t\tFeatureDescriptor - func: FuncWrapper([robust]__amax, ['amax'], {}),\n",
       "\t\tFeatureDescriptor - func: FuncWrapper([robust]__std, ['std'], {}),\n",
       "\t\tFeatureDescriptor - func: FuncWrapper([robust]__mean, ['mean'], {}),\n",
       "\t\tFeatureDescriptor - func: FuncWrapper([robust]__slope, ['slope'], {}),\n",
       "\t\tFeatureDescriptor - func: FuncWrapper([robust]__skew, ['skew'], {}),\n",
       "\t\tFeatureDescriptor - func: FuncWrapper([robust]__abs_diff_mean, ['abs_diff_mean'], {}),\n",
       "\t\tFeatureDescriptor - func: FuncWrapper([robust]__diff_std, ['diff_std'], {}),\n",
       "\t\tFeatureDescriptor - func: FuncWrapper([robust]__sum, ['sum'], {}),\n",
       "\t\tFeatureDescriptor - func: FuncWrapper([robust]__len, ['len'], {}),\n",
       "\t]\n",
       "\twin: 1h    , stride: 15m: [\n",
       "\t\tFeatureDescriptor - func: FuncWrapper([robust]__amin, ['amin'], {}),\n",
       "\t\tFeatureDescriptor - func: FuncWrapper([robust]__amax, ['amax'], {}),\n",
       "\t\tFeatureDescriptor - func: FuncWrapper([robust]__std, ['std'], {}),\n",
       "\t\tFeatureDescriptor - func: FuncWrapper([robust]__mean, ['mean'], {}),\n",
       "\t\tFeatureDescriptor - func: FuncWrapper([robust]__slope, ['slope'], {}),\n",
       "\t\tFeatureDescriptor - func: FuncWrapper([robust]__skew, ['skew'], {}),\n",
       "\t\tFeatureDescriptor - func: FuncWrapper([robust]__abs_diff_mean, ['abs_diff_mean'], {}),\n",
       "\t\tFeatureDescriptor - func: FuncWrapper([robust]__diff_std, ['diff_std'], {}),\n",
       "\t\tFeatureDescriptor - func: FuncWrapper([robust]__sum, ['sum'], {}),\n",
       "\t\tFeatureDescriptor - func: FuncWrapper([robust]__len, ['len'], {}),\n",
       "\t]\n",
       ")\n",
       "Sub_metering_2: (\n",
       "\twin: 15m   , stride: 15m: [\n",
       "\t\tFeatureDescriptor - func: FuncWrapper([robust]__amin, ['amin'], {}),\n",
       "\t\tFeatureDescriptor - func: FuncWrapper([robust]__amax, ['amax'], {}),\n",
       "\t\tFeatureDescriptor - func: FuncWrapper([robust]__std, ['std'], {}),\n",
       "\t\tFeatureDescriptor - func: FuncWrapper([robust]__mean, ['mean'], {}),\n",
       "\t\tFeatureDescriptor - func: FuncWrapper([robust]__slope, ['slope'], {}),\n",
       "\t\tFeatureDescriptor - func: FuncWrapper([robust]__skew, ['skew'], {}),\n",
       "\t\tFeatureDescriptor - func: FuncWrapper([robust]__abs_diff_mean, ['abs_diff_mean'], {}),\n",
       "\t\tFeatureDescriptor - func: FuncWrapper([robust]__diff_std, ['diff_std'], {}),\n",
       "\t\tFeatureDescriptor - func: FuncWrapper([robust]__sum, ['sum'], {}),\n",
       "\t\tFeatureDescriptor - func: FuncWrapper([robust]__len, ['len'], {}),\n",
       "\t]\n",
       "\twin: 30m   , stride: 15m: [\n",
       "\t\tFeatureDescriptor - func: FuncWrapper([robust]__amin, ['amin'], {}),\n",
       "\t\tFeatureDescriptor - func: FuncWrapper([robust]__amax, ['amax'], {}),\n",
       "\t\tFeatureDescriptor - func: FuncWrapper([robust]__std, ['std'], {}),\n",
       "\t\tFeatureDescriptor - func: FuncWrapper([robust]__mean, ['mean'], {}),\n",
       "\t\tFeatureDescriptor - func: FuncWrapper([robust]__slope, ['slope'], {}),\n",
       "\t\tFeatureDescriptor - func: FuncWrapper([robust]__skew, ['skew'], {}),\n",
       "\t\tFeatureDescriptor - func: FuncWrapper([robust]__abs_diff_mean, ['abs_diff_mean'], {}),\n",
       "\t\tFeatureDescriptor - func: FuncWrapper([robust]__diff_std, ['diff_std'], {}),\n",
       "\t\tFeatureDescriptor - func: FuncWrapper([robust]__sum, ['sum'], {}),\n",
       "\t\tFeatureDescriptor - func: FuncWrapper([robust]__len, ['len'], {}),\n",
       "\t]\n",
       "\twin: 1h    , stride: 15m: [\n",
       "\t\tFeatureDescriptor - func: FuncWrapper([robust]__amin, ['amin'], {}),\n",
       "\t\tFeatureDescriptor - func: FuncWrapper([robust]__amax, ['amax'], {}),\n",
       "\t\tFeatureDescriptor - func: FuncWrapper([robust]__std, ['std'], {}),\n",
       "\t\tFeatureDescriptor - func: FuncWrapper([robust]__mean, ['mean'], {}),\n",
       "\t\tFeatureDescriptor - func: FuncWrapper([robust]__slope, ['slope'], {}),\n",
       "\t\tFeatureDescriptor - func: FuncWrapper([robust]__skew, ['skew'], {}),\n",
       "\t\tFeatureDescriptor - func: FuncWrapper([robust]__abs_diff_mean, ['abs_diff_mean'], {}),\n",
       "\t\tFeatureDescriptor - func: FuncWrapper([robust]__diff_std, ['diff_std'], {}),\n",
       "\t\tFeatureDescriptor - func: FuncWrapper([robust]__sum, ['sum'], {}),\n",
       "\t\tFeatureDescriptor - func: FuncWrapper([robust]__len, ['len'], {}),\n",
       "\t]\n",
       ")\n",
       "Sub_metering_3: (\n",
       "\twin: 15m   , stride: 15m: [\n",
       "\t\tFeatureDescriptor - func: FuncWrapper([robust]__amin, ['amin'], {}),\n",
       "\t\tFeatureDescriptor - func: FuncWrapper([robust]__amax, ['amax'], {}),\n",
       "\t\tFeatureDescriptor - func: FuncWrapper([robust]__std, ['std'], {}),\n",
       "\t\tFeatureDescriptor - func: FuncWrapper([robust]__mean, ['mean'], {}),\n",
       "\t\tFeatureDescriptor - func: FuncWrapper([robust]__slope, ['slope'], {}),\n",
       "\t\tFeatureDescriptor - func: FuncWrapper([robust]__skew, ['skew'], {}),\n",
       "\t\tFeatureDescriptor - func: FuncWrapper([robust]__abs_diff_mean, ['abs_diff_mean'], {}),\n",
       "\t\tFeatureDescriptor - func: FuncWrapper([robust]__diff_std, ['diff_std'], {}),\n",
       "\t\tFeatureDescriptor - func: FuncWrapper([robust]__sum, ['sum'], {}),\n",
       "\t\tFeatureDescriptor - func: FuncWrapper([robust]__len, ['len'], {}),\n",
       "\t]\n",
       "\twin: 30m   , stride: 15m: [\n",
       "\t\tFeatureDescriptor - func: FuncWrapper([robust]__amin, ['amin'], {}),\n",
       "\t\tFeatureDescriptor - func: FuncWrapper([robust]__amax, ['amax'], {}),\n",
       "\t\tFeatureDescriptor - func: FuncWrapper([robust]__std, ['std'], {}),\n",
       "\t\tFeatureDescriptor - func: FuncWrapper([robust]__mean, ['mean'], {}),\n",
       "\t\tFeatureDescriptor - func: FuncWrapper([robust]__slope, ['slope'], {}),\n",
       "\t\tFeatureDescriptor - func: FuncWrapper([robust]__skew, ['skew'], {}),\n",
       "\t\tFeatureDescriptor - func: FuncWrapper([robust]__abs_diff_mean, ['abs_diff_mean'], {}),\n",
       "\t\tFeatureDescriptor - func: FuncWrapper([robust]__diff_std, ['diff_std'], {}),\n",
       "\t\tFeatureDescriptor - func: FuncWrapper([robust]__sum, ['sum'], {}),\n",
       "\t\tFeatureDescriptor - func: FuncWrapper([robust]__len, ['len'], {}),\n",
       "\t]\n",
       "\twin: 1h    , stride: 15m: [\n",
       "\t\tFeatureDescriptor - func: FuncWrapper([robust]__amin, ['amin'], {}),\n",
       "\t\tFeatureDescriptor - func: FuncWrapper([robust]__amax, ['amax'], {}),\n",
       "\t\tFeatureDescriptor - func: FuncWrapper([robust]__std, ['std'], {}),\n",
       "\t\tFeatureDescriptor - func: FuncWrapper([robust]__mean, ['mean'], {}),\n",
       "\t\tFeatureDescriptor - func: FuncWrapper([robust]__slope, ['slope'], {}),\n",
       "\t\tFeatureDescriptor - func: FuncWrapper([robust]__skew, ['skew'], {}),\n",
       "\t\tFeatureDescriptor - func: FuncWrapper([robust]__abs_diff_mean, ['abs_diff_mean'], {}),\n",
       "\t\tFeatureDescriptor - func: FuncWrapper([robust]__diff_std, ['diff_std'], {}),\n",
       "\t\tFeatureDescriptor - func: FuncWrapper([robust]__sum, ['sum'], {}),\n",
       "\t\tFeatureDescriptor - func: FuncWrapper([robust]__len, ['len'], {}),\n",
       "\t]\n",
       ")\n",
       "timestamp: (\n",
       "\twin: 15m   , stride: 15m: [\n",
       "\t\tFeatureDescriptor - func: FuncWrapper([robust]__time_float, ['time_float'], {}),\n",
       "\t\tFeatureDescriptor - func: FuncWrapper([robust]__day_of_week, ['day_of_week'], {}),\n",
       "\t]\n",
       ")"
      ]
     },
     "execution_count": 14,
     "metadata": {},
     "output_type": "execute_result"
    }
   ],
   "source": [
    "def slope(x): return (x[-1] - x[0]) / x[0] if x[0] else 0\n",
    "def abs_diff_mean(x): return np.mean(np.abs(x[1:] - x[:-1])) if len(x) > 1 else 0\n",
    "def diff_std(x): return np.std(x[1:] - x[:-1]) if len(x) > 1 else 0\n",
    "\n",
    "# time based features\n",
    "def time_float(x):\n",
    "    x_ = pd.Timestamp(x[-1])\n",
    "    return np.float32(x_.hour + x_.minute / 60)\n",
    "def day_of_week(x): return pd.Timestamp(x[-1]).day_of_week\n",
    "\n",
    "\n",
    "funcs = [make_robust(f) for f in [np.min, np.max, np.std, np.mean, slope, ss.skew, abs_diff_mean, diff_std, sum, len,]]\n",
    "time_funcs = [make_robust(f) for f in [time_float, day_of_week]]\n",
    "\n",
    "# Create the feature collection\n",
    "fc = FeatureCollection(\n",
    "    feature_descriptors=[\n",
    "        MultipleFeatureDescriptors(\n",
    "            functions=funcs,\n",
    "            series_names=list(set(train_columns).difference({\"timestamp\"})),\n",
    "            windows=[\"15min\", \"30min\", \"1h\"],\n",
    "            strides=\"15min\",\n",
    "        ),\n",
    "        MultipleFeatureDescriptors(\n",
    "            functions=time_funcs,\n",
    "            series_names=\"timestamp\",\n",
    "            windows=[\"15min\"],\n",
    "            strides=\"15min\",\n",
    "        ),\n",
    "    ]\n",
    ")\n",
    "fc"
   ]
  },
  {
   "cell_type": "markdown",
   "id": "73955641-f7d3-4178-b8ce-ee94306ca606",
   "metadata": {},
   "source": [
    "### Chunking train data"
   ]
  },
  {
   "cell_type": "code",
   "execution_count": 15,
   "id": "61eb9cfe-09e7-42fc-b2ba-53e96e914af9",
   "metadata": {},
   "outputs": [],
   "source": [
    "# %%time\n",
    "# chunk the data in blocks of `max_chunk_dur`\n",
    "chunks = chunk_data(\n",
    "    data=df_train,\n",
    "    max_chunk_dur=\"365 days\",\n",
    "    chunk_range_margin=\"10 min\",\n",
    "    sub_chunk_overlap=\"15min\",\n",
    ")"
   ]
  },
  {
   "cell_type": "markdown",
   "id": "151cabee-bb68-4d0f-8f8c-87949f43c73c",
   "metadata": {},
   "source": [
    "we will now use these yearly chunks to extract the features"
   ]
  },
  {
   "cell_type": "code",
   "execution_count": 16,
   "id": "06b0af4d-143c-4f16-afa9-a7c28df75547",
   "metadata": {},
   "outputs": [
    {
     "name": "stderr",
     "output_type": "stream",
     "text": [
      "100%|██████████| 92/92 [00:12<00:00,  7.56it/s]\n",
      "100%|██████████| 92/92 [00:11<00:00,  7.74it/s]\n",
      "100%|██████████| 92/92 [00:12<00:00,  7.39it/s]\n",
      "100%|██████████| 92/92 [00:02<00:00, 43.98it/s]\n"
     ]
    }
   ],
   "source": [
    "df_train_feats = pd.concat(\n",
    "    [\n",
    "        fc.calculate(chunk, show_progress=True, return_df=True, approve_sparsity=True)\n",
    "        for chunk in chunks\n",
    "    ]\n",
    ")"
   ]
  },
  {
   "cell_type": "code",
   "execution_count": 17,
   "id": "be387195-2079-479c-a7cc-e8bdefa73506",
   "metadata": {},
   "outputs": [
    {
     "data": {
      "text/html": [
       "<div>\n",
       "<style scoped>\n",
       "    .dataframe tbody tr th:only-of-type {\n",
       "        vertical-align: middle;\n",
       "    }\n",
       "\n",
       "    .dataframe tbody tr th {\n",
       "        vertical-align: top;\n",
       "    }\n",
       "\n",
       "    .dataframe thead th {\n",
       "        text-align: right;\n",
       "    }\n",
       "</style>\n",
       "<table border=\"1\" class=\"dataframe\">\n",
       "  <thead>\n",
       "    <tr style=\"text-align: right;\">\n",
       "      <th></th>\n",
       "      <th>Sub_metering_2__len__w=15m_s=15m</th>\n",
       "      <th>Sub_metering_2__slope__w=15m_s=15m</th>\n",
       "      <th>Sub_metering_2__amax__w=15m_s=15m</th>\n",
       "      <th>Sub_metering_2__amin__w=15m_s=15m</th>\n",
       "      <th>Sub_metering_2__amax__w=30m_s=15m</th>\n",
       "      <th>Sub_metering_2__slope__w=30m_s=15m</th>\n",
       "      <th>Sub_metering_2__amin__w=30m_s=15m</th>\n",
       "      <th>Sub_metering_2__sum__w=15m_s=15m</th>\n",
       "      <th>Sub_metering_2__len__w=30m_s=15m</th>\n",
       "      <th>Sub_metering_2__mean__w=15m_s=15m</th>\n",
       "      <th>...</th>\n",
       "      <th>Sub_metering_3__diff_std__w=30m_s=15m</th>\n",
       "      <th>timestamp__day_of_week__w=15m_s=15m</th>\n",
       "      <th>Sub_metering_3__sum__w=1h_s=15m</th>\n",
       "      <th>Sub_metering_3__std__w=1h_s=15m</th>\n",
       "      <th>Sub_metering_3__diff_std__w=1h_s=15m</th>\n",
       "      <th>Sub_metering_1__skew__w=30m_s=15m</th>\n",
       "      <th>Sub_metering_1__skew__w=1h_s=15m</th>\n",
       "      <th>Sub_metering_3__skew__w=15m_s=15m</th>\n",
       "      <th>Sub_metering_3__skew__w=30m_s=15m</th>\n",
       "      <th>Sub_metering_3__skew__w=1h_s=15m</th>\n",
       "    </tr>\n",
       "    <tr>\n",
       "      <th>timestamp</th>\n",
       "      <th></th>\n",
       "      <th></th>\n",
       "      <th></th>\n",
       "      <th></th>\n",
       "      <th></th>\n",
       "      <th></th>\n",
       "      <th></th>\n",
       "      <th></th>\n",
       "      <th></th>\n",
       "      <th></th>\n",
       "      <th></th>\n",
       "      <th></th>\n",
       "      <th></th>\n",
       "      <th></th>\n",
       "      <th></th>\n",
       "      <th></th>\n",
       "      <th></th>\n",
       "      <th></th>\n",
       "      <th></th>\n",
       "      <th></th>\n",
       "      <th></th>\n",
       "    </tr>\n",
       "  </thead>\n",
       "  <tbody>\n",
       "    <tr>\n",
       "      <th>2007-11-24 07:54:00</th>\n",
       "      <td>15.0</td>\n",
       "      <td>0.0</td>\n",
       "      <td>0.0</td>\n",
       "      <td>0.0</td>\n",
       "      <td>0.0</td>\n",
       "      <td>0.0</td>\n",
       "      <td>0.0</td>\n",
       "      <td>0.0</td>\n",
       "      <td>30.0</td>\n",
       "      <td>0.0</td>\n",
       "      <td>...</td>\n",
       "      <td>0.000</td>\n",
       "      <td>5.0</td>\n",
       "      <td>0.0</td>\n",
       "      <td>0.000</td>\n",
       "      <td>0.000</td>\n",
       "      <td>0.000</td>\n",
       "      <td>0.000</td>\n",
       "      <td>0.000</td>\n",
       "      <td>0.000</td>\n",
       "      <td>0.000</td>\n",
       "    </tr>\n",
       "    <tr>\n",
       "      <th>2007-06-03 21:09:00</th>\n",
       "      <td>15.0</td>\n",
       "      <td>0.0</td>\n",
       "      <td>2.0</td>\n",
       "      <td>1.0</td>\n",
       "      <td>2.0</td>\n",
       "      <td>0.0</td>\n",
       "      <td>1.0</td>\n",
       "      <td>18.0</td>\n",
       "      <td>30.0</td>\n",
       "      <td>1.2</td>\n",
       "      <td>...</td>\n",
       "      <td>3.012</td>\n",
       "      <td>6.0</td>\n",
       "      <td>420.0</td>\n",
       "      <td>8.256</td>\n",
       "      <td>2.132</td>\n",
       "      <td>0.933</td>\n",
       "      <td>2.005</td>\n",
       "      <td>-1.055</td>\n",
       "      <td>-1.769</td>\n",
       "      <td>0.342</td>\n",
       "    </tr>\n",
       "  </tbody>\n",
       "</table>\n",
       "<p>2 rows × 92 columns</p>\n",
       "</div>"
      ],
      "text/plain": [
       "                     Sub_metering_2__len__w=15m_s=15m  \\\n",
       "timestamp                                               \n",
       "2007-11-24 07:54:00                              15.0   \n",
       "2007-06-03 21:09:00                              15.0   \n",
       "\n",
       "                     Sub_metering_2__slope__w=15m_s=15m  \\\n",
       "timestamp                                                 \n",
       "2007-11-24 07:54:00                                 0.0   \n",
       "2007-06-03 21:09:00                                 0.0   \n",
       "\n",
       "                     Sub_metering_2__amax__w=15m_s=15m  \\\n",
       "timestamp                                                \n",
       "2007-11-24 07:54:00                                0.0   \n",
       "2007-06-03 21:09:00                                2.0   \n",
       "\n",
       "                     Sub_metering_2__amin__w=15m_s=15m  \\\n",
       "timestamp                                                \n",
       "2007-11-24 07:54:00                                0.0   \n",
       "2007-06-03 21:09:00                                1.0   \n",
       "\n",
       "                     Sub_metering_2__amax__w=30m_s=15m  \\\n",
       "timestamp                                                \n",
       "2007-11-24 07:54:00                                0.0   \n",
       "2007-06-03 21:09:00                                2.0   \n",
       "\n",
       "                     Sub_metering_2__slope__w=30m_s=15m  \\\n",
       "timestamp                                                 \n",
       "2007-11-24 07:54:00                                 0.0   \n",
       "2007-06-03 21:09:00                                 0.0   \n",
       "\n",
       "                     Sub_metering_2__amin__w=30m_s=15m  \\\n",
       "timestamp                                                \n",
       "2007-11-24 07:54:00                                0.0   \n",
       "2007-06-03 21:09:00                                1.0   \n",
       "\n",
       "                     Sub_metering_2__sum__w=15m_s=15m  \\\n",
       "timestamp                                               \n",
       "2007-11-24 07:54:00                               0.0   \n",
       "2007-06-03 21:09:00                              18.0   \n",
       "\n",
       "                     Sub_metering_2__len__w=30m_s=15m  \\\n",
       "timestamp                                               \n",
       "2007-11-24 07:54:00                              30.0   \n",
       "2007-06-03 21:09:00                              30.0   \n",
       "\n",
       "                     Sub_metering_2__mean__w=15m_s=15m  ...  \\\n",
       "timestamp                                               ...   \n",
       "2007-11-24 07:54:00                                0.0  ...   \n",
       "2007-06-03 21:09:00                                1.2  ...   \n",
       "\n",
       "                     Sub_metering_3__diff_std__w=30m_s=15m  \\\n",
       "timestamp                                                    \n",
       "2007-11-24 07:54:00                                  0.000   \n",
       "2007-06-03 21:09:00                                  3.012   \n",
       "\n",
       "                     timestamp__day_of_week__w=15m_s=15m  \\\n",
       "timestamp                                                  \n",
       "2007-11-24 07:54:00                                  5.0   \n",
       "2007-06-03 21:09:00                                  6.0   \n",
       "\n",
       "                     Sub_metering_3__sum__w=1h_s=15m  \\\n",
       "timestamp                                              \n",
       "2007-11-24 07:54:00                              0.0   \n",
       "2007-06-03 21:09:00                            420.0   \n",
       "\n",
       "                     Sub_metering_3__std__w=1h_s=15m  \\\n",
       "timestamp                                              \n",
       "2007-11-24 07:54:00                            0.000   \n",
       "2007-06-03 21:09:00                            8.256   \n",
       "\n",
       "                     Sub_metering_3__diff_std__w=1h_s=15m  \\\n",
       "timestamp                                                   \n",
       "2007-11-24 07:54:00                                 0.000   \n",
       "2007-06-03 21:09:00                                 2.132   \n",
       "\n",
       "                     Sub_metering_1__skew__w=30m_s=15m  \\\n",
       "timestamp                                                \n",
       "2007-11-24 07:54:00                              0.000   \n",
       "2007-06-03 21:09:00                              0.933   \n",
       "\n",
       "                     Sub_metering_1__skew__w=1h_s=15m  \\\n",
       "timestamp                                               \n",
       "2007-11-24 07:54:00                             0.000   \n",
       "2007-06-03 21:09:00                             2.005   \n",
       "\n",
       "                     Sub_metering_3__skew__w=15m_s=15m  \\\n",
       "timestamp                                                \n",
       "2007-11-24 07:54:00                              0.000   \n",
       "2007-06-03 21:09:00                             -1.055   \n",
       "\n",
       "                     Sub_metering_3__skew__w=30m_s=15m  \\\n",
       "timestamp                                                \n",
       "2007-11-24 07:54:00                              0.000   \n",
       "2007-06-03 21:09:00                             -1.769   \n",
       "\n",
       "                     Sub_metering_3__skew__w=1h_s=15m  \n",
       "timestamp                                              \n",
       "2007-11-24 07:54:00                             0.000  \n",
       "2007-06-03 21:09:00                             0.342  \n",
       "\n",
       "[2 rows x 92 columns]"
      ]
     },
     "execution_count": 17,
     "metadata": {},
     "output_type": "execute_result"
    }
   ],
   "source": [
    "df_train_feats.sample(2)"
   ]
  },
  {
   "cell_type": "code",
   "execution_count": 18,
   "id": "c39b1e29-0387-4bf2-a8e5-e8385c46c162",
   "metadata": {},
   "outputs": [
    {
     "name": "stdout",
     "output_type": "stream",
     "text": [
      "(110060, 92)\n",
      "(110060, 92)\n"
     ]
    }
   ],
   "source": [
    "# make sure that there are no duplicate indices\n",
    "print(df_train_feats.shape)\n",
    "df_train_feats = df_train_feats[~df_train_feats.index.duplicated()]\n",
    "print(df_train_feats.shape)"
   ]
  },
  {
   "cell_type": "markdown",
   "id": "f03b6a97-591c-49e2-a2f9-fc8752e060c8",
   "metadata": {},
   "source": [
    "## Constructing the pipeline"
   ]
  },
  {
   "cell_type": "code",
   "execution_count": 19,
   "id": "8026d061-6bc3-447a-82a0-aa2d414a15ac",
   "metadata": {},
   "outputs": [],
   "source": [
    "from sklearn.impute import SimpleImputer\n",
    "from sklearn.linear_model import BayesianRidge\n",
    "from sklearn.pipeline import Pipeline\n",
    "from sklearn.preprocessing import StandardScaler"
   ]
  },
  {
   "cell_type": "code",
   "execution_count": 20,
   "id": "a2747077-cd2d-48b1-991e-4e28aeda39b5",
   "metadata": {},
   "outputs": [],
   "source": [
    "selected_cols = df_train_feats.columns\n",
    "df_train = df_train_feats.join(y_train)\n",
    "# drop the observations of which we don't have the target\n",
    "df_train = df_train[df_train[y_train.name].notna()]"
   ]
  },
  {
   "cell_type": "code",
   "execution_count": 21,
   "id": "45f081df-715d-41cf-bad8-495ae009313d",
   "metadata": {
    "tags": []
   },
   "outputs": [
    {
     "data": {
      "text/plain": [
       "Pipeline(steps=[('impute', SimpleImputer(strategy='median')),\n",
       "                ('scale', StandardScaler()), ('br', BayesianRidge())])"
      ]
     },
     "execution_count": 21,
     "metadata": {},
     "output_type": "execute_result"
    }
   ],
   "source": [
    "pipe = Pipeline(\n",
    "    [\n",
    "        (\"impute\", SimpleImputer(strategy=\"median\")),\n",
    "        (\"scale\", StandardScaler()),\n",
    "        (\n",
    "            \"br\",\n",
    "            BayesianRidge(),\n",
    "        ),\n",
    "    ]\n",
    ")\n",
    "\n",
    "\n",
    "# as this is a lot of data, this might take a minute or 5\n",
    "pipe.fit(df_train[selected_cols], df_train[y_train.name])"
   ]
  },
  {
   "cell_type": "markdown",
   "id": "06745adf-030a-429c-89b8-c13ad41ff1e5",
   "metadata": {},
   "source": [
    "---"
   ]
  },
  {
   "cell_type": "markdown",
   "id": "babbdb2a-3d9a-4279-905c-3f3b47a21805",
   "metadata": {},
   "source": [
    "## Prediction on `df_test`"
   ]
  },
  {
   "cell_type": "code",
   "execution_count": 22,
   "id": "25daeea2-4fe0-4fc0-ae39-3b3c672620df",
   "metadata": {
    "tags": []
   },
   "outputs": [
    {
     "name": "stderr",
     "output_type": "stream",
     "text": [
      "100%|██████████| 92/92 [00:13<00:00,  6.74it/s]\n"
     ]
    }
   ],
   "source": [
    "df_test_feats = fc.calculate(\n",
    "    df_test, show_progress=True, return_df=True, approve_sparsity=True\n",
    ")"
   ]
  },
  {
   "cell_type": "code",
   "execution_count": 23,
   "id": "99c6acf6-8211-4fb8-b768-c2c6f7c988ae",
   "metadata": {},
   "outputs": [],
   "source": [
    "df_test_tot = df_test_feats.join(y_test)"
   ]
  },
  {
   "cell_type": "code",
   "execution_count": 24,
   "id": "35862894-c301-4fe6-bdd2-72e18ac8bbc9",
   "metadata": {},
   "outputs": [],
   "source": [
    "out = pipe.predict(df_test_tot[selected_cols], return_std=True)\n",
    "df_test_tot[\"predictions\"] = out[0]\n",
    "df_test_tot[\"std\"] = out[1]"
   ]
  },
  {
   "cell_type": "code",
   "execution_count": 26,
   "id": "88161a53-e122-4a33-b80a-e086c9222d05",
   "metadata": {},
   "outputs": [
    {
     "data": {
      "image/png": "[encoded data removed]"
     },
     "metadata": {},
     "output_type": "display_data"
    }
   ],
   "source": [
    "import plotly.graph_objects as go\n",
    "\n",
    "size = 1400\n",
    "\n",
    "fig = go.Figure()\n",
    "fig.add_trace(\n",
    "    go.Scattergl(\n",
    "        x=df_test_tot.index[:size], y=df_test_tot[y_test.name][:size], name=\"target\"\n",
    "    )\n",
    ")\n",
    "fig.add_trace(\n",
    "    go.Scattergl(\n",
    "        x=df_test_tot.index[:size],\n",
    "        y=df_test_tot.predictions[:size],\n",
    "        name=\"predictions\",\n",
    "        marker_color=\"red\",\n",
    "    )\n",
    ")\n",
    "\n",
    "# also visualize the lower and upper bounds; \n",
    "#   these values are the predictions +/- std, respetively\n",
    "\n",
    "fig.add_trace(\n",
    "    go.Scatter(\n",
    "        x=df_test_tot.index[:size],\n",
    "        y=df_test_tot.predictions[:size] + df_test_tot[\"std\"][:size],\n",
    "        name=\"upper_bound\",\n",
    "        showlegend=False,\n",
    "        marker_color='black',\n",
    "        line=dict(width=0),\n",
    "        mode='lines',\n",
    "    ),\n",
    ")\n",
    "\n",
    "fig.add_trace(\n",
    "    go.Scatter(\n",
    "        x=df_test_tot.index[:size],\n",
    "        y=df_test_tot.predictions[:size] - df_test_tot[\"std\"][:size],\n",
    "        name=\"lower bound\",\n",
    "        showlegend=False,\n",
    "        marker_color='black',\n",
    "        line=dict(width=0),\n",
    "        mode='lines',\n",
    "        fillcolor='rgba(255, 0, 0, 0.2)',\n",
    "        fill='tonexty'\n",
    "    ),\n",
    ")\n",
    "\n",
    "\n",
    "fig.update_layout(title=\"Power consumption predictions\", title_x=0.5, hovermode='x')\n",
    "fig.update_xaxes(title=\"Time\")\n",
    "fig.update_yaxes(title=\"AVG power consumption (kW)\")\n",
    "\n",
    "fig.show(renderer=\"png\", width=1300, height=500)"
   ]
  }
 ],
 "metadata": {
  "kernelspec": {
   "display_name": "Python 3",
   "language": "python",
   "name": "python3"
  },
  "language_info": {
   "codemirror_mode": {
    "name": "ipython",
    "version": 3
   },
   "file_extension": ".py",
   "mimetype": "text/x-python",
   "name": "python",
   "nbconvert_exporter": "python",
   "pygments_lexer": "ipython3",
   "version": "3.9.7"
  }
 },
 "nbformat": 4,
 "nbformat_minor": 5
}
