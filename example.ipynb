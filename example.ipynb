{
 "cells": [
  {
   "cell_type": "markdown",
   "metadata": {},
   "source": [
    "# Time series\n"
   ]
  },
  {
   "cell_type": "code",
   "execution_count": 1,
   "metadata": {},
   "outputs": [],
   "source": [
    "%load_ext autoreload\n",
    "%autoreload 2"
   ]
  },
  {
   "cell_type": "code",
   "execution_count": 2,
   "metadata": {},
   "outputs": [],
   "source": [
    "import pandas as pd\n",
    "import numpy as np \n",
    "from datetime import timedelta"
   ]
  },
  {
   "cell_type": "markdown",
   "metadata": {},
   "source": [
    "## Use case - multiple time series signals"
   ]
  },
  {
   "cell_type": "markdown",
   "metadata": {},
   "source": [
    "### Input: **datetime indexed time(zone-aware) series dataframes**"
   ]
  },
  {
   "cell_type": "markdown",
   "metadata": {},
   "source": [
    "[documentation datetime index](https://pandas.pydata.org/pandas-docs/stable/reference/api/pandas.DatetimeIndex.html)"
   ]
  },
  {
   "cell_type": "code",
   "execution_count": 3,
   "metadata": {},
   "outputs": [],
   "source": [
    "# load the data (and add a random delay / offset to it as multimodal data will be sampled\n",
    "df_gsr = pd.read_feather('data/gsr.feather')\n",
    "df_gsr['timestamp'] += timedelta(milliseconds=np.random.randint(-125, 125))\n",
    "df_gsr.set_index('timestamp', inplace=True)\n",
    "\n",
    "df_tmp = pd.read_feather('data/tmp.feather')\n",
    "df_tmp['timestamp'] += timedelta(milliseconds=np.random.randint(-125, 125))\n",
    "df_tmp.set_index('timestamp', inplace=True)"
   ]
  },
  {
   "cell_type": "code",
   "execution_count": 4,
   "metadata": {},
   "outputs": [
    {
     "data": {
      "text/plain": [
       "pandas.core.indexes.datetimes.DatetimeIndex"
      ]
     },
     "execution_count": 4,
     "metadata": {},
     "output_type": "execute_result"
    }
   ],
   "source": [
    "type(df_gsr.index)"
   ]
  },
  {
   "cell_type": "code",
   "execution_count": 5,
   "metadata": {},
   "outputs": [
    {
     "name": "stdout",
     "output_type": "stream",
     "text": [
      "(31998, 1)\n"
     ]
    },
    {
     "data": {
      "text/html": [
       "<div>\n",
       "<style scoped>\n",
       "    .dataframe tbody tr th:only-of-type {\n",
       "        vertical-align: middle;\n",
       "    }\n",
       "\n",
       "    .dataframe tbody tr th {\n",
       "        vertical-align: top;\n",
       "    }\n",
       "\n",
       "    .dataframe thead th {\n",
       "        text-align: right;\n",
       "    }\n",
       "</style>\n",
       "<table border=\"1\" class=\"dataframe\">\n",
       "  <thead>\n",
       "    <tr style=\"text-align: right;\">\n",
       "      <th></th>\n",
       "      <th>EDA</th>\n",
       "    </tr>\n",
       "    <tr>\n",
       "      <th>timestamp</th>\n",
       "      <th></th>\n",
       "    </tr>\n",
       "  </thead>\n",
       "  <tbody>\n",
       "    <tr>\n",
       "      <th>2017-06-13 10:33:40.063000+02:00</th>\n",
       "      <td>0.000000</td>\n",
       "    </tr>\n",
       "    <tr>\n",
       "      <th>2017-06-13 10:33:40.313000+02:00</th>\n",
       "      <td>0.107451</td>\n",
       "    </tr>\n",
       "  </tbody>\n",
       "</table>\n",
       "</div>"
      ],
      "text/plain": [
       "                                       EDA\n",
       "timestamp                                 \n",
       "2017-06-13 10:33:40.063000+02:00  0.000000\n",
       "2017-06-13 10:33:40.313000+02:00  0.107451"
      ]
     },
     "execution_count": 5,
     "metadata": {},
     "output_type": "execute_result"
    }
   ],
   "source": [
    "print(df_gsr.shape)\n",
    "df_gsr.head(2)"
   ]
  },
  {
   "cell_type": "code",
   "execution_count": 6,
   "metadata": {},
   "outputs": [
    {
     "name": "stdout",
     "output_type": "stream",
     "text": [
      "(31992, 1)\n"
     ]
    },
    {
     "data": {
      "text/html": [
       "<div>\n",
       "<style scoped>\n",
       "    .dataframe tbody tr th:only-of-type {\n",
       "        vertical-align: middle;\n",
       "    }\n",
       "\n",
       "    .dataframe tbody tr th {\n",
       "        vertical-align: top;\n",
       "    }\n",
       "\n",
       "    .dataframe thead th {\n",
       "        text-align: right;\n",
       "    }\n",
       "</style>\n",
       "<table border=\"1\" class=\"dataframe\">\n",
       "  <thead>\n",
       "    <tr style=\"text-align: right;\">\n",
       "      <th></th>\n",
       "      <th>TMP</th>\n",
       "    </tr>\n",
       "    <tr>\n",
       "      <th>timestamp</th>\n",
       "      <th></th>\n",
       "    </tr>\n",
       "  </thead>\n",
       "  <tbody>\n",
       "    <tr>\n",
       "      <th>2017-06-13 10:33:40.021000+02:00</th>\n",
       "      <td>382.21</td>\n",
       "    </tr>\n",
       "    <tr>\n",
       "      <th>2017-06-13 10:33:40.271000+02:00</th>\n",
       "      <td>382.21</td>\n",
       "    </tr>\n",
       "  </tbody>\n",
       "</table>\n",
       "</div>"
      ],
      "text/plain": [
       "                                     TMP\n",
       "timestamp                               \n",
       "2017-06-13 10:33:40.021000+02:00  382.21\n",
       "2017-06-13 10:33:40.271000+02:00  382.21"
      ]
     },
     "execution_count": 6,
     "metadata": {},
     "output_type": "execute_result"
    }
   ],
   "source": [
    "print(df_tmp.shape)\n",
    "df_tmp.head(2)"
   ]
  },
  {
   "cell_type": "markdown",
   "metadata": {},
   "source": [
    "---"
   ]
  },
  {
   "cell_type": "markdown",
   "metadata": {},
   "source": [
    "### Intermezzo Joining multiple time series: `pd.merge_asof`"
   ]
  },
  {
   "cell_type": "markdown",
   "metadata": {},
   "source": [
    "[documentation](https://pandas.pydata.org/pandas-docs/stable/reference/api/pandas.merge_asof.html)"
   ]
  },
  {
   "cell_type": "code",
   "execution_count": 7,
   "metadata": {},
   "outputs": [
    {
     "data": {
      "text/html": [
       "<div>\n",
       "<style scoped>\n",
       "    .dataframe tbody tr th:only-of-type {\n",
       "        vertical-align: middle;\n",
       "    }\n",
       "\n",
       "    .dataframe tbody tr th {\n",
       "        vertical-align: top;\n",
       "    }\n",
       "\n",
       "    .dataframe thead th {\n",
       "        text-align: right;\n",
       "    }\n",
       "</style>\n",
       "<table border=\"1\" class=\"dataframe\">\n",
       "  <thead>\n",
       "    <tr style=\"text-align: right;\">\n",
       "      <th></th>\n",
       "      <th>TMP</th>\n",
       "      <th>EDA</th>\n",
       "    </tr>\n",
       "    <tr>\n",
       "      <th>timestamp</th>\n",
       "      <th></th>\n",
       "      <th></th>\n",
       "    </tr>\n",
       "  </thead>\n",
       "  <tbody>\n",
       "    <tr>\n",
       "      <th>2017-06-13 10:33:41.021000+02:00</th>\n",
       "      <td>31.15</td>\n",
       "      <td>0.153501</td>\n",
       "    </tr>\n",
       "    <tr>\n",
       "      <th>2017-06-13 10:33:41.271000+02:00</th>\n",
       "      <td>31.15</td>\n",
       "      <td>0.148384</td>\n",
       "    </tr>\n",
       "  </tbody>\n",
       "</table>\n",
       "</div>"
      ],
      "text/plain": [
       "                                    TMP       EDA\n",
       "timestamp                                        \n",
       "2017-06-13 10:33:41.021000+02:00  31.15  0.153501\n",
       "2017-06-13 10:33:41.271000+02:00  31.15  0.148384"
      ]
     },
     "execution_count": 7,
     "metadata": {},
     "output_type": "execute_result"
    }
   ],
   "source": [
    "# the name of the index columns is \"timestamp\"\n",
    "df_tot = pd.merge_asof(df_tmp[4:], df_gsr, on='timestamp', direction='nearest').set_index('timestamp')\n",
    "df_tot.head(2)"
   ]
  },
  {
   "cell_type": "code",
   "execution_count": 8,
   "metadata": {},
   "outputs": [],
   "source": [
    "# preserve causality -> direction = backward\n",
    "#  A “backward” search selects the last row in the right DataFrame whose ‘on’ key is less than or equal to the left’s key.\n",
    "df_tot = pd.merge_asof(df_tmp[10:], df_gsr, on='timestamp', direction='backward').set_index('timestamp')"
   ]
  },
  {
   "cell_type": "markdown",
   "metadata": {},
   "source": [
    "certainly look at `tolerance` and `direction` argument of this function!"
   ]
  },
  {
   "cell_type": "markdown",
   "metadata": {},
   "source": [
    "---"
   ]
  },
  {
   "cell_type": "markdown",
   "metadata": {},
   "source": [
    "# Classical machine learning -> feature extraction"
   ]
  },
  {
   "cell_type": "markdown",
   "metadata": {},
   "source": [
    "Most common way to extract time series features: a **window-strided** manner\n",
    "\n",
    "challenges:\n",
    "* Always assumes fixed window size & stride\n",
    "* No efficient implementations for dataframes (pd.rolling assumes same input<->output dimensions --> no stride possible) \n",
    "* No support aggregation multiple time series \n",
    "\n",
    "--> Writing my own code "
   ]
  },
  {
   "cell_type": "code",
   "execution_count": 9,
   "metadata": {},
   "outputs": [],
   "source": [
    "import sys \n",
    "\n",
    "# time series feature extraction\n",
    "sys.path.append('time_series/')\n",
    "from time_series import NumpyFuncWrapper\n",
    "from time_series.features import NumpyFeatureCalculation\n",
    "from time_series.features.feature_extraction import NumpyFeatureCalculationRegistry, NumpyFeatureCalculationPipeline\n",
    "import scipy.stats as ss\n",
    "\n",
    "# Serialization\n",
    "import dill as pickle\n",
    "pickle.settings['recurse']=True # allows to serialize lambda's YAY!"
   ]
  },
  {
   "cell_type": "code",
   "execution_count": 10,
   "metadata": {},
   "outputs": [],
   "source": [
    "# ------------------------ some custom feature extraction functions ------------------------\n",
    "# 1. one-to-many functions (as quantiles sort the windowed data) you might want to calculate them in 1 step\n",
    "quantiles = [0.25, 0.5, 0.75]\n",
    "f_quantiles = NumpyFuncWrapper(np.quantile, col_names=[f'quantile_{q}' for q in quantiles], q=quantiles)  # fyi: you can pass kwargs (in this case q=quantiles)\n",
    "\n",
    "# 2. lambda functions\n",
    "f_slope = NumpyFuncWrapper(lambda x: np.polyfit(np.arange(0, len(x)), x, 1)[0], col_names='slope')\n",
    "f_rms = NumpyFuncWrapper(lambda x: np.sqrt(np.mean(x ** 2)), col_names='rms')\n",
    "f_area = NumpyFuncWrapper(np.sum, col_names='area')\n",
    "\n",
    "segment_funcs = [np.mean, np.std, np.var, np.max, np.min, ss.skew, ss.kurtosis, f_quantiles, f_slope, f_rms, f_area]"
   ]
  },
  {
   "cell_type": "markdown",
   "metadata": {},
   "source": [
    "## Use case 1: single feature extraction for temperature singal"
   ]
  },
  {
   "cell_type": "markdown",
   "metadata": {},
   "source": [
    "### Fixed window size"
   ]
  },
  {
   "cell_type": "markdown",
   "metadata": {},
   "source": [
    "**TMP**"
   ]
  },
  {
   "cell_type": "code",
   "execution_count": 11,
   "metadata": {},
   "outputs": [
    {
     "data": {
      "text/plain": [
       "\twin: 240, stride: 120: [\n",
       "\t\tNumpyFeatureCalculation - func: mean,  \n",
       "\t\tNumpyFeatureCalculation - func: std,  \n",
       "\t\tNumpyFeatureCalculation - func: var,  \n",
       "\t\tNumpyFeatureCalculation - func: amax,  \n",
       "\t\tNumpyFeatureCalculation - func: amin,  \n",
       "\t\tNumpyFeatureCalculation - func: skew,  \n",
       "\t\tNumpyFeatureCalculation - func: kurtosis,  \n",
       "\t\tNumpyFeatureCalculation - func: quantile - kwargs: {'q': [0.25, 0.5, 0.75]} - col_names: ['quantile_0.25', 'quantile_0.5', 'quantile_0.75'],  \n",
       "\t\tNumpyFeatureCalculation - func: <lambda> - kwargs: {} - col_names: ['slope'],  \n",
       "\t\tNumpyFeatureCalculation - func: <lambda> - kwargs: {} - col_names: ['rms'],  \n",
       "\t\tNumpyFeatureCalculation - func: sum - kwargs: {} - col_names: ['area'],  \n",
       "\t]"
      ]
     },
     "execution_count": 11,
     "metadata": {},
     "output_type": "execute_result"
    }
   ],
   "source": [
    "fs_tmp = 4\n",
    "tmp_win_size = 60 * fs_tmp\n",
    "tmp_stride_size = 30 * fs_tmp\n",
    "tmp_feat_extr = NumpyFeatureCalculationRegistry(\n",
    "    [NumpyFeatureCalculation(win_size=tmp_win_size, stride=tmp_stride_size, func=f) for f in segment_funcs])\n",
    "tmp_feat_extr"
   ]
  },
  {
   "cell_type": "code",
   "execution_count": 12,
   "metadata": {},
   "outputs": [
    {
     "name": "stdout",
     "output_type": "stream",
     "text": [
      "dict_keys([(240, 120)])\n"
     ]
    },
    {
     "data": {
      "text/html": [
       "<div>\n",
       "<style scoped>\n",
       "    .dataframe tbody tr th:only-of-type {\n",
       "        vertical-align: middle;\n",
       "    }\n",
       "\n",
       "    .dataframe tbody tr th {\n",
       "        vertical-align: top;\n",
       "    }\n",
       "\n",
       "    .dataframe thead th {\n",
       "        text-align: right;\n",
       "    }\n",
       "</style>\n",
       "<table border=\"1\" class=\"dataframe\">\n",
       "  <thead>\n",
       "    <tr style=\"text-align: right;\">\n",
       "      <th></th>\n",
       "      <th>TMP_mean</th>\n",
       "      <th>TMP_std</th>\n",
       "      <th>TMP_var</th>\n",
       "      <th>TMP_amax</th>\n",
       "      <th>TMP_amin</th>\n",
       "      <th>TMP_skew</th>\n",
       "      <th>TMP_kurtosis</th>\n",
       "      <th>TMP_quantile_0.25</th>\n",
       "      <th>TMP_quantile_0.5</th>\n",
       "      <th>TMP_quantile_0.75</th>\n",
       "      <th>TMP_slope</th>\n",
       "      <th>TMP_rms</th>\n",
       "      <th>TMP_area</th>\n",
       "    </tr>\n",
       "    <tr>\n",
       "      <th>timestamp</th>\n",
       "      <th></th>\n",
       "      <th></th>\n",
       "      <th></th>\n",
       "      <th></th>\n",
       "      <th></th>\n",
       "      <th></th>\n",
       "      <th></th>\n",
       "      <th></th>\n",
       "      <th></th>\n",
       "      <th></th>\n",
       "      <th></th>\n",
       "      <th></th>\n",
       "      <th></th>\n",
       "    </tr>\n",
       "  </thead>\n",
       "  <tbody>\n",
       "    <tr>\n",
       "      <th>2017-06-13 10:34:39.771000+02:00</th>\n",
       "      <td>37.011667</td>\n",
       "      <td>44.940998</td>\n",
       "      <td>2019.693284</td>\n",
       "      <td>382.21</td>\n",
       "      <td>31.13</td>\n",
       "      <td>7.550955</td>\n",
       "      <td>55.016935</td>\n",
       "      <td>31.15</td>\n",
       "      <td>31.17</td>\n",
       "      <td>31.17</td>\n",
       "      <td>-0.143703</td>\n",
       "      <td>58.219900</td>\n",
       "      <td>8882.8</td>\n",
       "    </tr>\n",
       "    <tr>\n",
       "      <th>2017-06-13 10:35:09.771000+02:00</th>\n",
       "      <td>31.193333</td>\n",
       "      <td>0.033500</td>\n",
       "      <td>0.001122</td>\n",
       "      <td>31.27</td>\n",
       "      <td>31.15</td>\n",
       "      <td>0.523330</td>\n",
       "      <td>-0.798863</td>\n",
       "      <td>31.17</td>\n",
       "      <td>31.19</td>\n",
       "      <td>31.23</td>\n",
       "      <td>0.000417</td>\n",
       "      <td>31.193351</td>\n",
       "      <td>7486.4</td>\n",
       "    </tr>\n",
       "  </tbody>\n",
       "</table>\n",
       "</div>"
      ],
      "text/plain": [
       "                                   TMP_mean    TMP_std      TMP_var  TMP_amax  \\\n",
       "timestamp                                                                       \n",
       "2017-06-13 10:34:39.771000+02:00  37.011667  44.940998  2019.693284    382.21   \n",
       "2017-06-13 10:35:09.771000+02:00  31.193333   0.033500     0.001122     31.27   \n",
       "\n",
       "                                  TMP_amin  TMP_skew  TMP_kurtosis  \\\n",
       "timestamp                                                            \n",
       "2017-06-13 10:34:39.771000+02:00     31.13  7.550955     55.016935   \n",
       "2017-06-13 10:35:09.771000+02:00     31.15  0.523330     -0.798863   \n",
       "\n",
       "                                  TMP_quantile_0.25  TMP_quantile_0.5  \\\n",
       "timestamp                                                               \n",
       "2017-06-13 10:34:39.771000+02:00              31.15             31.17   \n",
       "2017-06-13 10:35:09.771000+02:00              31.17             31.19   \n",
       "\n",
       "                                  TMP_quantile_0.75  TMP_slope    TMP_rms  \\\n",
       "timestamp                                                                   \n",
       "2017-06-13 10:34:39.771000+02:00              31.17  -0.143703  58.219900   \n",
       "2017-06-13 10:35:09.771000+02:00              31.23   0.000417  31.193351   \n",
       "\n",
       "                                  TMP_area  \n",
       "timestamp                                   \n",
       "2017-06-13 10:34:39.771000+02:00    8882.8  \n",
       "2017-06-13 10:35:09.771000+02:00    7486.4  "
      ]
     },
     "execution_count": 12,
     "metadata": {},
     "output_type": "execute_result"
    }
   ],
   "source": [
    "win_stride_feat_dict = tmp_feat_extr.calculate_features(df_tmp)\n",
    "# outputs a dict -> keys are the window, stride tuple, the value is the corresponding dataframe\n",
    "print(win_stride_feat_dict.keys())\n",
    "list(win_stride_feat_dict.values())[0].head(2)"
   ]
  },
  {
   "cell_type": "markdown",
   "metadata": {},
   "source": [
    "### Arbitrary window size"
   ]
  },
  {
   "cell_type": "markdown",
   "metadata": {},
   "source": [
    "**GSR**"
   ]
  },
  {
   "cell_type": "code",
   "execution_count": 13,
   "metadata": {},
   "outputs": [
    {
     "data": {
      "text/plain": [
       "\twin: 480, stride: 120: [\n",
       "\t\tNumpyFeatureCalculation - func: mean,  \n",
       "\t\tNumpyFeatureCalculation - func: skew,  \n",
       "\t\tNumpyFeatureCalculation - func: sum - kwargs: {} - col_names: ['area'],  \n",
       "\t]\n",
       "\twin: 480, stride: 80: [\n",
       "\t\tNumpyFeatureCalculation - func: std,  \n",
       "\t\tNumpyFeatureCalculation - func: quantile - kwargs: {'q': [0.25, 0.5, 0.75]} - col_names: ['quantile_0.25', 'quantile_0.5', 'quantile_0.75'],  \n",
       "\t\tNumpyFeatureCalculation - func: <lambda> - kwargs: {} - col_names: ['rms'],  \n",
       "\t]\n",
       "\twin: 240, stride: 80: [\n",
       "\t\tNumpyFeatureCalculation - func: var,  \n",
       "\t]\n",
       "\twin: 240, stride: 120: [\n",
       "\t\tNumpyFeatureCalculation - func: amax,  \n",
       "\t]\n",
       "\twin: 480, stride: 40: [\n",
       "\t\tNumpyFeatureCalculation - func: amin,  \n",
       "\t\tNumpyFeatureCalculation - func: kurtosis,  \n",
       "\t]\n",
       "\twin: 240, stride: 40: [\n",
       "\t\tNumpyFeatureCalculation - func: <lambda> - kwargs: {} - col_names: ['slope'],  \n",
       "\t]"
      ]
     },
     "execution_count": 13,
     "metadata": {},
     "output_type": "execute_result"
    }
   ],
   "source": [
    "# PoC: we will select a random choice / combination of the window_size stride combination\n",
    "window_size_s = [60, 120]\n",
    "stride_size_s = [30, 10, 20]\n",
    "fs_gsr = 4\n",
    "\n",
    "import random\n",
    "gsr_feat_extr = NumpyFeatureCalculationRegistry(\n",
    "    [NumpyFeatureCalculation(win_size=random.choice(window_size_s) * fs_tmp, stride=random.choice(stride_size_s) * fs_tmp, func=f) for f in segment_funcs])\n",
    "gsr_feat_extr"
   ]
  },
  {
   "cell_type": "code",
   "execution_count": 14,
   "metadata": {},
   "outputs": [
    {
     "name": "stdout",
     "output_type": "stream",
     "text": [
      "dict_keys([(480, 120), (480, 80), (240, 80), (240, 120), (480, 40), (240, 40)])\n"
     ]
    },
    {
     "data": {
      "text/html": [
       "<div>\n",
       "<style scoped>\n",
       "    .dataframe tbody tr th:only-of-type {\n",
       "        vertical-align: middle;\n",
       "    }\n",
       "\n",
       "    .dataframe tbody tr th {\n",
       "        vertical-align: top;\n",
       "    }\n",
       "\n",
       "    .dataframe thead th {\n",
       "        text-align: right;\n",
       "    }\n",
       "</style>\n",
       "<table border=\"1\" class=\"dataframe\">\n",
       "  <thead>\n",
       "    <tr style=\"text-align: right;\">\n",
       "      <th></th>\n",
       "      <th>EDA_mean</th>\n",
       "      <th>EDA_skew</th>\n",
       "      <th>EDA_area</th>\n",
       "    </tr>\n",
       "    <tr>\n",
       "      <th>timestamp</th>\n",
       "      <th></th>\n",
       "      <th></th>\n",
       "      <th></th>\n",
       "    </tr>\n",
       "  </thead>\n",
       "  <tbody>\n",
       "    <tr>\n",
       "      <th>2017-06-13 10:35:39.813000+02:00</th>\n",
       "      <td>0.190810</td>\n",
       "      <td>3.063073</td>\n",
       "      <td>91.588876</td>\n",
       "    </tr>\n",
       "    <tr>\n",
       "      <th>2017-06-13 10:36:09.813000+02:00</th>\n",
       "      <td>0.307291</td>\n",
       "      <td>0.778284</td>\n",
       "      <td>147.499680</td>\n",
       "    </tr>\n",
       "  </tbody>\n",
       "</table>\n",
       "</div>"
      ],
      "text/plain": [
       "                                  EDA_mean  EDA_skew    EDA_area\n",
       "timestamp                                                       \n",
       "2017-06-13 10:35:39.813000+02:00  0.190810  3.063073   91.588876\n",
       "2017-06-13 10:36:09.813000+02:00  0.307291  0.778284  147.499680"
      ]
     },
     "execution_count": 14,
     "metadata": {},
     "output_type": "execute_result"
    }
   ],
   "source": [
    "win_stride_feat_dict = gsr_feat_extr.calculate_features(df_gsr)\n",
    "# we can see that we return multiple keys based on the calculated features\n",
    "print(win_stride_feat_dict.keys())\n",
    "list(win_stride_feat_dict.values())[0].head(2)"
   ]
  },
  {
   "cell_type": "markdown",
   "metadata": {},
   "source": [
    "### Multiple time series"
   ]
  },
  {
   "cell_type": "code",
   "execution_count": 15,
   "metadata": {},
   "outputs": [
    {
     "data": {
      "text/plain": [
       "gsr: (\n",
       "\twin: 480, stride: 120: [\n",
       "\t\tNumpyFeatureCalculation - func: mean,  \n",
       "\t\tNumpyFeatureCalculation - func: skew,  \n",
       "\t\tNumpyFeatureCalculation - func: sum - kwargs: {} - col_names: ['area'],  \n",
       "\t]\n",
       "\twin: 480, stride: 80: [\n",
       "\t\tNumpyFeatureCalculation - func: std,  \n",
       "\t\tNumpyFeatureCalculation - func: quantile - kwargs: {'q': [0.25, 0.5, 0.75]} - col_names: ['quantile_0.25', 'quantile_0.5', 'quantile_0.75'],  \n",
       "\t\tNumpyFeatureCalculation - func: <lambda> - kwargs: {} - col_names: ['rms'],  \n",
       "\t]\n",
       "\twin: 240, stride: 80: [\n",
       "\t\tNumpyFeatureCalculation - func: var,  \n",
       "\t]\n",
       "\twin: 240, stride: 120: [\n",
       "\t\tNumpyFeatureCalculation - func: amax,  \n",
       "\t]\n",
       "\twin: 480, stride: 40: [\n",
       "\t\tNumpyFeatureCalculation - func: amin,  \n",
       "\t\tNumpyFeatureCalculation - func: kurtosis,  \n",
       "\t]\n",
       "\twin: 240, stride: 40: [\n",
       "\t\tNumpyFeatureCalculation - func: <lambda> - kwargs: {} - col_names: ['slope'],  \n",
       "\t]\n",
       "\n",
       ")\n",
       "tmp: (\n",
       "\twin: 240, stride: 120: [\n",
       "\t\tNumpyFeatureCalculation - func: mean,  \n",
       "\t\tNumpyFeatureCalculation - func: std,  \n",
       "\t\tNumpyFeatureCalculation - func: var,  \n",
       "\t\tNumpyFeatureCalculation - func: amax,  \n",
       "\t\tNumpyFeatureCalculation - func: amin,  \n",
       "\t\tNumpyFeatureCalculation - func: skew,  \n",
       "\t\tNumpyFeatureCalculation - func: kurtosis,  \n",
       "\t\tNumpyFeatureCalculation - func: quantile - kwargs: {'q': [0.25, 0.5, 0.75]} - col_names: ['quantile_0.25', 'quantile_0.5', 'quantile_0.75'],  \n",
       "\t\tNumpyFeatureCalculation - func: <lambda> - kwargs: {} - col_names: ['slope'],  \n",
       "\t\tNumpyFeatureCalculation - func: <lambda> - kwargs: {} - col_names: ['rms'],  \n",
       "\t\tNumpyFeatureCalculation - func: sum - kwargs: {} - col_names: ['area'],  \n",
       "\t]\n",
       "\n",
       ")"
      ]
     },
     "execution_count": 15,
     "metadata": {},
     "output_type": "execute_result"
    }
   ],
   "source": [
    "# Construct the feature extraction pipeline (higher order wrapper which aggregates the feature calculataions\n",
    "feature_extraction = NumpyFeatureCalculationPipeline(df_feature_wrappers=[\n",
    "    ('gsr', gsr_feat_extr),\n",
    "    ('tmp', tmp_feat_extr),\n",
    "])\n",
    "feature_extraction"
   ]
  },
  {
   "cell_type": "code",
   "execution_count": 16,
   "metadata": {},
   "outputs": [
    {
     "data": {
      "text/html": [
       "<div>\n",
       "<style scoped>\n",
       "    .dataframe tbody tr th:only-of-type {\n",
       "        vertical-align: middle;\n",
       "    }\n",
       "\n",
       "    .dataframe tbody tr th {\n",
       "        vertical-align: top;\n",
       "    }\n",
       "\n",
       "    .dataframe thead th {\n",
       "        text-align: right;\n",
       "    }\n",
       "</style>\n",
       "<table border=\"1\" class=\"dataframe\">\n",
       "  <thead>\n",
       "    <tr style=\"text-align: right;\">\n",
       "      <th></th>\n",
       "      <th>EDA_slope__w=480_s=120</th>\n",
       "      <th>EDA_amin__w=480_s=80</th>\n",
       "      <th>EDA_kurtosis__w=480_s=80</th>\n",
       "      <th>EDA_var__w=240_s=80</th>\n",
       "      <th>EDA_std__w=240_s=120</th>\n",
       "      <th>EDA_quantile_0.25__w=240_s=120</th>\n",
       "      <th>EDA_quantile_0.5__w=240_s=120</th>\n",
       "      <th>EDA_quantile_0.75__w=240_s=120</th>\n",
       "      <th>EDA_rms__w=240_s=120</th>\n",
       "      <th>EDA_amax__w=480_s=40</th>\n",
       "      <th>...</th>\n",
       "      <th>TMP_kurtosis__w=240_s=40</th>\n",
       "      <th>TMP_quantile_0.25__w=240_s=40</th>\n",
       "      <th>TMP_quantile_0.5__w=240_s=40</th>\n",
       "      <th>TMP_quantile_0.75__w=240_s=40</th>\n",
       "      <th>TMP_slope__w=240_s=40</th>\n",
       "      <th>TMP_rms__w=240_s=40</th>\n",
       "      <th>TMP_area__w=240_s=40</th>\n",
       "      <th>EDA_mean__w=240_s=120</th>\n",
       "      <th>EDA_skew__w=240_s=120</th>\n",
       "      <th>EDA_area__w=240_s=120</th>\n",
       "    </tr>\n",
       "    <tr>\n",
       "      <th>timestamp</th>\n",
       "      <th></th>\n",
       "      <th></th>\n",
       "      <th></th>\n",
       "      <th></th>\n",
       "      <th></th>\n",
       "      <th></th>\n",
       "      <th></th>\n",
       "      <th></th>\n",
       "      <th></th>\n",
       "      <th></th>\n",
       "      <th></th>\n",
       "      <th></th>\n",
       "      <th></th>\n",
       "      <th></th>\n",
       "      <th></th>\n",
       "      <th></th>\n",
       "      <th></th>\n",
       "      <th></th>\n",
       "      <th></th>\n",
       "      <th></th>\n",
       "      <th></th>\n",
       "    </tr>\n",
       "  </thead>\n",
       "  <tbody>\n",
       "    <tr>\n",
       "      <th>2017-06-13 10:34:39.813000+02:00</th>\n",
       "      <td>0.000033</td>\n",
       "      <td>0.0</td>\n",
       "      <td>8.214156</td>\n",
       "      <td>0.000116</td>\n",
       "      <td>0.105031</td>\n",
       "      <td>0.153501</td>\n",
       "      <td>0.156059</td>\n",
       "      <td>0.158618</td>\n",
       "      <td>0.217807</td>\n",
       "      <td>0.161176</td>\n",
       "      <td>...</td>\n",
       "      <td>55.016935</td>\n",
       "      <td>31.15</td>\n",
       "      <td>31.17</td>\n",
       "      <td>31.17</td>\n",
       "      <td>-0.143703</td>\n",
       "      <td>58.2199</td>\n",
       "      <td>8882.8</td>\n",
       "      <td>0.19081</td>\n",
       "      <td>3.063073</td>\n",
       "      <td>91.588876</td>\n",
       "    </tr>\n",
       "    <tr>\n",
       "      <th>2017-06-13 10:34:49.813000+02:00</th>\n",
       "      <td>-0.000008</td>\n",
       "      <td>0.0</td>\n",
       "      <td>8.214156</td>\n",
       "      <td>0.000116</td>\n",
       "      <td>0.105031</td>\n",
       "      <td>0.153501</td>\n",
       "      <td>0.156059</td>\n",
       "      <td>0.158618</td>\n",
       "      <td>0.217807</td>\n",
       "      <td>0.161176</td>\n",
       "      <td>...</td>\n",
       "      <td>55.016935</td>\n",
       "      <td>31.15</td>\n",
       "      <td>31.17</td>\n",
       "      <td>31.17</td>\n",
       "      <td>-0.143703</td>\n",
       "      <td>58.2199</td>\n",
       "      <td>8882.8</td>\n",
       "      <td>0.19081</td>\n",
       "      <td>3.063073</td>\n",
       "      <td>91.588876</td>\n",
       "    </tr>\n",
       "  </tbody>\n",
       "</table>\n",
       "<p>2 rows × 26 columns</p>\n",
       "</div>"
      ],
      "text/plain": [
       "                                  EDA_slope__w=480_s=120  \\\n",
       "timestamp                                                  \n",
       "2017-06-13 10:34:39.813000+02:00                0.000033   \n",
       "2017-06-13 10:34:49.813000+02:00               -0.000008   \n",
       "\n",
       "                                  EDA_amin__w=480_s=80  \\\n",
       "timestamp                                                \n",
       "2017-06-13 10:34:39.813000+02:00                   0.0   \n",
       "2017-06-13 10:34:49.813000+02:00                   0.0   \n",
       "\n",
       "                                  EDA_kurtosis__w=480_s=80  \\\n",
       "timestamp                                                    \n",
       "2017-06-13 10:34:39.813000+02:00                  8.214156   \n",
       "2017-06-13 10:34:49.813000+02:00                  8.214156   \n",
       "\n",
       "                                  EDA_var__w=240_s=80  EDA_std__w=240_s=120  \\\n",
       "timestamp                                                                     \n",
       "2017-06-13 10:34:39.813000+02:00             0.000116              0.105031   \n",
       "2017-06-13 10:34:49.813000+02:00             0.000116              0.105031   \n",
       "\n",
       "                                  EDA_quantile_0.25__w=240_s=120  \\\n",
       "timestamp                                                          \n",
       "2017-06-13 10:34:39.813000+02:00                        0.153501   \n",
       "2017-06-13 10:34:49.813000+02:00                        0.153501   \n",
       "\n",
       "                                  EDA_quantile_0.5__w=240_s=120  \\\n",
       "timestamp                                                         \n",
       "2017-06-13 10:34:39.813000+02:00                       0.156059   \n",
       "2017-06-13 10:34:49.813000+02:00                       0.156059   \n",
       "\n",
       "                                  EDA_quantile_0.75__w=240_s=120  \\\n",
       "timestamp                                                          \n",
       "2017-06-13 10:34:39.813000+02:00                        0.158618   \n",
       "2017-06-13 10:34:49.813000+02:00                        0.158618   \n",
       "\n",
       "                                  EDA_rms__w=240_s=120  EDA_amax__w=480_s=40  \\\n",
       "timestamp                                                                      \n",
       "2017-06-13 10:34:39.813000+02:00              0.217807              0.161176   \n",
       "2017-06-13 10:34:49.813000+02:00              0.217807              0.161176   \n",
       "\n",
       "                                  ...  TMP_kurtosis__w=240_s=40  \\\n",
       "timestamp                         ...                             \n",
       "2017-06-13 10:34:39.813000+02:00  ...                 55.016935   \n",
       "2017-06-13 10:34:49.813000+02:00  ...                 55.016935   \n",
       "\n",
       "                                  TMP_quantile_0.25__w=240_s=40  \\\n",
       "timestamp                                                         \n",
       "2017-06-13 10:34:39.813000+02:00                          31.15   \n",
       "2017-06-13 10:34:49.813000+02:00                          31.15   \n",
       "\n",
       "                                  TMP_quantile_0.5__w=240_s=40  \\\n",
       "timestamp                                                        \n",
       "2017-06-13 10:34:39.813000+02:00                         31.17   \n",
       "2017-06-13 10:34:49.813000+02:00                         31.17   \n",
       "\n",
       "                                  TMP_quantile_0.75__w=240_s=40  \\\n",
       "timestamp                                                         \n",
       "2017-06-13 10:34:39.813000+02:00                          31.17   \n",
       "2017-06-13 10:34:49.813000+02:00                          31.17   \n",
       "\n",
       "                                  TMP_slope__w=240_s=40  TMP_rms__w=240_s=40  \\\n",
       "timestamp                                                                      \n",
       "2017-06-13 10:34:39.813000+02:00              -0.143703              58.2199   \n",
       "2017-06-13 10:34:49.813000+02:00              -0.143703              58.2199   \n",
       "\n",
       "                                  TMP_area__w=240_s=40  EDA_mean__w=240_s=120  \\\n",
       "timestamp                                                                       \n",
       "2017-06-13 10:34:39.813000+02:00                8882.8                0.19081   \n",
       "2017-06-13 10:34:49.813000+02:00                8882.8                0.19081   \n",
       "\n",
       "                                  EDA_skew__w=240_s=120  EDA_area__w=240_s=120  \n",
       "timestamp                                                                       \n",
       "2017-06-13 10:34:39.813000+02:00               3.063073              91.588876  \n",
       "2017-06-13 10:34:49.813000+02:00               3.063073              91.588876  \n",
       "\n",
       "[2 rows x 26 columns]"
      ]
     },
     "execution_count": 16,
     "metadata": {},
     "output_type": "execute_result"
    }
   ],
   "source": [
    "df_feat = feature_extraction({'gsr': df_gsr, 'tmp': df_tmp})\n",
    "df_feat.head(2)"
   ]
  },
  {
   "cell_type": "markdown",
   "metadata": {},
   "source": [
    "# LAYD: Look At Your Data"
   ]
  },
  {
   "cell_type": "code",
   "execution_count": 17,
   "metadata": {},
   "outputs": [],
   "source": [
    "import plotly.graph_objects as go\n",
    "from plotly.subplots import make_subplots\n",
    "\n",
    "import ipywidgets as widgets\n",
    "from ipywidgets import interact_manual"
   ]
  },
  {
   "cell_type": "code",
   "execution_count": 18,
   "metadata": {},
   "outputs": [],
   "source": [
    "df_dict = {\n",
    "    'tmp': df_tmp,\n",
    "    'gsr': df_gsr\n",
    "}"
   ]
  },
  {
   "cell_type": "code",
   "execution_count": 19,
   "metadata": {},
   "outputs": [],
   "source": [
    "feat_widget = widgets.SelectMultiple(options=df_feat.columns)\n",
    "sig_widget = widgets.SelectMultiple(options=['gsr', 'tmp'])"
   ]
  },
  {
   "cell_type": "code",
   "execution_count": 20,
   "metadata": {},
   "outputs": [
    {
     "data": {
      "application/vnd.jupyter.widget-view+json": {
       "model_id": "dc88c7b162c843d89c605e710ca9d821",
       "version_major": 2,
       "version_minor": 0
      },
      "text/plain": [
       "interactive(children=(SelectMultiple(description='features', options=('EDA_slope__w=480_s=120', 'EDA_amin__w=4…"
      ]
     },
     "metadata": {},
     "output_type": "display_data"
    }
   ],
   "source": [
    "@interact_manual\n",
    "def visuzalize(features=feat_widget, signals=sig_widget):\n",
    "    row_titles = list(signals) + ['features'] if len(features) else []\n",
    "    fig = make_subplots(rows=len(row_titles), cols=1, shared_xaxes=True, vertical_spacing=0.1/len(row_titles), row_titles=row_titles)\n",
    "    fig.update_layout(height=300 * len(row_titles))\n",
    "    \n",
    "    # first, visualize the \"raw\" signals\n",
    "    row_idx = 1\n",
    "    for sig in signals:\n",
    "        df_sig = df_dict[sig][10:].resample('1s').mean()\n",
    "        for col in set(df_sig.columns).difference(['index', 'timestamp']):\n",
    "            fig.add_trace(go.Scattergl(x=df_sig.index, y=df_sig[col], name=col, hoverinfo='skip'), row=row_idx, col=1)\n",
    "        row_idx +=1 \n",
    "\n",
    "    # then visualize the features\n",
    "    df_f = df_feat[3:]\n",
    "    for feature in features:\n",
    "        fig.add_trace(go.Scattergl(x=df_f.index, y=df_f[feature], name=feature, hoverinfo='skip', showlegend=True), row=row_idx, col=1)\n",
    "    \n",
    "    return fig"
   ]
  },
  {
   "cell_type": "code",
   "execution_count": null,
   "metadata": {},
   "outputs": [],
   "source": []
  }
 ],
 "metadata": {
  "kernelspec": {
   "display_name": "Python 3",
   "language": "python",
   "name": "python3"
  },
  "language_info": {
   "codemirror_mode": {
    "name": "ipython",
    "version": 3
   },
   "file_extension": ".py",
   "mimetype": "text/x-python",
   "name": "python",
   "nbconvert_exporter": "python",
   "pygments_lexer": "ipython3",
   "version": "3.8.5"
  },
  "toc-autonumbering": true
 },
 "nbformat": 4,
 "nbformat_minor": 4
}
