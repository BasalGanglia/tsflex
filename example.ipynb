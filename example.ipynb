{
 "cells": [
  {
   "cell_type": "markdown",
   "metadata": {},
   "source": [
    "# Time series\n"
   ]
  },
  {
   "cell_type": "code",
   "execution_count": 1,
   "metadata": {},
   "outputs": [],
   "source": [
    "%load_ext autoreload\n",
    "%autoreload 2"
   ]
  },
  {
   "cell_type": "code",
   "execution_count": 2,
   "metadata": {},
   "outputs": [],
   "source": [
    "from datetime import timedelta\n",
    "\n",
    "import numpy as np\n",
    "import pandas as pd"
   ]
  },
  {
   "cell_type": "markdown",
   "metadata": {},
   "source": [
    "## Use case - multiple time series signals"
   ]
  },
  {
   "cell_type": "markdown",
   "metadata": {},
   "source": [
    "### Input: **datetime indexed time(zone-aware) series dataframes**"
   ]
  },
  {
   "cell_type": "markdown",
   "metadata": {},
   "source": [
    "[documentation datetime index](https://pandas.pydata.org/pandas-docs/stable/reference/api/pandas.DatetimeIndex.html)"
   ]
  },
  {
   "cell_type": "code",
   "execution_count": 3,
   "metadata": {},
   "outputs": [],
   "source": [
    "# load the data (and add a random offset to it), as multimodal data might be\n",
    "# with some small offsets\n",
    "df_gsr = pd.read_feather(\"data/gsr.feather\")\n",
    "df_gsr[\"timestamp\"] += timedelta(milliseconds=np.random.randint(-125, 125))\n",
    "df_gsr.set_index(\"timestamp\", inplace=True)\n",
    "\n",
    "df_tmp = pd.read_feather(\"data/tmp.feather\")\n",
    "df_tmp[\"timestamp\"] += timedelta(milliseconds=np.random.randint(-125, 125))\n",
    "df_tmp.set_index(\"timestamp\", inplace=True)"
   ]
  },
  {
   "cell_type": "code",
   "execution_count": 4,
   "metadata": {},
   "outputs": [
    {
     "data": {
      "text/plain": [
       "pandas.core.indexes.datetimes.DatetimeIndex"
      ]
     },
     "execution_count": 4,
     "metadata": {},
     "output_type": "execute_result"
    }
   ],
   "source": [
    "type(df_gsr.index)"
   ]
  },
  {
   "cell_type": "code",
   "execution_count": 5,
   "metadata": {},
   "outputs": [
    {
     "name": "stdout",
     "output_type": "stream",
     "text": [
      "(31998, 1)\n"
     ]
    },
    {
     "data": {
      "text/html": [
       "<div>\n",
       "<style scoped>\n",
       "    .dataframe tbody tr th:only-of-type {\n",
       "        vertical-align: middle;\n",
       "    }\n",
       "\n",
       "    .dataframe tbody tr th {\n",
       "        vertical-align: top;\n",
       "    }\n",
       "\n",
       "    .dataframe thead th {\n",
       "        text-align: right;\n",
       "    }\n",
       "</style>\n",
       "<table border=\"1\" class=\"dataframe\">\n",
       "  <thead>\n",
       "    <tr style=\"text-align: right;\">\n",
       "      <th></th>\n",
       "      <th>EDA</th>\n",
       "    </tr>\n",
       "    <tr>\n",
       "      <th>timestamp</th>\n",
       "      <th></th>\n",
       "    </tr>\n",
       "  </thead>\n",
       "  <tbody>\n",
       "    <tr>\n",
       "      <th>2017-06-13 10:33:40.061000+02:00</th>\n",
       "      <td>0.000000</td>\n",
       "    </tr>\n",
       "    <tr>\n",
       "      <th>2017-06-13 10:33:40.311000+02:00</th>\n",
       "      <td>0.107451</td>\n",
       "    </tr>\n",
       "  </tbody>\n",
       "</table>\n",
       "</div>"
      ],
      "text/plain": [
       "                                       EDA\n",
       "timestamp                                 \n",
       "2017-06-13 10:33:40.061000+02:00  0.000000\n",
       "2017-06-13 10:33:40.311000+02:00  0.107451"
      ]
     },
     "execution_count": 5,
     "metadata": {},
     "output_type": "execute_result"
    }
   ],
   "source": [
    "print(df_gsr.shape)\n",
    "df_gsr.head(2)"
   ]
  },
  {
   "cell_type": "code",
   "execution_count": 6,
   "metadata": {},
   "outputs": [
    {
     "name": "stdout",
     "output_type": "stream",
     "text": [
      "(31992, 1)\n"
     ]
    },
    {
     "data": {
      "text/html": [
       "<div>\n",
       "<style scoped>\n",
       "    .dataframe tbody tr th:only-of-type {\n",
       "        vertical-align: middle;\n",
       "    }\n",
       "\n",
       "    .dataframe tbody tr th {\n",
       "        vertical-align: top;\n",
       "    }\n",
       "\n",
       "    .dataframe thead th {\n",
       "        text-align: right;\n",
       "    }\n",
       "</style>\n",
       "<table border=\"1\" class=\"dataframe\">\n",
       "  <thead>\n",
       "    <tr style=\"text-align: right;\">\n",
       "      <th></th>\n",
       "      <th>TMP</th>\n",
       "    </tr>\n",
       "    <tr>\n",
       "      <th>timestamp</th>\n",
       "      <th></th>\n",
       "    </tr>\n",
       "  </thead>\n",
       "  <tbody>\n",
       "    <tr>\n",
       "      <th>2017-06-13 10:33:39.982000+02:00</th>\n",
       "      <td>382.21</td>\n",
       "    </tr>\n",
       "    <tr>\n",
       "      <th>2017-06-13 10:33:40.232000+02:00</th>\n",
       "      <td>382.21</td>\n",
       "    </tr>\n",
       "  </tbody>\n",
       "</table>\n",
       "</div>"
      ],
      "text/plain": [
       "                                     TMP\n",
       "timestamp                               \n",
       "2017-06-13 10:33:39.982000+02:00  382.21\n",
       "2017-06-13 10:33:40.232000+02:00  382.21"
      ]
     },
     "execution_count": 6,
     "metadata": {},
     "output_type": "execute_result"
    }
   ],
   "source": [
    "print(df_tmp.shape)\n",
    "df_tmp.head(2)"
   ]
  },
  {
   "cell_type": "markdown",
   "metadata": {},
   "source": [
    "---"
   ]
  },
  {
   "cell_type": "markdown",
   "metadata": {},
   "source": [
    "### Intermezzo Joining multiple time series: `pd.merge_asof`"
   ]
  },
  {
   "cell_type": "markdown",
   "metadata": {},
   "source": [
    "[documentation](https://pandas.pydata.org/pandas-docs/stable/reference/api/pandas.merge_asof.html)"
   ]
  },
  {
   "cell_type": "code",
   "execution_count": 7,
   "metadata": {},
   "outputs": [
    {
     "data": {
      "text/html": [
       "<div>\n",
       "<style scoped>\n",
       "    .dataframe tbody tr th:only-of-type {\n",
       "        vertical-align: middle;\n",
       "    }\n",
       "\n",
       "    .dataframe tbody tr th {\n",
       "        vertical-align: top;\n",
       "    }\n",
       "\n",
       "    .dataframe thead th {\n",
       "        text-align: right;\n",
       "    }\n",
       "</style>\n",
       "<table border=\"1\" class=\"dataframe\">\n",
       "  <thead>\n",
       "    <tr style=\"text-align: right;\">\n",
       "      <th></th>\n",
       "      <th>TMP</th>\n",
       "      <th>EDA</th>\n",
       "    </tr>\n",
       "    <tr>\n",
       "      <th>timestamp</th>\n",
       "      <th></th>\n",
       "      <th></th>\n",
       "    </tr>\n",
       "  </thead>\n",
       "  <tbody>\n",
       "    <tr>\n",
       "      <th>2017-06-13 10:33:40.982000+02:00</th>\n",
       "      <td>31.15</td>\n",
       "      <td>0.153501</td>\n",
       "    </tr>\n",
       "    <tr>\n",
       "      <th>2017-06-13 10:33:41.232000+02:00</th>\n",
       "      <td>31.15</td>\n",
       "      <td>0.148384</td>\n",
       "    </tr>\n",
       "  </tbody>\n",
       "</table>\n",
       "</div>"
      ],
      "text/plain": [
       "                                    TMP       EDA\n",
       "timestamp                                        \n",
       "2017-06-13 10:33:40.982000+02:00  31.15  0.153501\n",
       "2017-06-13 10:33:41.232000+02:00  31.15  0.148384"
      ]
     },
     "execution_count": 7,
     "metadata": {},
     "output_type": "execute_result"
    }
   ],
   "source": [
    "# the name of the index columns is \"timestamp\"\n",
    "df_tot = pd.merge_asof(\n",
    "    df_tmp[4:], df_gsr, on=\"timestamp\", direction=\"nearest\"\n",
    ").set_index(\"timestamp\")\n",
    "df_tot.head(2)"
   ]
  },
  {
   "cell_type": "code",
   "execution_count": 8,
   "metadata": {},
   "outputs": [],
   "source": [
    "# preserve causality -> direction = backward\n",
    "#  A “backward” search selects the last row in the right DataFrame whose ‘on’\n",
    "#  key is less than or equal to the left’s key.\n",
    "df_tot = pd.merge_asof(\n",
    "    df_tmp[10:], df_gsr, on=\"timestamp\", direction=\"backward\"\n",
    ").set_index(\"timestamp\")"
   ]
  },
  {
   "cell_type": "markdown",
   "metadata": {},
   "source": [
    "certainly look at `tolerance` and `direction` argument of this function!"
   ]
  },
  {
   "cell_type": "markdown",
   "metadata": {},
   "source": [
    "---"
   ]
  },
  {
   "cell_type": "markdown",
   "metadata": {},
   "source": [
    "# Classical machine learning -> feature extraction"
   ]
  },
  {
   "cell_type": "markdown",
   "metadata": {},
   "source": [
    "Most common way to extract time series features: a **window-strided** manner\n",
    "\n",
    "challenges:\n",
    "* Always assumes fixed window size & stride\n",
    "* No efficient implementations for dataframes (pd.rolling assumes same input<->output dimensions --> no stride possible) \n",
    "* No support aggregation multiple time series \n",
    "\n",
    "--> Writing my own code "
   ]
  },
  {
   "cell_type": "code",
   "execution_count": 9,
   "metadata": {},
   "outputs": [],
   "source": [
    "import sys\n",
    "\n",
    "# time series feature extraction\n",
    "sys.path.append(\"time_series/\")\n",
    "# Serialization\n",
    "import dill as pickle\n",
    "import scipy.stats as ss\n",
    "\n",
    "from time_series import FeatureCollection, NumpyFuncWrapper\n",
    "from time_series.features import FeatureDescriptor\n",
    "\n",
    "# todo add example for MultipleFeatureDescriptors class\n",
    "# from time_series.features import MultipleFeatureDescriptors\n",
    "\n",
    "pickle.settings[\"recurse\"] = True  # allows to serialize lambda's YAY!"
   ]
  },
  {
   "cell_type": "markdown",
   "metadata": {},
   "source": [
    "## Defining functions"
   ]
  },
  {
   "cell_type": "code",
   "execution_count": 10,
   "metadata": {},
   "outputs": [],
   "source": [
    "# --------------------- some custom feature extraction functions ---------------------\n",
    "# 1. one-to-many functions (as quantiles sort the windowed data) you might\n",
    "#    want to calculate them in 1 step\n",
    "quantiles = [0.25, 0.5, 0.75]\n",
    "f_quantiles = NumpyFuncWrapper(\n",
    "    np.quantile, output_names=[f\"quantile_{q}\" for q in quantiles], q=quantiles\n",
    ")  # fyi: you can pass kwargs (in this case q=quantiles)\n",
    "\n",
    "\n",
    "# 2. in-line functions\n",
    "def slope(x):\n",
    "    return np.polyfit(np.arange(0, len(x)), x, 1)[0]\n",
    "\n",
    "\n",
    "def rms(x):\n",
    "    return np.sqrt(np.mean(x ** 2))\n",
    "\n",
    "\n",
    "f_slope = NumpyFuncWrapper(slope, output_names=\"slope\")\n",
    "f_rms = NumpyFuncWrapper(rms, output_names=\"rms\")\n",
    "f_area = NumpyFuncWrapper(np.sum, output_names=\"area\")\n",
    "\n",
    "segment_funcs = [\n",
    "    np.mean,\n",
    "    np.std,\n",
    "    np.var,\n",
    "    np.max,\n",
    "    np.min,\n",
    "    ss.skew,\n",
    "    ss.kurtosis,\n",
    "    f_quantiles,\n",
    "    f_slope,\n",
    "    f_rms,\n",
    "    f_area,\n",
    "]"
   ]
  },
  {
   "cell_type": "markdown",
   "metadata": {},
   "source": [
    "## Lambdas"
   ]
  },
  {
   "cell_type": "markdown",
   "metadata": {},
   "source": [
    "Lambda's aren't serializable by default, making them hard to use in other enivronments (such als multiprocessing pools).\n",
    "\n",
    "Hence, the `NumpyFuncWrapper` class will output a warning if lambda's are being used.\n",
    "\n",
    "**note**:\n",
    "* A possible workaround to still use lambdas and multiprocessing is using [dill](https://github.com/uqfoundation/dill) (for serialization) and [pathos](https://github.com/uqfoundation/pathos) (for multiprocessing)."
   ]
  },
  {
   "cell_type": "code",
   "execution_count": 11,
   "metadata": {},
   "outputs": [
    {
     "name": "stderr",
     "output_type": "stream",
     "text": [
      "/home/jonas/git/gIDLab/predict/time_series/time_series/features/function_wrapper.py:38: UserWarning: \n",
      "Function: lambda_mean is a lambda, thus not pickle-able.\n",
      "This might give problems with multiprocessing.\n",
      "  f\"\\nFunction: {output_names} is a lambda, thus not pickle-able.\\n\"\n"
     ]
    }
   ],
   "source": [
    "_ = NumpyFuncWrapper(lambda x: np.mean(x), output_names=\"lambda_mean\")"
   ]
  },
  {
   "cell_type": "markdown",
   "metadata": {},
   "source": [
    "## Use case 1: single feature extraction for temperature signal"
   ]
  },
  {
   "cell_type": "markdown",
   "metadata": {},
   "source": [
    "### Fixed window size"
   ]
  },
  {
   "cell_type": "markdown",
   "metadata": {},
   "source": [
    "**TMP**"
   ]
  },
  {
   "cell_type": "code",
   "execution_count": 12,
   "metadata": {},
   "outputs": [
    {
     "data": {
      "text/plain": [
       "FeatureCollection(\n",
       "\tFeatureDescriptor(TMP, 240, 120) \n",
       "\tFeatureDescriptor(TMP, 240, 120) \n",
       "\tFeatureDescriptor(TMP, 240, 120) \n",
       "\tFeatureDescriptor(TMP, 240, 120) \n",
       "\tFeatureDescriptor(TMP, 240, 120) \n",
       "\tFeatureDescriptor(TMP, 240, 120) \n",
       "\tFeatureDescriptor(TMP, 240, 120) \n",
       "\tFeatureDescriptor(TMP, 240, 120) \n",
       "\tFeatureDescriptor(TMP, 240, 120) \n",
       "\tFeatureDescriptor(TMP, 240, 120) \n",
       "\tFeatureDescriptor(TMP, 240, 120) \n",
       ")"
      ]
     },
     "execution_count": 12,
     "metadata": {},
     "output_type": "execute_result"
    }
   ],
   "source": [
    "fs_tmp = 4\n",
    "tmp_win_size = 60 * fs_tmp\n",
    "tmp_stride_size = 30 * fs_tmp\n",
    "tmp_feat_extr = FeatureCollection(\n",
    "    [\n",
    "        FeatureDescriptor(\n",
    "            key=\"TMP\", window=tmp_win_size, stride=tmp_stride_size, function=f\n",
    "        )\n",
    "        for f in segment_funcs\n",
    "    ]\n",
    ")\n",
    "tmp_feat_extr"
   ]
  },
  {
   "cell_type": "code",
   "execution_count": 13,
   "metadata": {},
   "outputs": [
    {
     "name": "stdout",
     "output_type": "stream",
     "text": [
      "CPU times: user 50.4 ms, sys: 43.1 ms, total: 93.6 ms\n",
      "Wall time: 278 ms\n"
     ]
    },
    {
     "data": {
      "text/html": [
       "<div>\n",
       "<style scoped>\n",
       "    .dataframe tbody tr th:only-of-type {\n",
       "        vertical-align: middle;\n",
       "    }\n",
       "\n",
       "    .dataframe tbody tr th {\n",
       "        vertical-align: top;\n",
       "    }\n",
       "\n",
       "    .dataframe thead th {\n",
       "        text-align: right;\n",
       "    }\n",
       "</style>\n",
       "<table border=\"1\" class=\"dataframe\">\n",
       "  <thead>\n",
       "    <tr style=\"text-align: right;\">\n",
       "      <th></th>\n",
       "      <th>TMP_mean__w=240_s=120</th>\n",
       "      <th>TMP_std__w=240_s=120</th>\n",
       "      <th>TMP_var__w=240_s=120</th>\n",
       "      <th>TMP_amax__w=240_s=120</th>\n",
       "      <th>TMP_amin__w=240_s=120</th>\n",
       "      <th>TMP_skew__w=240_s=120</th>\n",
       "      <th>TMP_kurtosis__w=240_s=120</th>\n",
       "      <th>TMP_quantile_0.25__w=240_s=120</th>\n",
       "      <th>TMP_quantile_0.5__w=240_s=120</th>\n",
       "      <th>TMP_quantile_0.75__w=240_s=120</th>\n",
       "      <th>TMP_slope__w=240_s=120</th>\n",
       "      <th>TMP_rms__w=240_s=120</th>\n",
       "      <th>TMP_area__w=240_s=120</th>\n",
       "    </tr>\n",
       "    <tr>\n",
       "      <th>timestamp</th>\n",
       "      <th></th>\n",
       "      <th></th>\n",
       "      <th></th>\n",
       "      <th></th>\n",
       "      <th></th>\n",
       "      <th></th>\n",
       "      <th></th>\n",
       "      <th></th>\n",
       "      <th></th>\n",
       "      <th></th>\n",
       "      <th></th>\n",
       "      <th></th>\n",
       "      <th></th>\n",
       "    </tr>\n",
       "  </thead>\n",
       "  <tbody>\n",
       "    <tr>\n",
       "      <th>2017-06-13 12:46:09.732000+02:00</th>\n",
       "      <td>31.390</td>\n",
       "      <td>0.017127</td>\n",
       "      <td>0.000293</td>\n",
       "      <td>31.43</td>\n",
       "      <td>31.35</td>\n",
       "      <td>-4.496006e-17</td>\n",
       "      <td>-0.892562</td>\n",
       "      <td>31.37</td>\n",
       "      <td>31.39</td>\n",
       "      <td>31.41</td>\n",
       "      <td>0.000028</td>\n",
       "      <td>31.390005</td>\n",
       "      <td>7533.60</td>\n",
       "    </tr>\n",
       "    <tr>\n",
       "      <th>2017-06-13 11:04:39.732000+02:00</th>\n",
       "      <td>32.873</td>\n",
       "      <td>0.032470</td>\n",
       "      <td>0.001054</td>\n",
       "      <td>32.93</td>\n",
       "      <td>32.81</td>\n",
       "      <td>-4.035668e-01</td>\n",
       "      <td>-1.126057</td>\n",
       "      <td>32.84</td>\n",
       "      <td>32.89</td>\n",
       "      <td>32.89</td>\n",
       "      <td>0.000413</td>\n",
       "      <td>32.873016</td>\n",
       "      <td>7889.52</td>\n",
       "    </tr>\n",
       "  </tbody>\n",
       "</table>\n",
       "</div>"
      ],
      "text/plain": [
       "                                  TMP_mean__w=240_s=120  TMP_std__w=240_s=120  \\\n",
       "timestamp                                                                       \n",
       "2017-06-13 12:46:09.732000+02:00                 31.390              0.017127   \n",
       "2017-06-13 11:04:39.732000+02:00                 32.873              0.032470   \n",
       "\n",
       "                                  TMP_var__w=240_s=120  TMP_amax__w=240_s=120  \\\n",
       "timestamp                                                                       \n",
       "2017-06-13 12:46:09.732000+02:00              0.000293                  31.43   \n",
       "2017-06-13 11:04:39.732000+02:00              0.001054                  32.93   \n",
       "\n",
       "                                  TMP_amin__w=240_s=120  \\\n",
       "timestamp                                                 \n",
       "2017-06-13 12:46:09.732000+02:00                  31.35   \n",
       "2017-06-13 11:04:39.732000+02:00                  32.81   \n",
       "\n",
       "                                  TMP_skew__w=240_s=120  \\\n",
       "timestamp                                                 \n",
       "2017-06-13 12:46:09.732000+02:00          -4.496006e-17   \n",
       "2017-06-13 11:04:39.732000+02:00          -4.035668e-01   \n",
       "\n",
       "                                  TMP_kurtosis__w=240_s=120  \\\n",
       "timestamp                                                     \n",
       "2017-06-13 12:46:09.732000+02:00                  -0.892562   \n",
       "2017-06-13 11:04:39.732000+02:00                  -1.126057   \n",
       "\n",
       "                                  TMP_quantile_0.25__w=240_s=120  \\\n",
       "timestamp                                                          \n",
       "2017-06-13 12:46:09.732000+02:00                           31.37   \n",
       "2017-06-13 11:04:39.732000+02:00                           32.84   \n",
       "\n",
       "                                  TMP_quantile_0.5__w=240_s=120  \\\n",
       "timestamp                                                         \n",
       "2017-06-13 12:46:09.732000+02:00                          31.39   \n",
       "2017-06-13 11:04:39.732000+02:00                          32.89   \n",
       "\n",
       "                                  TMP_quantile_0.75__w=240_s=120  \\\n",
       "timestamp                                                          \n",
       "2017-06-13 12:46:09.732000+02:00                           31.41   \n",
       "2017-06-13 11:04:39.732000+02:00                           32.89   \n",
       "\n",
       "                                  TMP_slope__w=240_s=120  \\\n",
       "timestamp                                                  \n",
       "2017-06-13 12:46:09.732000+02:00                0.000028   \n",
       "2017-06-13 11:04:39.732000+02:00                0.000413   \n",
       "\n",
       "                                  TMP_rms__w=240_s=120  TMP_area__w=240_s=120  \n",
       "timestamp                                                                      \n",
       "2017-06-13 12:46:09.732000+02:00             31.390005                7533.60  \n",
       "2017-06-13 11:04:39.732000+02:00             32.873016                7889.52  "
      ]
     },
     "execution_count": 13,
     "metadata": {},
     "output_type": "execute_result"
    }
   ],
   "source": [
    "%%time\n",
    "tmp_feat_extr.calculate(df_tmp, merge_dfs=True).sample(2)"
   ]
  },
  {
   "cell_type": "code",
   "execution_count": 14,
   "metadata": {},
   "outputs": [
    {
     "name": "stdout",
     "output_type": "stream",
     "text": [
      "CPU times: user 23.8 ms, sys: 3.85 ms, total: 27.6 ms\n",
      "Wall time: 220 ms\n"
     ]
    },
    {
     "data": {
      "text/html": [
       "<div>\n",
       "<style scoped>\n",
       "    .dataframe tbody tr th:only-of-type {\n",
       "        vertical-align: middle;\n",
       "    }\n",
       "\n",
       "    .dataframe tbody tr th {\n",
       "        vertical-align: top;\n",
       "    }\n",
       "\n",
       "    .dataframe thead th {\n",
       "        text-align: right;\n",
       "    }\n",
       "</style>\n",
       "<table border=\"1\" class=\"dataframe\">\n",
       "  <thead>\n",
       "    <tr style=\"text-align: right;\">\n",
       "      <th></th>\n",
       "      <th>TMP_mean__w=240_s=120</th>\n",
       "      <th>TMP_std__w=240_s=120</th>\n",
       "      <th>TMP_var__w=240_s=120</th>\n",
       "      <th>TMP_amax__w=240_s=120</th>\n",
       "      <th>TMP_amin__w=240_s=120</th>\n",
       "      <th>TMP_skew__w=240_s=120</th>\n",
       "      <th>TMP_kurtosis__w=240_s=120</th>\n",
       "      <th>TMP_quantile_0.25__w=240_s=120</th>\n",
       "      <th>TMP_quantile_0.5__w=240_s=120</th>\n",
       "      <th>TMP_quantile_0.75__w=240_s=120</th>\n",
       "      <th>TMP_slope__w=240_s=120</th>\n",
       "      <th>TMP_rms__w=240_s=120</th>\n",
       "      <th>TMP_area__w=240_s=120</th>\n",
       "    </tr>\n",
       "    <tr>\n",
       "      <th>timestamp</th>\n",
       "      <th></th>\n",
       "      <th></th>\n",
       "      <th></th>\n",
       "      <th></th>\n",
       "      <th></th>\n",
       "      <th></th>\n",
       "      <th></th>\n",
       "      <th></th>\n",
       "      <th></th>\n",
       "      <th></th>\n",
       "      <th></th>\n",
       "      <th></th>\n",
       "      <th></th>\n",
       "    </tr>\n",
       "  </thead>\n",
       "  <tbody>\n",
       "    <tr>\n",
       "      <th>2017-06-13 11:02:39.732000+02:00</th>\n",
       "      <td>32.519500</td>\n",
       "      <td>0.039048</td>\n",
       "      <td>0.001525</td>\n",
       "      <td>32.59</td>\n",
       "      <td>32.47</td>\n",
       "      <td>0.714449</td>\n",
       "      <td>-0.902118</td>\n",
       "      <td>32.49</td>\n",
       "      <td>32.50</td>\n",
       "      <td>32.55</td>\n",
       "      <td>0.000509</td>\n",
       "      <td>32.519523</td>\n",
       "      <td>7804.68</td>\n",
       "    </tr>\n",
       "    <tr>\n",
       "      <th>2017-06-13 11:34:09.732000+02:00</th>\n",
       "      <td>32.749333</td>\n",
       "      <td>0.011528</td>\n",
       "      <td>0.000133</td>\n",
       "      <td>32.77</td>\n",
       "      <td>32.73</td>\n",
       "      <td>-0.000387</td>\n",
       "      <td>-0.000067</td>\n",
       "      <td>32.75</td>\n",
       "      <td>32.75</td>\n",
       "      <td>32.75</td>\n",
       "      <td>-0.000052</td>\n",
       "      <td>32.749335</td>\n",
       "      <td>7859.84</td>\n",
       "    </tr>\n",
       "  </tbody>\n",
       "</table>\n",
       "</div>"
      ],
      "text/plain": [
       "                                  TMP_mean__w=240_s=120  TMP_std__w=240_s=120  \\\n",
       "timestamp                                                                       \n",
       "2017-06-13 11:02:39.732000+02:00              32.519500              0.039048   \n",
       "2017-06-13 11:34:09.732000+02:00              32.749333              0.011528   \n",
       "\n",
       "                                  TMP_var__w=240_s=120  TMP_amax__w=240_s=120  \\\n",
       "timestamp                                                                       \n",
       "2017-06-13 11:02:39.732000+02:00              0.001525                  32.59   \n",
       "2017-06-13 11:34:09.732000+02:00              0.000133                  32.77   \n",
       "\n",
       "                                  TMP_amin__w=240_s=120  \\\n",
       "timestamp                                                 \n",
       "2017-06-13 11:02:39.732000+02:00                  32.47   \n",
       "2017-06-13 11:34:09.732000+02:00                  32.73   \n",
       "\n",
       "                                  TMP_skew__w=240_s=120  \\\n",
       "timestamp                                                 \n",
       "2017-06-13 11:02:39.732000+02:00               0.714449   \n",
       "2017-06-13 11:34:09.732000+02:00              -0.000387   \n",
       "\n",
       "                                  TMP_kurtosis__w=240_s=120  \\\n",
       "timestamp                                                     \n",
       "2017-06-13 11:02:39.732000+02:00                  -0.902118   \n",
       "2017-06-13 11:34:09.732000+02:00                  -0.000067   \n",
       "\n",
       "                                  TMP_quantile_0.25__w=240_s=120  \\\n",
       "timestamp                                                          \n",
       "2017-06-13 11:02:39.732000+02:00                           32.49   \n",
       "2017-06-13 11:34:09.732000+02:00                           32.75   \n",
       "\n",
       "                                  TMP_quantile_0.5__w=240_s=120  \\\n",
       "timestamp                                                         \n",
       "2017-06-13 11:02:39.732000+02:00                          32.50   \n",
       "2017-06-13 11:34:09.732000+02:00                          32.75   \n",
       "\n",
       "                                  TMP_quantile_0.75__w=240_s=120  \\\n",
       "timestamp                                                          \n",
       "2017-06-13 11:02:39.732000+02:00                           32.55   \n",
       "2017-06-13 11:34:09.732000+02:00                           32.75   \n",
       "\n",
       "                                  TMP_slope__w=240_s=120  \\\n",
       "timestamp                                                  \n",
       "2017-06-13 11:02:39.732000+02:00                0.000509   \n",
       "2017-06-13 11:34:09.732000+02:00               -0.000052   \n",
       "\n",
       "                                  TMP_rms__w=240_s=120  TMP_area__w=240_s=120  \n",
       "timestamp                                                                      \n",
       "2017-06-13 11:02:39.732000+02:00             32.519523                7804.68  \n",
       "2017-06-13 11:34:09.732000+02:00             32.749335                7859.84  "
      ]
     },
     "execution_count": 14,
     "metadata": {},
     "output_type": "execute_result"
    }
   ],
   "source": [
    "%%time\n",
    "tmp_feat_extr.calculate(df_tmp, merge_dfs=True, njobs=1).sample(2)"
   ]
  },
  {
   "cell_type": "markdown",
   "metadata": {},
   "source": [
    "### Arbitrary window size"
   ]
  },
  {
   "cell_type": "markdown",
   "metadata": {},
   "source": [
    "**GSR**"
   ]
  },
  {
   "cell_type": "code",
   "execution_count": 15,
   "metadata": {},
   "outputs": [
    {
     "data": {
      "text/plain": [
       "FeatureCollection(\n",
       "\tFeatureDescriptor(EDA, 480, 120) \n",
       "\tFeatureDescriptor(EDA, 240, 120) \n",
       "\tFeatureDescriptor(EDA, 240, 120) \n",
       "\tFeatureDescriptor(EDA, 480, 80) \n",
       "\tFeatureDescriptor(EDA, 240, 120) \n",
       "\tFeatureDescriptor(EDA, 480, 40) \n",
       "\tFeatureDescriptor(EDA, 480, 40) \n",
       "\tFeatureDescriptor(EDA, 480, 40) \n",
       "\tFeatureDescriptor(EDA, 240, 40) \n",
       "\tFeatureDescriptor(EDA, 240, 40) \n",
       "\tFeatureDescriptor(EDA, 240, 120) \n",
       ")"
      ]
     },
     "execution_count": 15,
     "metadata": {},
     "output_type": "execute_result"
    }
   ],
   "source": [
    "# PoC: we will select a random combination of the window_size stride combination\n",
    "window_size_s = [60, 120]\n",
    "stride_size_s = [30, 10, 20]\n",
    "fs_gsr = 4\n",
    "\n",
    "import random\n",
    "\n",
    "gsr_feat_extr = FeatureCollection(\n",
    "    [\n",
    "        FeatureDescriptor(\n",
    "            key=\"EDA\",\n",
    "            window=random.choice(window_size_s) * fs_tmp,\n",
    "            stride=random.choice(stride_size_s) * fs_tmp,\n",
    "            function=f,\n",
    "        )\n",
    "        for f in segment_funcs\n",
    "    ]\n",
    ")\n",
    "gsr_feat_extr"
   ]
  },
  {
   "cell_type": "code",
   "execution_count": 16,
   "metadata": {},
   "outputs": [
    {
     "name": "stdout",
     "output_type": "stream",
     "text": [
      "CPU times: user 63.8 ms, sys: 60.5 ms, total: 124 ms\n",
      "Wall time: 384 ms\n"
     ]
    },
    {
     "data": {
      "text/html": [
       "<div>\n",
       "<style scoped>\n",
       "    .dataframe tbody tr th:only-of-type {\n",
       "        vertical-align: middle;\n",
       "    }\n",
       "\n",
       "    .dataframe tbody tr th {\n",
       "        vertical-align: top;\n",
       "    }\n",
       "\n",
       "    .dataframe thead th {\n",
       "        text-align: right;\n",
       "    }\n",
       "</style>\n",
       "<table border=\"1\" class=\"dataframe\">\n",
       "  <thead>\n",
       "    <tr style=\"text-align: right;\">\n",
       "      <th></th>\n",
       "      <th>EDA_mean__w=480_s=120</th>\n",
       "      <th>EDA_std__w=240_s=120</th>\n",
       "      <th>EDA_var__w=240_s=120</th>\n",
       "      <th>EDA_amin__w=240_s=120</th>\n",
       "      <th>EDA_area__w=240_s=120</th>\n",
       "      <th>EDA_amax__w=480_s=80</th>\n",
       "      <th>EDA_skew__w=480_s=40</th>\n",
       "      <th>EDA_kurtosis__w=480_s=40</th>\n",
       "      <th>EDA_quantile_0.25__w=480_s=40</th>\n",
       "      <th>EDA_quantile_0.5__w=480_s=40</th>\n",
       "      <th>EDA_quantile_0.75__w=480_s=40</th>\n",
       "      <th>EDA_slope__w=240_s=40</th>\n",
       "      <th>EDA_rms__w=240_s=40</th>\n",
       "    </tr>\n",
       "    <tr>\n",
       "      <th>timestamp</th>\n",
       "      <th></th>\n",
       "      <th></th>\n",
       "      <th></th>\n",
       "      <th></th>\n",
       "      <th></th>\n",
       "      <th></th>\n",
       "      <th></th>\n",
       "      <th></th>\n",
       "      <th></th>\n",
       "      <th></th>\n",
       "      <th></th>\n",
       "      <th></th>\n",
       "      <th></th>\n",
       "    </tr>\n",
       "  </thead>\n",
       "  <tbody>\n",
       "    <tr>\n",
       "      <th>2017-06-13 12:15:19.811000+02:00</th>\n",
       "      <td>NaN</td>\n",
       "      <td>NaN</td>\n",
       "      <td>NaN</td>\n",
       "      <td>NaN</td>\n",
       "      <td>NaN</td>\n",
       "      <td>0.882966</td>\n",
       "      <td>-0.215916</td>\n",
       "      <td>-1.324982</td>\n",
       "      <td>0.629689</td>\n",
       "      <td>0.739058</td>\n",
       "      <td>0.798540</td>\n",
       "      <td>-0.000751</td>\n",
       "      <td>0.639235</td>\n",
       "    </tr>\n",
       "    <tr>\n",
       "      <th>2017-06-13 12:43:59.811000+02:00</th>\n",
       "      <td>NaN</td>\n",
       "      <td>NaN</td>\n",
       "      <td>NaN</td>\n",
       "      <td>NaN</td>\n",
       "      <td>NaN</td>\n",
       "      <td>0.162722</td>\n",
       "      <td>0.025688</td>\n",
       "      <td>-1.514857</td>\n",
       "      <td>0.136818</td>\n",
       "      <td>0.143534</td>\n",
       "      <td>0.155047</td>\n",
       "      <td>0.000061</td>\n",
       "      <td>0.154009</td>\n",
       "    </tr>\n",
       "  </tbody>\n",
       "</table>\n",
       "</div>"
      ],
      "text/plain": [
       "                                  EDA_mean__w=480_s=120  EDA_std__w=240_s=120  \\\n",
       "timestamp                                                                       \n",
       "2017-06-13 12:15:19.811000+02:00                    NaN                   NaN   \n",
       "2017-06-13 12:43:59.811000+02:00                    NaN                   NaN   \n",
       "\n",
       "                                  EDA_var__w=240_s=120  EDA_amin__w=240_s=120  \\\n",
       "timestamp                                                                       \n",
       "2017-06-13 12:15:19.811000+02:00                   NaN                    NaN   \n",
       "2017-06-13 12:43:59.811000+02:00                   NaN                    NaN   \n",
       "\n",
       "                                  EDA_area__w=240_s=120  EDA_amax__w=480_s=80  \\\n",
       "timestamp                                                                       \n",
       "2017-06-13 12:15:19.811000+02:00                    NaN              0.882966   \n",
       "2017-06-13 12:43:59.811000+02:00                    NaN              0.162722   \n",
       "\n",
       "                                  EDA_skew__w=480_s=40  \\\n",
       "timestamp                                                \n",
       "2017-06-13 12:15:19.811000+02:00             -0.215916   \n",
       "2017-06-13 12:43:59.811000+02:00              0.025688   \n",
       "\n",
       "                                  EDA_kurtosis__w=480_s=40  \\\n",
       "timestamp                                                    \n",
       "2017-06-13 12:15:19.811000+02:00                 -1.324982   \n",
       "2017-06-13 12:43:59.811000+02:00                 -1.514857   \n",
       "\n",
       "                                  EDA_quantile_0.25__w=480_s=40  \\\n",
       "timestamp                                                         \n",
       "2017-06-13 12:15:19.811000+02:00                       0.629689   \n",
       "2017-06-13 12:43:59.811000+02:00                       0.136818   \n",
       "\n",
       "                                  EDA_quantile_0.5__w=480_s=40  \\\n",
       "timestamp                                                        \n",
       "2017-06-13 12:15:19.811000+02:00                      0.739058   \n",
       "2017-06-13 12:43:59.811000+02:00                      0.143534   \n",
       "\n",
       "                                  EDA_quantile_0.75__w=480_s=40  \\\n",
       "timestamp                                                         \n",
       "2017-06-13 12:15:19.811000+02:00                       0.798540   \n",
       "2017-06-13 12:43:59.811000+02:00                       0.155047   \n",
       "\n",
       "                                  EDA_slope__w=240_s=40  EDA_rms__w=240_s=40  \n",
       "timestamp                                                                     \n",
       "2017-06-13 12:15:19.811000+02:00              -0.000751             0.639235  \n",
       "2017-06-13 12:43:59.811000+02:00               0.000061             0.154009  "
      ]
     },
     "execution_count": 16,
     "metadata": {},
     "output_type": "execute_result"
    }
   ],
   "source": [
    "%%time\n",
    "gsr_feat_extr.calculate(df_gsr, merge_dfs=True).sample(2)\n",
    "# gsr_feat_extr.get_results(merge_dfs=True)"
   ]
  },
  {
   "cell_type": "markdown",
   "metadata": {},
   "source": [
    "### Multiple time series"
   ]
  },
  {
   "cell_type": "code",
   "execution_count": 17,
   "metadata": {},
   "outputs": [],
   "source": [
    "# Construct the feature FeatureCollection\n",
    "#   =  higher order wrapper which aggregates the featuredescriptions\n",
    "feature_extraction = FeatureCollection(feature_desc_list=[gsr_feat_extr, tmp_feat_extr])"
   ]
  },
  {
   "cell_type": "code",
   "execution_count": 18,
   "metadata": {},
   "outputs": [],
   "source": [
    "df_feat = feature_extraction.calculate([df_gsr, df_tmp], merge_dfs=True)"
   ]
  },
  {
   "cell_type": "markdown",
   "metadata": {},
   "source": [
    "# LAYD: Look At Your Data"
   ]
  },
  {
   "cell_type": "code",
   "execution_count": 19,
   "metadata": {},
   "outputs": [],
   "source": [
    "import ipywidgets as widgets\n",
    "import plotly.graph_objects as go\n",
    "from ipywidgets import interact_manual\n",
    "from plotly.subplots import make_subplots"
   ]
  },
  {
   "cell_type": "code",
   "execution_count": 20,
   "metadata": {},
   "outputs": [],
   "source": [
    "df_dict = {\"tmp\": df_tmp, \"gsr\": df_gsr}"
   ]
  },
  {
   "cell_type": "code",
   "execution_count": 21,
   "metadata": {},
   "outputs": [],
   "source": [
    "feat_widget = widgets.SelectMultiple(options=df_feat.columns)\n",
    "sig_widget = widgets.SelectMultiple(options=[\"gsr\", \"tmp\"])"
   ]
  },
  {
   "cell_type": "code",
   "execution_count": 22,
   "metadata": {},
   "outputs": [
    {
     "data": {
      "application/vnd.jupyter.widget-view+json": {
       "model_id": "3a02bbd667d544569ebce20f6983166b",
       "version_major": 2,
       "version_minor": 0
      },
      "text/plain": [
       "interactive(children=(SelectMultiple(description='features', options=('EDA_mean__w=480_s=120', 'EDA_std__w=240…"
      ]
     },
     "metadata": {},
     "output_type": "display_data"
    }
   ],
   "source": [
    "@interact_manual\n",
    "def visuzalize(features=feat_widget, signals=sig_widget):\n",
    "    row_titles = list(signals) + [\"features\"] if len(features) else []\n",
    "    fig = make_subplots(\n",
    "        rows=len(row_titles),\n",
    "        cols=1,\n",
    "        shared_xaxes=True,\n",
    "        vertical_spacing=0.1 / len(row_titles),\n",
    "        row_titles=row_titles,\n",
    "    )\n",
    "    fig.update_layout(height=300 * len(row_titles))\n",
    "\n",
    "    # first, visualize the \"raw\" signals\n",
    "    row_idx = 1\n",
    "    for sig in signals:\n",
    "        df_sig = df_dict[sig][10:].resample(\"1s\").mean()\n",
    "        for col in set(df_sig.columns).difference([\"index\", \"timestamp\"]):\n",
    "            fig.add_trace(\n",
    "                go.Scattergl(x=df_sig.index, y=df_sig[col], name=col, hoverinfo=\"skip\"),\n",
    "                row=row_idx,\n",
    "                col=1,\n",
    "            )\n",
    "        row_idx += 1\n",
    "\n",
    "    # then visualize the features\n",
    "    df_f = df_feat[3:]\n",
    "    for feature in features:\n",
    "        fig.add_trace(\n",
    "            go.Scattergl(\n",
    "                x=df_f.index,\n",
    "                y=df_f[feature],\n",
    "                name=feature,\n",
    "                hoverinfo=\"skip\",\n",
    "                showlegend=True,\n",
    "            ),\n",
    "            row=row_idx,\n",
    "            col=1,\n",
    "        )\n",
    "\n",
    "    return fig"
   ]
  }
 ],
 "metadata": {
  "kernelspec": {
   "display_name": "Python 3",
   "language": "python",
   "name": "python3"
  },
  "language_info": {
   "codemirror_mode": {
    "name": "ipython",
    "version": 3
   },
   "file_extension": ".py",
   "mimetype": "text/x-python",
   "name": "python",
   "nbconvert_exporter": "python",
   "pygments_lexer": "ipython3",
   "version": "3.7.5"
  },
  "toc-autonumbering": true
 },
 "nbformat": 4,
 "nbformat_minor": 4
}
