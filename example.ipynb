{
 "cells": [
  {
   "cell_type": "code",
   "execution_count": 1,
   "metadata": {},
   "outputs": [],
   "source": [
    "# !pip install memory_profiler"
   ]
  },
  {
   "cell_type": "code",
   "execution_count": 2,
   "metadata": {},
   "outputs": [],
   "source": [
    "# %load_ext autoreload\n",
    "%load_ext memory_profiler\n",
    "# %autoreload 2"
   ]
  },
  {
   "cell_type": "code",
   "execution_count": 3,
   "metadata": {},
   "outputs": [],
   "source": [
    "import numpy as np\n",
    "import pandas as pd"
   ]
  },
  {
   "cell_type": "markdown",
   "metadata": {},
   "source": [
    "# Series Processing pipeline"
   ]
  },
  {
   "cell_type": "markdown",
   "metadata": {},
   "source": [
    "`TODO`"
   ]
  },
  {
   "cell_type": "markdown",
   "metadata": {},
   "source": [
    "# Feature extraction"
   ]
  },
  {
   "cell_type": "markdown",
   "metadata": {},
   "source": [
    "The most classical way to extract features from time series is by using a **strided-window** manner.\n",
    "\n",
    "\n",
    "**Challenges**:\n",
    "1. Existing solutions often assume a **single** stride & window size for all features to be calculated.  \n",
    "  This raises 2 problems:\n",
    "   * There is no clean interface for multiple stride-window feature calculation.\n",
    "   * You are responsible for the efficient execution, i.e., you need to do the bookkeeping that feature-calculations on the same stride-window pair are executed on the same time-series expansion (so that it need to be expanded only once).\n",
    "2. No easy support for aggregation of multivariate series, each possibly having different sampling rates\n",
    "    _(e.g., Polysomnography data, Wearable data)_\n",
    "3. No efficient implementations for timestamped data (e.g., pd.Series, pd.DataFrames with a timeindex):\n",
    "    * `pd.rolling` assumes same input<->output dimensions, hence no stride possible:\n",
    "    See:  \n",
    "    https://pandas.pydata.org/docs/reference/api/pandas.Series.rolling.html\n",
    "    https://pandas.pydata.org/docs/reference/api/pandas.DataFrame.rolling.html\n",
    "    * `tsfresh` has an significant memory and time overhead for `Strided-Rolling` (feature-calculation)\n",
    "    https://tsfresh.readthedocs.io/en/latest/api/tsfresh.utilities.html#tsfresh.utilities.dataframe_functions.roll_time_series  \n",
    "    even more:\n",
    "        * There is no convenient way to retain the time-index\n",
    "        * It inherently makes the single window-stride assumption for the features.  \n",
    "4. Little focus on serialization (+parallelization) of local-scope objects  \n",
    "   To the best of our knowledge, no existing time series library takes this into consideration, thus hampering deployment in different environments.\n",
    "\n",
    "\n",
    "**What tslib does**:\n",
    "\n",
    "= Intuitive interface for **multiple** stride-window feature calculation on multiple (possibly differently sampled) time-series signals. <a style=\"color:orange\">_(solving 1 & 2.)_</a>\n",
    "\n",
    "Providing the following features:\n",
    "* A single registry, in which all bookkeeping is done, enabling efficient processing <a style=\"color:orange\">(solves 2)</a>\n",
    "* Maintains the time-index (after feature calculation) <a style=\"color:orange\">(solves 3)</a>\n",
    "* Serialization of `lambda's` and local-scope methods <a style=\"color:orange\">(solves 4.)</a>\n",
    "\n",
    "---    \n",
    "\n",
    "**Current assumptions**:\n",
    "* The time series we still use -> are sampled at fixed rates (i.e, we as assume that (and thus not check whether) there are time series gaps).\n",
    "    * The Series processing serves as an option to mitigate this\n",
    "\n",
    "**Future work(s)**:\n",
    "* Big-Data: Perform feature-extraction in batch -> batch-like generators in stridedrolling objects.\n",
    "* Time-wise strided rolling?"
   ]
  },
  {
   "cell_type": "code",
   "execution_count": 4,
   "metadata": {},
   "outputs": [],
   "source": [
    "import sys\n",
    "\n",
    "# Serialization\n",
    "import dill as pickle\n",
    "import scipy.stats as ss\n",
    "\n",
    "# load our library\n",
    "sys.path.append(\"time_series/\")\n",
    "from time_series import FeatureCollection, NumpyFuncWrapper\n",
    "from time_series.features import FeatureDescriptor, MultipleFeatureDescriptors\n",
    "\n",
    "pickle.settings[\"recurse\"] = True  # allows to serialize lambda's YAY!"
   ]
  },
  {
   "cell_type": "markdown",
   "metadata": {
    "tags": []
   },
   "source": [
    "## Defining functions"
   ]
  },
  {
   "cell_type": "markdown",
   "metadata": {},
   "source": [
    "Functions are defined by making use of the [NumpyFuncWrapper](time_series/features/function_wrapper.py) class.  \n",
    "\n",
    "The `NumpyFuncWrapper` interface is easy and convienient; you define:\n",
    "\n",
    "|      attribute \t|          type         \t| info                                                     \t|\n",
    "|---------------:\t|:---------------------:\t|----------------------------------------------------------\t|\n",
    "|         `func` \t|        Callable       \t| The wrapped function that will operate on `numpy` arrays \t|\n",
    "| `output_names` \t| Union[List[str], str] \t| The name of the outputs of `func`                        \t|\n",
    "|     `**kwargs` \t|        Optional       \t| Additional keyword-arguments for the `func`              \t|"
   ]
  },
  {
   "cell_type": "code",
   "execution_count": 5,
   "metadata": {},
   "outputs": [
    {
     "data": {
      "text/plain": [
       "[<function numpy.mean(a, axis=None, dtype=None, out=None, keepdims=<no value>)>,\n",
       " <function numpy.std(a, axis=None, dtype=None, out=None, ddof=0, keepdims=<no value>)>,\n",
       " <function numpy.var(a, axis=None, dtype=None, out=None, ddof=0, keepdims=<no value>)>,\n",
       " <function numpy.amax(a, axis=None, out=None, keepdims=<no value>, initial=<no value>, where=<no value>)>,\n",
       " <function numpy.amin(a, axis=None, out=None, keepdims=<no value>, initial=<no value>, where=<no value>)>,\n",
       " <function scipy.stats.stats.skew(a, axis=0, bias=True, nan_policy='propagate')>,\n",
       " <function scipy.stats.stats.kurtosis(a, axis=0, fisher=True, bias=True, nan_policy='propagate')>,\n",
       " NumpyFuncWrapper(quantile, ['quantile_0.25', 'quantile_0.5', 'quantile_0.75'], {'q': [0.25, 0.5, 0.75]}),\n",
       " NumpyFuncWrapper(slope, ['slope'], {}),\n",
       " NumpyFuncWrapper(<lambda>, ['rms'], {}),\n",
       " NumpyFuncWrapper(sum, ['area'], {})]"
      ]
     },
     "execution_count": 5,
     "metadata": {},
     "output_type": "execute_result"
    }
   ],
   "source": [
    "# --------------------- some custom feature extraction functions ---------------------\n",
    "# -- 1. one-to-many functions\n",
    "#    To compute quantiles, you need sort the windowed data, which is a rather expensive\n",
    "#    operation n*log(n). Hence, you might want to calculate all your desired quantiles\n",
    "#    in a single function-wrapper, returning multiple outputs.\n",
    "\n",
    "quantiles = [0.25, 0.5, 0.75]\n",
    "f_quantiles = NumpyFuncWrapper(\n",
    "    func=np.quantile,  # the wrapped function that will operate on numpy arrays\n",
    "    output_names=[f\"quantile_{q}\" for q in quantiles],  # the output column names\n",
    "    q=quantiles,  # optional - additional function-related kwargs\n",
    ")\n",
    "\n",
    "\n",
    "# -- 2. in-line functions\n",
    "#    You can define your functions locally; these will serialize flawleslly\n",
    "def slope(x):\n",
    "    return np.polyfit(np.arange(0, len(x)), x, 1)[0]\n",
    "\n",
    "\n",
    "f_slope = NumpyFuncWrapper(slope, output_names=\"slope\")\n",
    "\n",
    "# -- 3. Lambda's\n",
    "#    Or even use lambda's and other modules' functions\n",
    "f_rms = NumpyFuncWrapper(lambda x: np.sqrt(np.mean(x ** 2)), output_names=\"rms\")\n",
    "f_area = NumpyFuncWrapper(np.sum, output_names=\"area\")\n",
    "\n",
    "\n",
    "# (For convenience) we store the constructed `NumpyFuncWrappers` in a list\n",
    "segment_funcs = [\n",
    "    np.mean,\n",
    "    np.std,\n",
    "    np.var,\n",
    "    np.max,\n",
    "    np.min,\n",
    "    ss.skew,\n",
    "    ss.kurtosis,\n",
    "    f_quantiles,\n",
    "    f_slope,\n",
    "    f_rms,\n",
    "    f_area,\n",
    "]\n",
    "segment_funcs"
   ]
  },
  {
   "cell_type": "markdown",
   "metadata": {},
   "source": [
    "## Use case: single series feature extraction"
   ]
  },
  {
   "cell_type": "markdown",
   "metadata": {},
   "source": [
    "The defined functions above will be encapsulated in a [FeatureDescriptor](time_series/features/feature.py) object.\n",
    "\n",
    "A `FeatureDescriptor` describes a feature, and has 4 main attributes:\n",
    "\n",
    "|  attribute \t|                  type                 \t| info                                                                                                             \t|\n",
    "|-----------:\t|:-------------------------------------:\t|------------------------------------------------------------------------------------------------------------------\t|\n",
    "| `function` \t| Union[Callable, <br>NumpyFuncWrapper] \t| The `function` that calculates this feature.                                                                     \t|\n",
    "|      `key` \t|                 string                \t| The signal key; i.e., the `pd.DataFrame` column name or <br> `pd.Series` name on which the function will operate.     \t|\n",
    "|   `window` \t|                  int                  \t| The window size on which this feature will be applied, <br> expressed in the number of samples from the input signal. \t|\n",
    "|   `stride` \t|                  int                  \t| The stride of the window rolling process, also as a <br> number of samples of the input signal.                       \t|\n",
    "\n",
    "**note**: [MultipleFeatureDescriptor](time_series/features/feature.py) is actaully a factory for `FeatureDescriptor` objects."
   ]
  },
  {
   "cell_type": "markdown",
   "metadata": {
    "tags": []
   },
   "source": [
    "### Example 1: Fixed window size and strides"
   ]
  },
  {
   "cell_type": "markdown",
   "metadata": {},
   "source": [
    "**note**: this functionality is exposed by most existing time-series libraries.\n",
    "\n",
    "In this example, we will use the _temperature_ signal from a wearable"
   ]
  },
  {
   "cell_type": "code",
   "execution_count": 6,
   "metadata": {},
   "outputs": [
    {
     "data": {
      "text/plain": [
       "TMP: (\n",
       "\twin: 240   , stride: 120: [\n",
       "\t\tFeatureDescriptor - func: NumpyFuncWrapper(mean, ['mean'], {}),\n",
       "\t\tFeatureDescriptor - func: NumpyFuncWrapper(std, ['std'], {}),\n",
       "\t\tFeatureDescriptor - func: NumpyFuncWrapper(var, ['var'], {}),\n",
       "\t\tFeatureDescriptor - func: NumpyFuncWrapper(amax, ['amax'], {}),\n",
       "\t\tFeatureDescriptor - func: NumpyFuncWrapper(amin, ['amin'], {}),\n",
       "\t\tFeatureDescriptor - func: NumpyFuncWrapper(skew, ['skew'], {}),\n",
       "\t\tFeatureDescriptor - func: NumpyFuncWrapper(kurtosis, ['kurtosis'], {}),\n",
       "\t\tFeatureDescriptor - func: NumpyFuncWrapper(quantile, ['quantile_0.25', 'quantile_0.5', 'quantile_0.75'], {'q': [0.25, 0.5, 0.75]}),\n",
       "\t\tFeatureDescriptor - func: NumpyFuncWrapper(slope, ['slope'], {}),\n",
       "\t\tFeatureDescriptor - func: NumpyFuncWrapper(<lambda>, ['rms'], {}),\n",
       "\t\tFeatureDescriptor - func: NumpyFuncWrapper(sum, ['area'], {}),\n",
       "\t]\n",
       ")"
      ]
     },
     "execution_count": 6,
     "metadata": {},
     "output_type": "execute_result"
    }
   ],
   "source": [
    "# define the sample frequency and window size\n",
    "fs_tmp = 4  # 4Hz\n",
    "tmp_win_size = 60 * fs_tmp  # window of 60s\n",
    "tmp_stride_size = 30 * fs_tmp  # stride of 30s\n",
    "\n",
    "\n",
    "tmp_feat_extr = FeatureCollection(\n",
    "    feature_desc_list=[\n",
    "        MultipleFeatureDescriptors(\n",
    "            signal_keys=[\"TMP\"],\n",
    "            windows=[tmp_win_size],\n",
    "            strides=[tmp_stride_size],\n",
    "            functions=segment_funcs,  # The list of functions we constructed earlier\n",
    "        )\n",
    "    ]\n",
    ")\n",
    "tmp_feat_extr"
   ]
  },
  {
   "cell_type": "code",
   "execution_count": 7,
   "metadata": {},
   "outputs": [
    {
     "data": {
      "text/html": [
       "<div>\n",
       "<style scoped>\n",
       "    .dataframe tbody tr th:only-of-type {\n",
       "        vertical-align: middle;\n",
       "    }\n",
       "\n",
       "    .dataframe tbody tr th {\n",
       "        vertical-align: top;\n",
       "    }\n",
       "\n",
       "    .dataframe thead th {\n",
       "        text-align: right;\n",
       "    }\n",
       "</style>\n",
       "<table border=\"1\" class=\"dataframe\">\n",
       "  <thead>\n",
       "    <tr style=\"text-align: right;\">\n",
       "      <th></th>\n",
       "      <th>TMP</th>\n",
       "    </tr>\n",
       "    <tr>\n",
       "      <th>timestamp</th>\n",
       "      <th></th>\n",
       "    </tr>\n",
       "  </thead>\n",
       "  <tbody>\n",
       "    <tr>\n",
       "      <th>2017-06-13 11:56:30.750000+02:00</th>\n",
       "      <td>32.71</td>\n",
       "    </tr>\n",
       "    <tr>\n",
       "      <th>2017-06-13 12:05:48.750000+02:00</th>\n",
       "      <td>32.37</td>\n",
       "    </tr>\n",
       "  </tbody>\n",
       "</table>\n",
       "</div>"
      ],
      "text/plain": [
       "                                    TMP\n",
       "timestamp                              \n",
       "2017-06-13 11:56:30.750000+02:00  32.71\n",
       "2017-06-13 12:05:48.750000+02:00  32.37"
      ]
     },
     "execution_count": 7,
     "metadata": {},
     "output_type": "execute_result"
    }
   ],
   "source": [
    "df_tmp = pd.read_feather(\"data/tmp.feather\").set_index(\"timestamp\")\n",
    "df_tmp.sample(2)"
   ]
  },
  {
   "cell_type": "markdown",
   "metadata": {},
   "source": [
    "* **TODO**: describe output column names"
   ]
  },
  {
   "cell_type": "code",
   "execution_count": 9,
   "metadata": {},
   "outputs": [
    {
     "data": {
      "application/vnd.jupyter.widget-view+json": {
       "model_id": "a02af8a7e2c0478d90620b1793ae69cf",
       "version_major": 2,
       "version_minor": 0
      },
      "text/plain": [
       "HBox(children=(HTML(value=''), FloatProgress(value=0.0, max=11.0), HTML(value='')))"
      ]
     },
     "metadata": {},
     "output_type": "display_data"
    },
    {
     "name": "stdout",
     "output_type": "stream",
     "text": [
      "\n",
      "CPU times: user 90.6 ms, sys: 9.46 ms, total: 100 ms\n",
      "Wall time: 323 ms\n"
     ]
    },
    {
     "data": {
      "text/html": [
       "<div>\n",
       "<style scoped>\n",
       "    .dataframe tbody tr th:only-of-type {\n",
       "        vertical-align: middle;\n",
       "    }\n",
       "\n",
       "    .dataframe tbody tr th {\n",
       "        vertical-align: top;\n",
       "    }\n",
       "\n",
       "    .dataframe thead th {\n",
       "        text-align: right;\n",
       "    }\n",
       "</style>\n",
       "<table border=\"1\" class=\"dataframe\">\n",
       "  <thead>\n",
       "    <tr style=\"text-align: right;\">\n",
       "      <th></th>\n",
       "      <th>TMP_mean__w=240_s=120</th>\n",
       "      <th>TMP_std__w=240_s=120</th>\n",
       "      <th>TMP_var__w=240_s=120</th>\n",
       "      <th>TMP_amax__w=240_s=120</th>\n",
       "      <th>TMP_amin__w=240_s=120</th>\n",
       "      <th>TMP_skew__w=240_s=120</th>\n",
       "      <th>TMP_kurtosis__w=240_s=120</th>\n",
       "      <th>TMP_quantile_0.25__w=240_s=120</th>\n",
       "      <th>TMP_quantile_0.5__w=240_s=120</th>\n",
       "      <th>TMP_quantile_0.75__w=240_s=120</th>\n",
       "      <th>TMP_slope__w=240_s=120</th>\n",
       "      <th>TMP_rms__w=240_s=120</th>\n",
       "      <th>TMP_area__w=240_s=120</th>\n",
       "    </tr>\n",
       "    <tr>\n",
       "      <th>timestamp</th>\n",
       "      <th></th>\n",
       "      <th></th>\n",
       "      <th></th>\n",
       "      <th></th>\n",
       "      <th></th>\n",
       "      <th></th>\n",
       "      <th></th>\n",
       "      <th></th>\n",
       "      <th></th>\n",
       "      <th></th>\n",
       "      <th></th>\n",
       "      <th></th>\n",
       "      <th></th>\n",
       "    </tr>\n",
       "  </thead>\n",
       "  <tbody>\n",
       "    <tr>\n",
       "      <th>2017-06-13 10:46:39.750000+02:00</th>\n",
       "      <td>31.978167</td>\n",
       "      <td>0.021173</td>\n",
       "      <td>0.000448</td>\n",
       "      <td>32.03</td>\n",
       "      <td>31.93</td>\n",
       "      <td>-0.633317</td>\n",
       "      <td>0.015408</td>\n",
       "      <td>31.97</td>\n",
       "      <td>31.99</td>\n",
       "      <td>31.99</td>\n",
       "      <td>0.000236</td>\n",
       "      <td>31.978174</td>\n",
       "      <td>7674.76</td>\n",
       "    </tr>\n",
       "    <tr>\n",
       "      <th>2017-06-13 11:32:09.750000+02:00</th>\n",
       "      <td>32.770667</td>\n",
       "      <td>0.010306</td>\n",
       "      <td>0.000106</td>\n",
       "      <td>32.79</td>\n",
       "      <td>32.75</td>\n",
       "      <td>0.049258</td>\n",
       "      <td>0.743579</td>\n",
       "      <td>32.77</td>\n",
       "      <td>32.77</td>\n",
       "      <td>32.77</td>\n",
       "      <td>-0.000049</td>\n",
       "      <td>32.770668</td>\n",
       "      <td>7864.96</td>\n",
       "    </tr>\n",
       "  </tbody>\n",
       "</table>\n",
       "</div>"
      ],
      "text/plain": [
       "                                  TMP_mean__w=240_s=120  TMP_std__w=240_s=120  \\\n",
       "timestamp                                                                       \n",
       "2017-06-13 10:46:39.750000+02:00              31.978167              0.021173   \n",
       "2017-06-13 11:32:09.750000+02:00              32.770667              0.010306   \n",
       "\n",
       "                                  TMP_var__w=240_s=120  TMP_amax__w=240_s=120  \\\n",
       "timestamp                                                                       \n",
       "2017-06-13 10:46:39.750000+02:00              0.000448                  32.03   \n",
       "2017-06-13 11:32:09.750000+02:00              0.000106                  32.79   \n",
       "\n",
       "                                  TMP_amin__w=240_s=120  \\\n",
       "timestamp                                                 \n",
       "2017-06-13 10:46:39.750000+02:00                  31.93   \n",
       "2017-06-13 11:32:09.750000+02:00                  32.75   \n",
       "\n",
       "                                  TMP_skew__w=240_s=120  \\\n",
       "timestamp                                                 \n",
       "2017-06-13 10:46:39.750000+02:00              -0.633317   \n",
       "2017-06-13 11:32:09.750000+02:00               0.049258   \n",
       "\n",
       "                                  TMP_kurtosis__w=240_s=120  \\\n",
       "timestamp                                                     \n",
       "2017-06-13 10:46:39.750000+02:00                   0.015408   \n",
       "2017-06-13 11:32:09.750000+02:00                   0.743579   \n",
       "\n",
       "                                  TMP_quantile_0.25__w=240_s=120  \\\n",
       "timestamp                                                          \n",
       "2017-06-13 10:46:39.750000+02:00                           31.97   \n",
       "2017-06-13 11:32:09.750000+02:00                           32.77   \n",
       "\n",
       "                                  TMP_quantile_0.5__w=240_s=120  \\\n",
       "timestamp                                                         \n",
       "2017-06-13 10:46:39.750000+02:00                          31.99   \n",
       "2017-06-13 11:32:09.750000+02:00                          32.77   \n",
       "\n",
       "                                  TMP_quantile_0.75__w=240_s=120  \\\n",
       "timestamp                                                          \n",
       "2017-06-13 10:46:39.750000+02:00                           31.99   \n",
       "2017-06-13 11:32:09.750000+02:00                           32.77   \n",
       "\n",
       "                                  TMP_slope__w=240_s=120  \\\n",
       "timestamp                                                  \n",
       "2017-06-13 10:46:39.750000+02:00                0.000236   \n",
       "2017-06-13 11:32:09.750000+02:00               -0.000049   \n",
       "\n",
       "                                  TMP_rms__w=240_s=120  TMP_area__w=240_s=120  \n",
       "timestamp                                                                      \n",
       "2017-06-13 10:46:39.750000+02:00             31.978174                7674.76  \n",
       "2017-06-13 11:32:09.750000+02:00             32.770668                7864.96  "
      ]
     },
     "execution_count": 9,
     "metadata": {},
     "output_type": "execute_result"
    }
   ],
   "source": [
    "%%time\n",
    "# not multiprocessing\n",
    "tmp_feat_extr.calculate(df_tmp, merge_dfs=True, n_jobs=1).sample(2)"
   ]
  },
  {
   "cell_type": "code",
   "execution_count": 10,
   "metadata": {},
   "outputs": [
    {
     "data": {
      "application/vnd.jupyter.widget-view+json": {
       "model_id": "e1350247a987467791f0fae1a7a435e6",
       "version_major": 2,
       "version_minor": 0
      },
      "text/plain": [
       "HBox(children=(HTML(value=''), FloatProgress(value=0.0, max=11.0), HTML(value='')))"
      ]
     },
     "metadata": {},
     "output_type": "display_data"
    },
    {
     "name": "stdout",
     "output_type": "stream",
     "text": [
      "\n",
      "CPU times: user 79.3 ms, sys: 62.4 ms, total: 142 ms\n",
      "Wall time: 273 ms\n"
     ]
    },
    {
     "data": {
      "text/html": [
       "<div>\n",
       "<style scoped>\n",
       "    .dataframe tbody tr th:only-of-type {\n",
       "        vertical-align: middle;\n",
       "    }\n",
       "\n",
       "    .dataframe tbody tr th {\n",
       "        vertical-align: top;\n",
       "    }\n",
       "\n",
       "    .dataframe thead th {\n",
       "        text-align: right;\n",
       "    }\n",
       "</style>\n",
       "<table border=\"1\" class=\"dataframe\">\n",
       "  <thead>\n",
       "    <tr style=\"text-align: right;\">\n",
       "      <th></th>\n",
       "      <th>TMP_mean__w=240_s=120</th>\n",
       "      <th>TMP_amax__w=240_s=120</th>\n",
       "      <th>TMP_var__w=240_s=120</th>\n",
       "      <th>TMP_std__w=240_s=120</th>\n",
       "      <th>TMP_amin__w=240_s=120</th>\n",
       "      <th>TMP_area__w=240_s=120</th>\n",
       "      <th>TMP_rms__w=240_s=120</th>\n",
       "      <th>TMP_quantile_0.25__w=240_s=120</th>\n",
       "      <th>TMP_quantile_0.5__w=240_s=120</th>\n",
       "      <th>TMP_quantile_0.75__w=240_s=120</th>\n",
       "      <th>TMP_slope__w=240_s=120</th>\n",
       "      <th>TMP_kurtosis__w=240_s=120</th>\n",
       "      <th>TMP_skew__w=240_s=120</th>\n",
       "    </tr>\n",
       "    <tr>\n",
       "      <th>timestamp</th>\n",
       "      <th></th>\n",
       "      <th></th>\n",
       "      <th></th>\n",
       "      <th></th>\n",
       "      <th></th>\n",
       "      <th></th>\n",
       "      <th></th>\n",
       "      <th></th>\n",
       "      <th></th>\n",
       "      <th></th>\n",
       "      <th></th>\n",
       "      <th></th>\n",
       "      <th></th>\n",
       "    </tr>\n",
       "  </thead>\n",
       "  <tbody>\n",
       "    <tr>\n",
       "      <th>2017-06-13 11:54:39.750000+02:00</th>\n",
       "      <td>32.762333</td>\n",
       "      <td>32.79</td>\n",
       "      <td>0.000188</td>\n",
       "      <td>0.013707</td>\n",
       "      <td>32.73</td>\n",
       "      <td>7862.96</td>\n",
       "      <td>32.762336</td>\n",
       "      <td>32.75</td>\n",
       "      <td>32.77</td>\n",
       "      <td>32.77</td>\n",
       "      <td>0.000073</td>\n",
       "      <td>-0.486972</td>\n",
       "      <td>0.351554</td>\n",
       "    </tr>\n",
       "    <tr>\n",
       "      <th>2017-06-13 11:08:09.750000+02:00</th>\n",
       "      <td>32.899000</td>\n",
       "      <td>32.93</td>\n",
       "      <td>0.000139</td>\n",
       "      <td>0.011790</td>\n",
       "      <td>32.87</td>\n",
       "      <td>7895.76</td>\n",
       "      <td>32.899002</td>\n",
       "      <td>32.89</td>\n",
       "      <td>32.89</td>\n",
       "      <td>32.91</td>\n",
       "      <td>-0.000008</td>\n",
       "      <td>-0.306713</td>\n",
       "      <td>0.438129</td>\n",
       "    </tr>\n",
       "  </tbody>\n",
       "</table>\n",
       "</div>"
      ],
      "text/plain": [
       "                                  TMP_mean__w=240_s=120  \\\n",
       "timestamp                                                 \n",
       "2017-06-13 11:54:39.750000+02:00              32.762333   \n",
       "2017-06-13 11:08:09.750000+02:00              32.899000   \n",
       "\n",
       "                                  TMP_amax__w=240_s=120  TMP_var__w=240_s=120  \\\n",
       "timestamp                                                                       \n",
       "2017-06-13 11:54:39.750000+02:00                  32.79              0.000188   \n",
       "2017-06-13 11:08:09.750000+02:00                  32.93              0.000139   \n",
       "\n",
       "                                  TMP_std__w=240_s=120  TMP_amin__w=240_s=120  \\\n",
       "timestamp                                                                       \n",
       "2017-06-13 11:54:39.750000+02:00              0.013707                  32.73   \n",
       "2017-06-13 11:08:09.750000+02:00              0.011790                  32.87   \n",
       "\n",
       "                                  TMP_area__w=240_s=120  TMP_rms__w=240_s=120  \\\n",
       "timestamp                                                                       \n",
       "2017-06-13 11:54:39.750000+02:00                7862.96             32.762336   \n",
       "2017-06-13 11:08:09.750000+02:00                7895.76             32.899002   \n",
       "\n",
       "                                  TMP_quantile_0.25__w=240_s=120  \\\n",
       "timestamp                                                          \n",
       "2017-06-13 11:54:39.750000+02:00                           32.75   \n",
       "2017-06-13 11:08:09.750000+02:00                           32.89   \n",
       "\n",
       "                                  TMP_quantile_0.5__w=240_s=120  \\\n",
       "timestamp                                                         \n",
       "2017-06-13 11:54:39.750000+02:00                          32.77   \n",
       "2017-06-13 11:08:09.750000+02:00                          32.89   \n",
       "\n",
       "                                  TMP_quantile_0.75__w=240_s=120  \\\n",
       "timestamp                                                          \n",
       "2017-06-13 11:54:39.750000+02:00                           32.77   \n",
       "2017-06-13 11:08:09.750000+02:00                           32.91   \n",
       "\n",
       "                                  TMP_slope__w=240_s=120  \\\n",
       "timestamp                                                  \n",
       "2017-06-13 11:54:39.750000+02:00                0.000073   \n",
       "2017-06-13 11:08:09.750000+02:00               -0.000008   \n",
       "\n",
       "                                  TMP_kurtosis__w=240_s=120  \\\n",
       "timestamp                                                     \n",
       "2017-06-13 11:54:39.750000+02:00                  -0.486972   \n",
       "2017-06-13 11:08:09.750000+02:00                  -0.306713   \n",
       "\n",
       "                                  TMP_skew__w=240_s=120  \n",
       "timestamp                                                \n",
       "2017-06-13 11:54:39.750000+02:00               0.351554  \n",
       "2017-06-13 11:08:09.750000+02:00               0.438129  "
      ]
     },
     "execution_count": 10,
     "metadata": {},
     "output_type": "execute_result"
    }
   ],
   "source": [
    "%%time\n",
    "# multiprocessing\n",
    "tmp_feat_extr.calculate(df_tmp, merge_dfs=True).sample(2)"
   ]
  },
  {
   "cell_type": "code",
   "execution_count": 13,
   "metadata": {},
   "outputs": [
    {
     "name": "stdout",
     "output_type": "stream",
     "text": [
      "peak memory: 167.53 MiB, increment: 0.06 MiB\n"
     ]
    }
   ],
   "source": [
    "%%memit\n",
    "tmp_feat_extr.calculate(df_tmp, merge_dfs=True, show_progress=False)"
   ]
  },
  {
   "cell_type": "code",
   "execution_count": 19,
   "metadata": {},
   "outputs": [
    {
     "name": "stdout",
     "output_type": "stream",
     "text": [
      "peak memory: 178.02 MiB, increment: 1.22 MiB\n"
     ]
    }
   ],
   "source": [
    "%%memit\n",
    "tmp_feat_extr.calculate(df_tmp, merge_dfs=False, show_progress=False)"
   ]
  },
  {
   "cell_type": "markdown",
   "metadata": {},
   "source": [
    "### Example 2: Using multiple window sizes and strides"
   ]
  },
  {
   "cell_type": "markdown",
   "metadata": {},
   "source": [
    "In this example, we will use multiple stride-window-size combinations on a wearables' **Galvanic Skin Response** (GSR) signal , also known ElectorDermal Activity (EDA)."
   ]
  },
  {
   "cell_type": "code",
   "execution_count": 14,
   "metadata": {},
   "outputs": [
    {
     "data": {
      "text/plain": [
       "EDA: (\n",
       "\twin: 240   , stride: 120: [\n",
       "\t\tFeatureDescriptor - func: NumpyFuncWrapper(mean, ['mean'], {}),\n",
       "\t\tFeatureDescriptor - func: NumpyFuncWrapper(amax, ['amax'], {}),\n",
       "\t\tFeatureDescriptor - func: NumpyFuncWrapper(slope, ['slope'], {}),\n",
       "\t]\n",
       "\twin: 480   , stride: 40: [\n",
       "\t\tFeatureDescriptor - func: NumpyFuncWrapper(std, ['std'], {}),\n",
       "\t\tFeatureDescriptor - func: NumpyFuncWrapper(quantile, ['quantile_0.25', 'quantile_0.5', 'quantile_0.75'], {'q': [0.25, 0.5, 0.75]}),\n",
       "\t\tFeatureDescriptor - func: NumpyFuncWrapper(sum, ['area'], {}),\n",
       "\t]\n",
       "\twin: 240   , stride: 40: [\n",
       "\t\tFeatureDescriptor - func: NumpyFuncWrapper(var, ['var'], {}),\n",
       "\t\tFeatureDescriptor - func: NumpyFuncWrapper(kurtosis, ['kurtosis'], {}),\n",
       "\t\tFeatureDescriptor - func: NumpyFuncWrapper(<lambda>, ['rms'], {}),\n",
       "\t]\n",
       "\twin: 480   , stride: 80: [\n",
       "\t\tFeatureDescriptor - func: NumpyFuncWrapper(amin, ['amin'], {}),\n",
       "\t\tFeatureDescriptor - func: NumpyFuncWrapper(skew, ['skew'], {}),\n",
       "\t]\n",
       ")"
      ]
     },
     "execution_count": 14,
     "metadata": {},
     "output_type": "execute_result"
    }
   ],
   "source": [
    "# PoC: we will select a random combination of the window_size stride combination\n",
    "window_size_s = [60, 120]\n",
    "stride_size_s = [30, 10, 20]\n",
    "fs_gsr = 4\n",
    "\n",
    "import random\n",
    "\n",
    "gsr_feat_extr = FeatureCollection(\n",
    "    [\n",
    "        FeatureDescriptor(\n",
    "            key=\"EDA\",\n",
    "            window=random.choice(window_size_s) * fs_tmp,\n",
    "            stride=random.choice(stride_size_s) * fs_tmp,\n",
    "            function=f,\n",
    "        )\n",
    "        for f in segment_funcs\n",
    "    ]\n",
    ")\n",
    "gsr_feat_extr"
   ]
  },
  {
   "cell_type": "code",
   "execution_count": 15,
   "metadata": {},
   "outputs": [
    {
     "data": {
      "text/html": [
       "<div>\n",
       "<style scoped>\n",
       "    .dataframe tbody tr th:only-of-type {\n",
       "        vertical-align: middle;\n",
       "    }\n",
       "\n",
       "    .dataframe tbody tr th {\n",
       "        vertical-align: top;\n",
       "    }\n",
       "\n",
       "    .dataframe thead th {\n",
       "        text-align: right;\n",
       "    }\n",
       "</style>\n",
       "<table border=\"1\" class=\"dataframe\">\n",
       "  <thead>\n",
       "    <tr style=\"text-align: right;\">\n",
       "      <th></th>\n",
       "      <th>EDA</th>\n",
       "    </tr>\n",
       "    <tr>\n",
       "      <th>timestamp</th>\n",
       "      <th></th>\n",
       "    </tr>\n",
       "  </thead>\n",
       "  <tbody>\n",
       "    <tr>\n",
       "      <th>2017-06-13 11:34:44.750000+02:00</th>\n",
       "      <td>0.176793</td>\n",
       "    </tr>\n",
       "    <tr>\n",
       "      <th>2017-06-13 11:13:40.750000+02:00</th>\n",
       "      <td>0.120509</td>\n",
       "    </tr>\n",
       "  </tbody>\n",
       "</table>\n",
       "</div>"
      ],
      "text/plain": [
       "                                       EDA\n",
       "timestamp                                 \n",
       "2017-06-13 11:34:44.750000+02:00  0.176793\n",
       "2017-06-13 11:13:40.750000+02:00  0.120509"
      ]
     },
     "execution_count": 15,
     "metadata": {},
     "output_type": "execute_result"
    }
   ],
   "source": [
    "df_gsr = pd.read_feather(\"data/gsr.feather\").set_index(\"timestamp\")\n",
    "df_gsr.sample(2)"
   ]
  },
  {
   "cell_type": "code",
   "execution_count": 16,
   "metadata": {},
   "outputs": [
    {
     "name": "stdout",
     "output_type": "stream",
     "text": [
      "CPU times: user 81.9 ms, sys: 70 ms, total: 152 ms\n",
      "Wall time: 394 ms\n"
     ]
    },
    {
     "data": {
      "text/html": [
       "<div>\n",
       "<style scoped>\n",
       "    .dataframe tbody tr th:only-of-type {\n",
       "        vertical-align: middle;\n",
       "    }\n",
       "\n",
       "    .dataframe tbody tr th {\n",
       "        vertical-align: top;\n",
       "    }\n",
       "\n",
       "    .dataframe thead th {\n",
       "        text-align: right;\n",
       "    }\n",
       "</style>\n",
       "<table border=\"1\" class=\"dataframe\">\n",
       "  <thead>\n",
       "    <tr style=\"text-align: right;\">\n",
       "      <th></th>\n",
       "      <th>EDA_mean__w=240_s=120</th>\n",
       "      <th>EDA_amax__w=240_s=120</th>\n",
       "      <th>EDA_std__w=480_s=40</th>\n",
       "      <th>EDA_area__w=480_s=40</th>\n",
       "      <th>EDA_slope__w=240_s=120</th>\n",
       "      <th>EDA_var__w=240_s=40</th>\n",
       "      <th>EDA_amin__w=480_s=80</th>\n",
       "      <th>EDA_rms__w=240_s=40</th>\n",
       "      <th>EDA_quantile_0.25__w=480_s=40</th>\n",
       "      <th>EDA_quantile_0.5__w=480_s=40</th>\n",
       "      <th>EDA_quantile_0.75__w=480_s=40</th>\n",
       "      <th>EDA_skew__w=480_s=80</th>\n",
       "      <th>EDA_kurtosis__w=240_s=40</th>\n",
       "    </tr>\n",
       "    <tr>\n",
       "      <th>timestamp</th>\n",
       "      <th></th>\n",
       "      <th></th>\n",
       "      <th></th>\n",
       "      <th></th>\n",
       "      <th></th>\n",
       "      <th></th>\n",
       "      <th></th>\n",
       "      <th></th>\n",
       "      <th></th>\n",
       "      <th></th>\n",
       "      <th></th>\n",
       "      <th></th>\n",
       "      <th></th>\n",
       "    </tr>\n",
       "  </thead>\n",
       "  <tbody>\n",
       "    <tr>\n",
       "      <th>2017-06-13 12:03:19.750000+02:00</th>\n",
       "      <td>NaN</td>\n",
       "      <td>NaN</td>\n",
       "      <td>0.158261</td>\n",
       "      <td>1207.859398</td>\n",
       "      <td>NaN</td>\n",
       "      <td>0.007199</td>\n",
       "      <td>2.219481</td>\n",
       "      <td>2.415266</td>\n",
       "      <td>2.419032</td>\n",
       "      <td>2.492250</td>\n",
       "      <td>2.589238</td>\n",
       "      <td>0.977838</td>\n",
       "      <td>-0.390776</td>\n",
       "    </tr>\n",
       "    <tr>\n",
       "      <th>2017-06-13 11:32:39.750000+02:00</th>\n",
       "      <td>0.17732</td>\n",
       "      <td>0.187026</td>\n",
       "      <td>0.007228</td>\n",
       "      <td>86.035993</td>\n",
       "      <td>0.000001</td>\n",
       "      <td>0.000011</td>\n",
       "      <td>0.164001</td>\n",
       "      <td>0.177353</td>\n",
       "      <td>0.174234</td>\n",
       "      <td>0.176793</td>\n",
       "      <td>0.183188</td>\n",
       "      <td>1.687300</td>\n",
       "      <td>0.238842</td>\n",
       "    </tr>\n",
       "  </tbody>\n",
       "</table>\n",
       "</div>"
      ],
      "text/plain": [
       "                                  EDA_mean__w=240_s=120  \\\n",
       "timestamp                                                 \n",
       "2017-06-13 12:03:19.750000+02:00                    NaN   \n",
       "2017-06-13 11:32:39.750000+02:00                0.17732   \n",
       "\n",
       "                                  EDA_amax__w=240_s=120  EDA_std__w=480_s=40  \\\n",
       "timestamp                                                                      \n",
       "2017-06-13 12:03:19.750000+02:00                    NaN             0.158261   \n",
       "2017-06-13 11:32:39.750000+02:00               0.187026             0.007228   \n",
       "\n",
       "                                  EDA_area__w=480_s=40  \\\n",
       "timestamp                                                \n",
       "2017-06-13 12:03:19.750000+02:00           1207.859398   \n",
       "2017-06-13 11:32:39.750000+02:00             86.035993   \n",
       "\n",
       "                                  EDA_slope__w=240_s=120  EDA_var__w=240_s=40  \\\n",
       "timestamp                                                                       \n",
       "2017-06-13 12:03:19.750000+02:00                     NaN             0.007199   \n",
       "2017-06-13 11:32:39.750000+02:00                0.000001             0.000011   \n",
       "\n",
       "                                  EDA_amin__w=480_s=80  EDA_rms__w=240_s=40  \\\n",
       "timestamp                                                                     \n",
       "2017-06-13 12:03:19.750000+02:00              2.219481             2.415266   \n",
       "2017-06-13 11:32:39.750000+02:00              0.164001             0.177353   \n",
       "\n",
       "                                  EDA_quantile_0.25__w=480_s=40  \\\n",
       "timestamp                                                         \n",
       "2017-06-13 12:03:19.750000+02:00                       2.419032   \n",
       "2017-06-13 11:32:39.750000+02:00                       0.174234   \n",
       "\n",
       "                                  EDA_quantile_0.5__w=480_s=40  \\\n",
       "timestamp                                                        \n",
       "2017-06-13 12:03:19.750000+02:00                      2.492250   \n",
       "2017-06-13 11:32:39.750000+02:00                      0.176793   \n",
       "\n",
       "                                  EDA_quantile_0.75__w=480_s=40  \\\n",
       "timestamp                                                         \n",
       "2017-06-13 12:03:19.750000+02:00                       2.589238   \n",
       "2017-06-13 11:32:39.750000+02:00                       0.183188   \n",
       "\n",
       "                                  EDA_skew__w=480_s=80  \\\n",
       "timestamp                                                \n",
       "2017-06-13 12:03:19.750000+02:00              0.977838   \n",
       "2017-06-13 11:32:39.750000+02:00              1.687300   \n",
       "\n",
       "                                  EDA_kurtosis__w=240_s=40  \n",
       "timestamp                                                   \n",
       "2017-06-13 12:03:19.750000+02:00                 -0.390776  \n",
       "2017-06-13 11:32:39.750000+02:00                  0.238842  "
      ]
     },
     "execution_count": 16,
     "metadata": {},
     "output_type": "execute_result"
    }
   ],
   "source": [
    "%%time\n",
    "gsr_feat_extr.calculate(df_gsr, merge_dfs=True, show_progress=False).sample(2)"
   ]
  },
  {
   "cell_type": "code",
   "execution_count": 17,
   "metadata": {},
   "outputs": [
    {
     "data": {
      "application/vnd.jupyter.widget-view+json": {
       "model_id": "7397b09f1be5423c821d15f61c8e6119",
       "version_major": 2,
       "version_minor": 0
      },
      "text/plain": [
       "HBox(children=(HTML(value=''), FloatProgress(value=0.0, max=11.0), HTML(value='')))"
      ]
     },
     "metadata": {},
     "output_type": "display_data"
    },
    {
     "name": "stdout",
     "output_type": "stream",
     "text": [
      "\n",
      "peak memory: 176.80 MiB, increment: 3.69 MiB\n"
     ]
    }
   ],
   "source": [
    "%%memit\n",
    "gsr_feat_extr.calculate(df_gsr, merge_dfs=True)"
   ]
  },
  {
   "cell_type": "markdown",
   "metadata": {
    "tags": []
   },
   "source": [
    "## Use case: Multiple series feature extraction"
   ]
  },
  {
   "cell_type": "code",
   "execution_count": 20,
   "metadata": {
    "tags": []
   },
   "outputs": [
    {
     "data": {
      "text/plain": [
       "EDA: (\n",
       "\twin: 240   , stride: 120: [\n",
       "\t\tFeatureDescriptor - func: NumpyFuncWrapper(mean, ['mean'], {}),\n",
       "\t\tFeatureDescriptor - func: NumpyFuncWrapper(amax, ['amax'], {}),\n",
       "\t\tFeatureDescriptor - func: NumpyFuncWrapper(slope, ['slope'], {}),\n",
       "\t]\n",
       "\twin: 480   , stride: 40: [\n",
       "\t\tFeatureDescriptor - func: NumpyFuncWrapper(std, ['std'], {}),\n",
       "\t\tFeatureDescriptor - func: NumpyFuncWrapper(quantile, ['quantile_0.25', 'quantile_0.5', 'quantile_0.75'], {'q': [0.25, 0.5, 0.75]}),\n",
       "\t\tFeatureDescriptor - func: NumpyFuncWrapper(sum, ['area'], {}),\n",
       "\t]\n",
       "\twin: 240   , stride: 40: [\n",
       "\t\tFeatureDescriptor - func: NumpyFuncWrapper(var, ['var'], {}),\n",
       "\t\tFeatureDescriptor - func: NumpyFuncWrapper(kurtosis, ['kurtosis'], {}),\n",
       "\t\tFeatureDescriptor - func: NumpyFuncWrapper(<lambda>, ['rms'], {}),\n",
       "\t]\n",
       "\twin: 480   , stride: 80: [\n",
       "\t\tFeatureDescriptor - func: NumpyFuncWrapper(amin, ['amin'], {}),\n",
       "\t\tFeatureDescriptor - func: NumpyFuncWrapper(skew, ['skew'], {}),\n",
       "\t]\n",
       ")\n",
       "TMP: (\n",
       "\twin: 240   , stride: 120: [\n",
       "\t\tFeatureDescriptor - func: NumpyFuncWrapper(mean, ['mean'], {}),\n",
       "\t\tFeatureDescriptor - func: NumpyFuncWrapper(std, ['std'], {}),\n",
       "\t\tFeatureDescriptor - func: NumpyFuncWrapper(var, ['var'], {}),\n",
       "\t\tFeatureDescriptor - func: NumpyFuncWrapper(amax, ['amax'], {}),\n",
       "\t\tFeatureDescriptor - func: NumpyFuncWrapper(amin, ['amin'], {}),\n",
       "\t\tFeatureDescriptor - func: NumpyFuncWrapper(skew, ['skew'], {}),\n",
       "\t\tFeatureDescriptor - func: NumpyFuncWrapper(kurtosis, ['kurtosis'], {}),\n",
       "\t\tFeatureDescriptor - func: NumpyFuncWrapper(quantile, ['quantile_0.25', 'quantile_0.5', 'quantile_0.75'], {'q': [0.25, 0.5, 0.75]}),\n",
       "\t\tFeatureDescriptor - func: NumpyFuncWrapper(slope, ['slope'], {}),\n",
       "\t\tFeatureDescriptor - func: NumpyFuncWrapper(<lambda>, ['rms'], {}),\n",
       "\t\tFeatureDescriptor - func: NumpyFuncWrapper(sum, ['area'], {}),\n",
       "\t]\n",
       ")"
      ]
     },
     "execution_count": 20,
     "metadata": {},
     "output_type": "execute_result"
    }
   ],
   "source": [
    "# Construct the feature FeatureCollection\n",
    "#   =  higher order wrapper which aggregates the featuredescriptions\n",
    "multimodal_feature_extraction = FeatureCollection(\n",
    "    feature_desc_list=[gsr_feat_extr, tmp_feat_extr]\n",
    ")\n",
    "multimodal_feature_extraction"
   ]
  },
  {
   "cell_type": "code",
   "execution_count": 21,
   "metadata": {},
   "outputs": [
    {
     "data": {
      "application/vnd.jupyter.widget-view+json": {
       "model_id": "b802f653e1e84cc6b4531f62205319df",
       "version_major": 2,
       "version_minor": 0
      },
      "text/plain": [
       "HBox(children=(HTML(value=''), FloatProgress(value=0.0, max=22.0), HTML(value='')))"
      ]
     },
     "metadata": {},
     "output_type": "display_data"
    },
    {
     "name": "stdout",
     "output_type": "stream",
     "text": [
      "\n",
      "peak memory: 178.02 MiB, increment: 0.02 MiB\n"
     ]
    }
   ],
   "source": [
    "%%memit\n",
    "multimodal_feature_extraction.calculate([df_gsr, df_tmp], merge_dfs=True)"
   ]
  },
  {
   "cell_type": "code",
   "execution_count": 22,
   "metadata": {},
   "outputs": [
    {
     "data": {
      "application/vnd.jupyter.widget-view+json": {
       "model_id": "3085850e0875409ea7097799500ea1de",
       "version_major": 2,
       "version_minor": 0
      },
      "text/plain": [
       "HBox(children=(HTML(value=''), FloatProgress(value=0.0, max=22.0), HTML(value='')))"
      ]
     },
     "metadata": {},
     "output_type": "display_data"
    },
    {
     "name": "stdout",
     "output_type": "stream",
     "text": [
      "\n",
      "CPU times: user 185 ms, sys: 76.5 ms, total: 262 ms\n",
      "Wall time: 425 ms\n"
     ]
    },
    {
     "data": {
      "text/html": [
       "<div>\n",
       "<style scoped>\n",
       "    .dataframe tbody tr th:only-of-type {\n",
       "        vertical-align: middle;\n",
       "    }\n",
       "\n",
       "    .dataframe tbody tr th {\n",
       "        vertical-align: top;\n",
       "    }\n",
       "\n",
       "    .dataframe thead th {\n",
       "        text-align: right;\n",
       "    }\n",
       "</style>\n",
       "<table border=\"1\" class=\"dataframe\">\n",
       "  <thead>\n",
       "    <tr style=\"text-align: right;\">\n",
       "      <th></th>\n",
       "      <th>EDA_amax__w=240_s=120</th>\n",
       "      <th>EDA_mean__w=240_s=120</th>\n",
       "      <th>EDA_slope__w=240_s=120</th>\n",
       "      <th>EDA_area__w=480_s=40</th>\n",
       "      <th>EDA_std__w=480_s=40</th>\n",
       "      <th>EDA_var__w=240_s=40</th>\n",
       "      <th>EDA_amin__w=480_s=80</th>\n",
       "      <th>TMP_mean__w=240_s=120</th>\n",
       "      <th>EDA_rms__w=240_s=40</th>\n",
       "      <th>TMP_std__w=240_s=120</th>\n",
       "      <th>...</th>\n",
       "      <th>EDA_quantile_0.5__w=480_s=40</th>\n",
       "      <th>EDA_quantile_0.75__w=480_s=40</th>\n",
       "      <th>TMP_slope__w=240_s=120</th>\n",
       "      <th>TMP_quantile_0.25__w=240_s=120</th>\n",
       "      <th>TMP_quantile_0.5__w=240_s=120</th>\n",
       "      <th>TMP_quantile_0.75__w=240_s=120</th>\n",
       "      <th>TMP_kurtosis__w=240_s=120</th>\n",
       "      <th>TMP_skew__w=240_s=120</th>\n",
       "      <th>EDA_skew__w=480_s=80</th>\n",
       "      <th>EDA_kurtosis__w=240_s=40</th>\n",
       "    </tr>\n",
       "    <tr>\n",
       "      <th>timestamp</th>\n",
       "      <th></th>\n",
       "      <th></th>\n",
       "      <th></th>\n",
       "      <th></th>\n",
       "      <th></th>\n",
       "      <th></th>\n",
       "      <th></th>\n",
       "      <th></th>\n",
       "      <th></th>\n",
       "      <th></th>\n",
       "      <th></th>\n",
       "      <th></th>\n",
       "      <th></th>\n",
       "      <th></th>\n",
       "      <th></th>\n",
       "      <th></th>\n",
       "      <th></th>\n",
       "      <th></th>\n",
       "      <th></th>\n",
       "      <th></th>\n",
       "      <th></th>\n",
       "    </tr>\n",
       "  </thead>\n",
       "  <tbody>\n",
       "    <tr>\n",
       "      <th>2017-06-13 11:47:49.750000+02:00</th>\n",
       "      <td>NaN</td>\n",
       "      <td>NaN</td>\n",
       "      <td>NaN</td>\n",
       "      <td>76.451085</td>\n",
       "      <td>0.002087</td>\n",
       "      <td>0.000003</td>\n",
       "      <td>NaN</td>\n",
       "      <td>NaN</td>\n",
       "      <td>0.160131</td>\n",
       "      <td>NaN</td>\n",
       "      <td>...</td>\n",
       "      <td>0.158884</td>\n",
       "      <td>0.160163</td>\n",
       "      <td>NaN</td>\n",
       "      <td>NaN</td>\n",
       "      <td>NaN</td>\n",
       "      <td>NaN</td>\n",
       "      <td>NaN</td>\n",
       "      <td>NaN</td>\n",
       "      <td>NaN</td>\n",
       "      <td>1.725821</td>\n",
       "    </tr>\n",
       "    <tr>\n",
       "      <th>2017-06-13 12:20:59.750000+02:00</th>\n",
       "      <td>NaN</td>\n",
       "      <td>NaN</td>\n",
       "      <td>NaN</td>\n",
       "      <td>164.712884</td>\n",
       "      <td>0.021100</td>\n",
       "      <td>0.000070</td>\n",
       "      <td>0.311106</td>\n",
       "      <td>NaN</td>\n",
       "      <td>0.325348</td>\n",
       "      <td>NaN</td>\n",
       "      <td>...</td>\n",
       "      <td>0.340527</td>\n",
       "      <td>0.358755</td>\n",
       "      <td>NaN</td>\n",
       "      <td>NaN</td>\n",
       "      <td>NaN</td>\n",
       "      <td>NaN</td>\n",
       "      <td>NaN</td>\n",
       "      <td>NaN</td>\n",
       "      <td>0.34976</td>\n",
       "      <td>-1.143233</td>\n",
       "    </tr>\n",
       "  </tbody>\n",
       "</table>\n",
       "<p>2 rows × 26 columns</p>\n",
       "</div>"
      ],
      "text/plain": [
       "                                  EDA_amax__w=240_s=120  \\\n",
       "timestamp                                                 \n",
       "2017-06-13 11:47:49.750000+02:00                    NaN   \n",
       "2017-06-13 12:20:59.750000+02:00                    NaN   \n",
       "\n",
       "                                  EDA_mean__w=240_s=120  \\\n",
       "timestamp                                                 \n",
       "2017-06-13 11:47:49.750000+02:00                    NaN   \n",
       "2017-06-13 12:20:59.750000+02:00                    NaN   \n",
       "\n",
       "                                  EDA_slope__w=240_s=120  \\\n",
       "timestamp                                                  \n",
       "2017-06-13 11:47:49.750000+02:00                     NaN   \n",
       "2017-06-13 12:20:59.750000+02:00                     NaN   \n",
       "\n",
       "                                  EDA_area__w=480_s=40  EDA_std__w=480_s=40  \\\n",
       "timestamp                                                                     \n",
       "2017-06-13 11:47:49.750000+02:00             76.451085             0.002087   \n",
       "2017-06-13 12:20:59.750000+02:00            164.712884             0.021100   \n",
       "\n",
       "                                  EDA_var__w=240_s=40  EDA_amin__w=480_s=80  \\\n",
       "timestamp                                                                     \n",
       "2017-06-13 11:47:49.750000+02:00             0.000003                   NaN   \n",
       "2017-06-13 12:20:59.750000+02:00             0.000070              0.311106   \n",
       "\n",
       "                                  TMP_mean__w=240_s=120  EDA_rms__w=240_s=40  \\\n",
       "timestamp                                                                      \n",
       "2017-06-13 11:47:49.750000+02:00                    NaN             0.160131   \n",
       "2017-06-13 12:20:59.750000+02:00                    NaN             0.325348   \n",
       "\n",
       "                                  TMP_std__w=240_s=120  ...  \\\n",
       "timestamp                                               ...   \n",
       "2017-06-13 11:47:49.750000+02:00                   NaN  ...   \n",
       "2017-06-13 12:20:59.750000+02:00                   NaN  ...   \n",
       "\n",
       "                                  EDA_quantile_0.5__w=480_s=40  \\\n",
       "timestamp                                                        \n",
       "2017-06-13 11:47:49.750000+02:00                      0.158884   \n",
       "2017-06-13 12:20:59.750000+02:00                      0.340527   \n",
       "\n",
       "                                  EDA_quantile_0.75__w=480_s=40  \\\n",
       "timestamp                                                         \n",
       "2017-06-13 11:47:49.750000+02:00                       0.160163   \n",
       "2017-06-13 12:20:59.750000+02:00                       0.358755   \n",
       "\n",
       "                                  TMP_slope__w=240_s=120  \\\n",
       "timestamp                                                  \n",
       "2017-06-13 11:47:49.750000+02:00                     NaN   \n",
       "2017-06-13 12:20:59.750000+02:00                     NaN   \n",
       "\n",
       "                                  TMP_quantile_0.25__w=240_s=120  \\\n",
       "timestamp                                                          \n",
       "2017-06-13 11:47:49.750000+02:00                             NaN   \n",
       "2017-06-13 12:20:59.750000+02:00                             NaN   \n",
       "\n",
       "                                  TMP_quantile_0.5__w=240_s=120  \\\n",
       "timestamp                                                         \n",
       "2017-06-13 11:47:49.750000+02:00                            NaN   \n",
       "2017-06-13 12:20:59.750000+02:00                            NaN   \n",
       "\n",
       "                                  TMP_quantile_0.75__w=240_s=120  \\\n",
       "timestamp                                                          \n",
       "2017-06-13 11:47:49.750000+02:00                             NaN   \n",
       "2017-06-13 12:20:59.750000+02:00                             NaN   \n",
       "\n",
       "                                  TMP_kurtosis__w=240_s=120  \\\n",
       "timestamp                                                     \n",
       "2017-06-13 11:47:49.750000+02:00                        NaN   \n",
       "2017-06-13 12:20:59.750000+02:00                        NaN   \n",
       "\n",
       "                                  TMP_skew__w=240_s=120  EDA_skew__w=480_s=80  \\\n",
       "timestamp                                                                       \n",
       "2017-06-13 11:47:49.750000+02:00                    NaN                   NaN   \n",
       "2017-06-13 12:20:59.750000+02:00                    NaN               0.34976   \n",
       "\n",
       "                                  EDA_kurtosis__w=240_s=40  \n",
       "timestamp                                                   \n",
       "2017-06-13 11:47:49.750000+02:00                  1.725821  \n",
       "2017-06-13 12:20:59.750000+02:00                 -1.143233  \n",
       "\n",
       "[2 rows x 26 columns]"
      ]
     },
     "execution_count": 22,
     "metadata": {},
     "output_type": "execute_result"
    }
   ],
   "source": [
    "%%time\n",
    "df_feat = multimodal_feature_extraction.calculate([df_gsr, df_tmp], merge_dfs=True)\n",
    "df_feat.sample(2)"
   ]
  },
  {
   "cell_type": "markdown",
   "metadata": {
    "heading_collapsed": "true",
    "tags": []
   },
   "source": [
    "## Serialization"
   ]
  },
  {
   "cell_type": "markdown",
   "metadata": {},
   "source": [
    "Serialization is mandatory to store and share your pipelines.\n",
    "`TODO`"
   ]
  },
  {
   "cell_type": "code",
   "execution_count": 23,
   "metadata": {},
   "outputs": [],
   "source": [
    "multimodal_feature_extraction.serialize(\"data/example_serialization.pkl\")"
   ]
  },
  {
   "cell_type": "markdown",
   "metadata": {
    "tags": []
   },
   "source": [
    "## Other packages"
   ]
  },
  {
   "cell_type": "markdown",
   "metadata": {
    "tags": []
   },
   "source": [
    "### tsfresh"
   ]
  },
  {
   "cell_type": "markdown",
   "metadata": {},
   "source": [
    "https://tsfresh.readthedocs.io/en/latest/api/tsfresh.utilities.html#tsfresh.utilities.dataframe_functions.roll_time_series"
   ]
  },
  {
   "cell_type": "code",
   "execution_count": null,
   "metadata": {},
   "outputs": [],
   "source": [
    "from tsfresh.feature_extraction import extract_features\n",
    "from tsfresh.utilities.dataframe_functions import roll_time_series"
   ]
  },
  {
   "cell_type": "code",
   "execution_count": null,
   "metadata": {},
   "outputs": [],
   "source": [
    "# define the window-size and stride\n",
    "# used the largest window and smallest strided, defined above\n",
    "window = 480\n",
    "stride = 40\n",
    "\n",
    "df_gsr_id = df_gsr.reset_index(drop=False).copy()  # .set_index('timestamp', drop=True)\n",
    "df_gsr_id[\"id\"] = 1\n",
    "df_gsr_id.sample(2)"
   ]
  },
  {
   "cell_type": "markdown",
   "metadata": {},
   "source": [
    "**Note**: This ouputs merely one expansion with a fixed window and stride."
   ]
  },
  {
   "cell_type": "code",
   "execution_count": 21,
   "metadata": {},
   "outputs": [
    {
     "name": "stderr",
     "output_type": "stream",
     "text": [
      "Rolling: 100%|██████████| 80/80 [00:01<00:00, 51.69it/s]\n"
     ]
    },
    {
     "name": "stdout",
     "output_type": "stream",
     "text": [
      "peak memory: 373.57 MiB, increment: 133.35 MiB\n"
     ]
    }
   ],
   "source": [
    "%%memit\n",
    "tsf_out = roll_time_series(\n",
    "    df_gsr_id,\n",
    "    column_id=\"id\",\n",
    "    max_timeshift=window,\n",
    "    min_timeshift=window,\n",
    "    rolling_direction=stride,\n",
    ")"
   ]
  },
  {
   "cell_type": "code",
   "execution_count": 22,
   "metadata": {},
   "outputs": [
    {
     "name": "stderr",
     "output_type": "stream",
     "text": [
      "Rolling: 100%|██████████| 80/80 [00:01<00:00, 50.77it/s]\n"
     ]
    },
    {
     "name": "stdout",
     "output_type": "stream",
     "text": [
      "CPU times: user 1.89 s, sys: 442 ms, total: 2.33 s\n",
      "Wall time: 2.34 s\n"
     ]
    },
    {
     "data": {
      "text/html": [
       "<div>\n",
       "<style scoped>\n",
       "    .dataframe tbody tr th:only-of-type {\n",
       "        vertical-align: middle;\n",
       "    }\n",
       "\n",
       "    .dataframe tbody tr th {\n",
       "        vertical-align: top;\n",
       "    }\n",
       "\n",
       "    .dataframe thead th {\n",
       "        text-align: right;\n",
       "    }\n",
       "</style>\n",
       "<table border=\"1\" class=\"dataframe\">\n",
       "  <thead>\n",
       "    <tr style=\"text-align: right;\">\n",
       "      <th></th>\n",
       "      <th>timestamp</th>\n",
       "      <th>EDA</th>\n",
       "      <th>id</th>\n",
       "      <th>sort</th>\n",
       "    </tr>\n",
       "  </thead>\n",
       "  <tbody>\n",
       "    <tr>\n",
       "      <th>81134</th>\n",
       "      <td>2017-06-13 11:03:10.750000+02:00</td>\n",
       "      <td>0.211330</td>\n",
       "      <td>(1, 7237)</td>\n",
       "      <td>7083</td>\n",
       "    </tr>\n",
       "    <tr>\n",
       "      <th>199035</th>\n",
       "      <td>2017-06-13 11:44:14.750000+02:00</td>\n",
       "      <td>0.151209</td>\n",
       "      <td>(1, 17037)</td>\n",
       "      <td>16939</td>\n",
       "    </tr>\n",
       "  </tbody>\n",
       "</table>\n",
       "</div>"
      ],
      "text/plain": [
       "                              timestamp       EDA          id   sort\n",
       "81134  2017-06-13 11:03:10.750000+02:00  0.211330   (1, 7237)   7083\n",
       "199035 2017-06-13 11:44:14.750000+02:00  0.151209  (1, 17037)  16939"
      ]
     },
     "execution_count": 22,
     "metadata": {},
     "output_type": "execute_result"
    }
   ],
   "source": [
    "%%time\n",
    "roll_time_series(\n",
    "    df_gsr_id.reset_index(drop=True),\n",
    "    column_id=\"id\",\n",
    "    max_timeshift=window,\n",
    "    min_timeshift=window,\n",
    "    rolling_direction=stride,\n",
    ").sample(2)"
   ]
  },
  {
   "cell_type": "code",
   "execution_count": 23,
   "metadata": {},
   "outputs": [
    {
     "name": "stderr",
     "output_type": "stream",
     "text": [
      "Feature Extraction: 100%|██████████| 79/79 [01:13<00:00,  1.08it/s]\n"
     ]
    },
    {
     "name": "stdout",
     "output_type": "stream",
     "text": [
      "peak memory: 702.43 MiB, increment: 305.52 MiB\n"
     ]
    }
   ],
   "source": [
    "%%memit\n",
    "tsf_feats = extract_features(tsf_out.drop(columns=\"timestamp\"), column_id=\"id\")"
   ]
  },
  {
   "cell_type": "code",
   "execution_count": 24,
   "metadata": {},
   "outputs": [],
   "source": [
    "# some logic re-needed to add timestamp to features"
   ]
  },
  {
   "cell_type": "code",
   "execution_count": 25,
   "metadata": {},
   "outputs": [
    {
     "name": "stderr",
     "output_type": "stream",
     "text": [
      "Rolling: 100%|██████████| 80/80 [00:01<00:00, 56.32it/s]\n",
      "Feature Extraction: 100%|██████████| 79/79 [01:13<00:00,  1.08it/s]\n"
     ]
    },
    {
     "name": "stdout",
     "output_type": "stream",
     "text": [
      "CPU times: user 5.25 s, sys: 1.45 s, total: 6.7 s\n",
      "Wall time: 1min 17s\n"
     ]
    },
    {
     "data": {
      "text/html": [
       "<div>\n",
       "<style scoped>\n",
       "    .dataframe tbody tr th:only-of-type {\n",
       "        vertical-align: middle;\n",
       "    }\n",
       "\n",
       "    .dataframe tbody tr th {\n",
       "        vertical-align: top;\n",
       "    }\n",
       "\n",
       "    .dataframe thead th {\n",
       "        text-align: right;\n",
       "    }\n",
       "</style>\n",
       "<table border=\"1\" class=\"dataframe\">\n",
       "  <thead>\n",
       "    <tr style=\"text-align: right;\">\n",
       "      <th></th>\n",
       "      <th></th>\n",
       "      <th>EDA__variance_larger_than_standard_deviation</th>\n",
       "      <th>EDA__has_duplicate_max</th>\n",
       "      <th>EDA__has_duplicate_min</th>\n",
       "      <th>EDA__has_duplicate</th>\n",
       "      <th>EDA__sum_values</th>\n",
       "      <th>EDA__abs_energy</th>\n",
       "      <th>EDA__mean_abs_change</th>\n",
       "      <th>EDA__mean_change</th>\n",
       "      <th>EDA__mean_second_derivative_central</th>\n",
       "      <th>EDA__median</th>\n",
       "      <th>...</th>\n",
       "      <th>sort__permutation_entropy__dimension_5__tau_1</th>\n",
       "      <th>sort__permutation_entropy__dimension_6__tau_1</th>\n",
       "      <th>sort__permutation_entropy__dimension_7__tau_1</th>\n",
       "      <th>sort__query_similarity_count__query_None__threshold_0.0</th>\n",
       "      <th>sort__matrix_profile__feature_\"min\"__threshold_0.98</th>\n",
       "      <th>sort__matrix_profile__feature_\"max\"__threshold_0.98</th>\n",
       "      <th>sort__matrix_profile__feature_\"mean\"__threshold_0.98</th>\n",
       "      <th>sort__matrix_profile__feature_\"median\"__threshold_0.98</th>\n",
       "      <th>sort__matrix_profile__feature_\"25\"__threshold_0.98</th>\n",
       "      <th>sort__matrix_profile__feature_\"75\"__threshold_0.98</th>\n",
       "    </tr>\n",
       "  </thead>\n",
       "  <tbody>\n",
       "    <tr>\n",
       "      <th rowspan=\"2\" valign=\"top\">1</th>\n",
       "      <th>30957</th>\n",
       "      <td>0.0</td>\n",
       "      <td>0.0</td>\n",
       "      <td>0.0</td>\n",
       "      <td>1.0</td>\n",
       "      <td>71.245141</td>\n",
       "      <td>10.605110</td>\n",
       "      <td>0.001655</td>\n",
       "      <td>-0.000061</td>\n",
       "      <td>0.000004</td>\n",
       "      <td>0.146092</td>\n",
       "      <td>...</td>\n",
       "      <td>-0.0</td>\n",
       "      <td>-0.0</td>\n",
       "      <td>-0.0</td>\n",
       "      <td>NaN</td>\n",
       "      <td>0.0</td>\n",
       "      <td>0.0</td>\n",
       "      <td>0.0</td>\n",
       "      <td>0.0</td>\n",
       "      <td>0.0</td>\n",
       "      <td>0.0</td>\n",
       "    </tr>\n",
       "    <tr>\n",
       "      <th>19877</th>\n",
       "      <td>0.0</td>\n",
       "      <td>0.0</td>\n",
       "      <td>1.0</td>\n",
       "      <td>1.0</td>\n",
       "      <td>111.884515</td>\n",
       "      <td>26.125586</td>\n",
       "      <td>0.002033</td>\n",
       "      <td>0.000008</td>\n",
       "      <td>0.000005</td>\n",
       "      <td>0.235635</td>\n",
       "      <td>...</td>\n",
       "      <td>-0.0</td>\n",
       "      <td>-0.0</td>\n",
       "      <td>-0.0</td>\n",
       "      <td>NaN</td>\n",
       "      <td>0.0</td>\n",
       "      <td>0.0</td>\n",
       "      <td>0.0</td>\n",
       "      <td>0.0</td>\n",
       "      <td>0.0</td>\n",
       "      <td>0.0</td>\n",
       "    </tr>\n",
       "  </tbody>\n",
       "</table>\n",
       "<p>2 rows × 1574 columns</p>\n",
       "</div>"
      ],
      "text/plain": [
       "         EDA__variance_larger_than_standard_deviation  EDA__has_duplicate_max  \\\n",
       "1 30957                                           0.0                     0.0   \n",
       "  19877                                           0.0                     0.0   \n",
       "\n",
       "         EDA__has_duplicate_min  EDA__has_duplicate  EDA__sum_values  \\\n",
       "1 30957                     0.0                 1.0        71.245141   \n",
       "  19877                     1.0                 1.0       111.884515   \n",
       "\n",
       "         EDA__abs_energy  EDA__mean_abs_change  EDA__mean_change  \\\n",
       "1 30957        10.605110              0.001655         -0.000061   \n",
       "  19877        26.125586              0.002033          0.000008   \n",
       "\n",
       "         EDA__mean_second_derivative_central  EDA__median  ...  \\\n",
       "1 30957                             0.000004     0.146092  ...   \n",
       "  19877                             0.000005     0.235635  ...   \n",
       "\n",
       "         sort__permutation_entropy__dimension_5__tau_1  \\\n",
       "1 30957                                           -0.0   \n",
       "  19877                                           -0.0   \n",
       "\n",
       "         sort__permutation_entropy__dimension_6__tau_1  \\\n",
       "1 30957                                           -0.0   \n",
       "  19877                                           -0.0   \n",
       "\n",
       "         sort__permutation_entropy__dimension_7__tau_1  \\\n",
       "1 30957                                           -0.0   \n",
       "  19877                                           -0.0   \n",
       "\n",
       "         sort__query_similarity_count__query_None__threshold_0.0  \\\n",
       "1 30957                                                NaN         \n",
       "  19877                                                NaN         \n",
       "\n",
       "         sort__matrix_profile__feature_\"min\"__threshold_0.98  \\\n",
       "1 30957                                                0.0     \n",
       "  19877                                                0.0     \n",
       "\n",
       "         sort__matrix_profile__feature_\"max\"__threshold_0.98  \\\n",
       "1 30957                                                0.0     \n",
       "  19877                                                0.0     \n",
       "\n",
       "         sort__matrix_profile__feature_\"mean\"__threshold_0.98  \\\n",
       "1 30957                                                0.0      \n",
       "  19877                                                0.0      \n",
       "\n",
       "         sort__matrix_profile__feature_\"median\"__threshold_0.98  \\\n",
       "1 30957                                                0.0        \n",
       "  19877                                                0.0        \n",
       "\n",
       "         sort__matrix_profile__feature_\"25\"__threshold_0.98  \\\n",
       "1 30957                                                0.0    \n",
       "  19877                                                0.0    \n",
       "\n",
       "         sort__matrix_profile__feature_\"75\"__threshold_0.98  \n",
       "1 30957                                                0.0   \n",
       "  19877                                                0.0   \n",
       "\n",
       "[2 rows x 1574 columns]"
      ]
     },
     "execution_count": 25,
     "metadata": {},
     "output_type": "execute_result"
    }
   ],
   "source": [
    "%%time\n",
    "extract_features(\n",
    "    roll_time_series(\n",
    "        df_gsr_id.reset_index(drop=True),\n",
    "        column_id=\"id\",\n",
    "        max_timeshift=window,\n",
    "        min_timeshift=window,\n",
    "        rolling_direction=stride,\n",
    "    ).drop(columns=\"timestamp\"),\n",
    "    column_id=\"id\",\n",
    ").sample(2)"
   ]
  },
  {
   "cell_type": "markdown",
   "metadata": {
    "tags": []
   },
   "source": [
    "### Seglearn"
   ]
  },
  {
   "cell_type": "markdown",
   "metadata": {},
   "source": [
    "https://tsfresh.readthedocs.io/en/latest/api/tsfresh.utilities.html#tsfresh.utilities.dataframe_functions.roll_time_series"
   ]
  },
  {
   "cell_type": "code",
   "execution_count": null,
   "metadata": {},
   "outputs": [],
   "source": [
    "# !pip install -U seglearn"
   ]
  },
  {
   "cell_type": "code",
   "execution_count": 27,
   "metadata": {},
   "outputs": [],
   "source": [
    "from numpy.random import rand\n",
    "from seglearn.pipe import Pype\n",
    "from seglearn.transform import FeatureRep, Segment\n",
    "from seglearn.base import TS_Data\n",
    "from seglearn.util import ts_stats, check_ts_data"
   ]
  },
  {
   "cell_type": "code",
   "execution_count": 28,
   "metadata": {},
   "outputs": [],
   "source": [
    "s = Segment(width=480, step=40, order=\"F\")"
   ]
  },
  {
   "cell_type": "code",
   "execution_count": 29,
   "metadata": {},
   "outputs": [
    {
     "name": "stdout",
     "output_type": "stream",
     "text": [
      "CPU times: user 216 ms, sys: 9.13 ms, total: 225 ms\n",
      "Wall time: 223 ms\n"
     ]
    },
    {
     "data": {
      "text/plain": [
       "(array([[382.21, 382.21, 382.21, ...,  31.35,  31.35,  31.35],\n",
       "        [ 31.13,  31.13,  31.13, ...,  31.37,  31.37,  31.37],\n",
       "        [ 31.15,  31.15,  31.15, ...,  31.37,  31.37,  31.37],\n",
       "        ...,\n",
       "        [ 31.39,  31.39,  31.39, ...,  31.35,  31.35,  31.35],\n",
       "        [ 31.41,  31.41,  31.41, ...,  31.37,  31.37,  31.37],\n",
       "        [ 31.39,  31.39,  31.39, ...,  31.35,  31.35,  31.35]]),\n",
       " None,\n",
       " None)"
      ]
     },
     "execution_count": 29,
     "metadata": {},
     "output_type": "execute_result"
    }
   ],
   "source": [
    "%%time\n",
    "s.fit_transform(np.column_stack(df_gsr['EDA']), y=None)\n",
    "s.transform(np.column_stack(df_tmp['TMP']), y=None)"
   ]
  },
  {
   "cell_type": "markdown",
   "metadata": {},
   "source": [
    "Speed seems to be in the same magnitude, but the time index is gone."
   ]
  },
  {
   "cell_type": "code",
   "execution_count": 30,
   "metadata": {},
   "outputs": [
    {
     "name": "stderr",
     "output_type": "stream",
     "text": [
      "/users/jonvdrdo/jonas/projects/context_aware_health_monitoring/.caw_venv37/lib/python3.7/site-packages/sklearn/utils/validation.py:71: FutureWarning: Pass memory=None as keyword args. From version 0.25 passing these as positional arguments will result in an error\n",
      "  FutureWarning)\n"
     ]
    }
   ],
   "source": [
    "f_extr_pype = Pype([\n",
    "    (\"segment\", Segment(width=480, step=40, order=\"F\")),\n",
    "    (\"features\", FeatureRep(features=\"default\")),\n",
    "])"
   ]
  },
  {
   "cell_type": "code",
   "execution_count": 33,
   "metadata": {},
   "outputs": [
    {
     "ename": "TypeError",
     "evalue": "object of type 'NoneType' has no len()",
     "output_type": "error",
     "traceback": [
      "\u001b[0;31m---------------------------------------------------------------------------\u001b[0m",
      "\u001b[0;31mTypeError\u001b[0m                                 Traceback (most recent call last)",
      "\u001b[0;32m<ipython-input-33-a56c3ec6c76c>\u001b[0m in \u001b[0;36m<module>\u001b[0;34m\u001b[0m\n\u001b[0;32m----> 1\u001b[0;31m \u001b[0mf_extr_pype\u001b[0m\u001b[0;34m.\u001b[0m\u001b[0mfit_transform\u001b[0m\u001b[0;34m(\u001b[0m\u001b[0mnp\u001b[0m\u001b[0;34m.\u001b[0m\u001b[0mcolumn_stack\u001b[0m\u001b[0;34m(\u001b[0m\u001b[0mdf_gsr\u001b[0m\u001b[0;34m[\u001b[0m\u001b[0;34m'EDA'\u001b[0m\u001b[0;34m]\u001b[0m\u001b[0;34m)\u001b[0m\u001b[0;34m,\u001b[0m \u001b[0my\u001b[0m\u001b[0;34m=\u001b[0m\u001b[0;32mNone\u001b[0m\u001b[0;34m)\u001b[0m\u001b[0;34m\u001b[0m\u001b[0;34m\u001b[0m\u001b[0m\n\u001b[0m",
      "\u001b[0;32m~/jonas/projects/context_aware_health_monitoring/.caw_venv37/lib/python3.7/site-packages/seglearn/pipe.py\u001b[0m in \u001b[0;36mfit_transform\u001b[0;34m(self, X, y, **fit_params)\u001b[0m\n\u001b[1;32m    212\u001b[0m                 \u001b[0mXt\u001b[0m \u001b[0;34m=\u001b[0m \u001b[0mself\u001b[0m\u001b[0;34m.\u001b[0m\u001b[0m_final_estimator\u001b[0m\u001b[0;34m.\u001b[0m\u001b[0mtransform\u001b[0m\u001b[0;34m(\u001b[0m\u001b[0mXt\u001b[0m\u001b[0;34m)\u001b[0m\u001b[0;34m\u001b[0m\u001b[0;34m\u001b[0m\u001b[0m\n\u001b[1;32m    213\u001b[0m \u001b[0;34m\u001b[0m\u001b[0m\n\u001b[0;32m--> 214\u001b[0;31m         \u001b[0mself\u001b[0m\u001b[0;34m.\u001b[0m\u001b[0mN_fit\u001b[0m \u001b[0;34m=\u001b[0m \u001b[0mlen\u001b[0m\u001b[0;34m(\u001b[0m\u001b[0myt\u001b[0m\u001b[0;34m)\u001b[0m\u001b[0;34m\u001b[0m\u001b[0;34m\u001b[0m\u001b[0m\n\u001b[0m\u001b[1;32m    215\u001b[0m \u001b[0;34m\u001b[0m\u001b[0m\n\u001b[1;32m    216\u001b[0m         \u001b[0;32mreturn\u001b[0m \u001b[0mXt\u001b[0m\u001b[0;34m,\u001b[0m \u001b[0myt\u001b[0m\u001b[0;34m\u001b[0m\u001b[0;34m\u001b[0m\u001b[0m\n",
      "\u001b[0;31mTypeError\u001b[0m: object of type 'NoneType' has no len()"
     ]
    }
   ],
   "source": [
    "f_extr_pype.fit_transform(np.column_stack(df_gsr['EDA']), y=None)"
   ]
  },
  {
   "cell_type": "markdown",
   "metadata": {},
   "source": [
    "`TODO`: https://dmbee.github.io/seglearn/auto_examples/plot_feature_rep_mix_example.html#sphx-glr-auto-examples-plot-feature-rep-mix-example-py\n",
    "still need to further look into this"
   ]
  },
  {
   "cell_type": "markdown",
   "metadata": {
    "tags": []
   },
   "source": [
    "# Serialization"
   ]
  },
  {
   "cell_type": "markdown",
   "metadata": {},
   "source": [
    "## Series Pipeline"
   ]
  },
  {
   "cell_type": "markdown",
   "metadata": {},
   "source": [
    "`TODO`"
   ]
  },
  {
   "cell_type": "markdown",
   "metadata": {},
   "source": [
    "## Feature extraction"
   ]
  },
  {
   "cell_type": "code",
   "execution_count": null,
   "metadata": {},
   "outputs": [],
   "source": [
    "# restart the kernel\n",
    "import os\n",
    "\n",
    "os._exit(0)"
   ]
  },
  {
   "cell_type": "code",
   "execution_count": null,
   "metadata": {
    "tags": []
   },
   "outputs": [],
   "source": [
    "import pickle\n",
    "import sys\n",
    "\n",
    "import pandas as pd\n",
    "\n",
    "time_series_dir = \"../time_series/\"\n",
    "data_dir = \"data/\"\n",
    "\n",
    "sys.path.append(time_series_dir)"
   ]
  },
  {
   "cell_type": "code",
   "execution_count": 2,
   "metadata": {},
   "outputs": [],
   "source": [
    "with open(f\"data/example_serialization.pkl\", \"rb\") as f:\n",
    "    multimodal_feature_extraction = pickle.load(f)\n",
    "\n",
    "df_gsr = pd.read_feather(f\"{data_dir}gsr.feather\").set_index(\"timestamp\")\n",
    "df_tmp = pd.read_feather(f\"{data_dir}tmp.feather\").set_index(\"timestamp\")"
   ]
  },
  {
   "cell_type": "markdown",
   "metadata": {},
   "source": [
    "**note**: This is truly amazing, we do not need redefine which local funcs were used;  \n",
    "We only need a python kernel which knows the paths to the modules that are used in the serialization."
   ]
  },
  {
   "cell_type": "code",
   "execution_count": 3,
   "metadata": {},
   "outputs": [
    {
     "data": {
      "text/html": [
       "<div>\n",
       "<style scoped>\n",
       "    .dataframe tbody tr th:only-of-type {\n",
       "        vertical-align: middle;\n",
       "    }\n",
       "\n",
       "    .dataframe tbody tr th {\n",
       "        vertical-align: top;\n",
       "    }\n",
       "\n",
       "    .dataframe thead th {\n",
       "        text-align: right;\n",
       "    }\n",
       "</style>\n",
       "<table border=\"1\" class=\"dataframe\">\n",
       "  <thead>\n",
       "    <tr style=\"text-align: right;\">\n",
       "      <th></th>\n",
       "      <th>EDA_mean__w=240_s=80</th>\n",
       "      <th>EDA_std__w=240_s=80</th>\n",
       "      <th>EDA_var__w=240_s=80</th>\n",
       "      <th>EDA_amax__w=480_s=80</th>\n",
       "      <th>EDA_amin__w=240_s=120</th>\n",
       "      <th>EDA_skew__w=240_s=120</th>\n",
       "      <th>EDA_kurtosis__w=480_s=80</th>\n",
       "      <th>EDA_quantile_0.25__w=480_s=120</th>\n",
       "      <th>EDA_quantile_0.5__w=480_s=120</th>\n",
       "      <th>EDA_quantile_0.75__w=480_s=120</th>\n",
       "      <th>...</th>\n",
       "      <th>TMP_amax__w=240_s=120</th>\n",
       "      <th>TMP_amin__w=240_s=120</th>\n",
       "      <th>TMP_skew__w=240_s=120</th>\n",
       "      <th>TMP_kurtosis__w=240_s=120</th>\n",
       "      <th>TMP_quantile_0.25__w=240_s=120</th>\n",
       "      <th>TMP_quantile_0.5__w=240_s=120</th>\n",
       "      <th>TMP_quantile_0.75__w=240_s=120</th>\n",
       "      <th>TMP_slope__w=240_s=120</th>\n",
       "      <th>TMP_rms__w=240_s=120</th>\n",
       "      <th>TMP_area__w=240_s=120</th>\n",
       "    </tr>\n",
       "    <tr>\n",
       "      <th>timestamp</th>\n",
       "      <th></th>\n",
       "      <th></th>\n",
       "      <th></th>\n",
       "      <th></th>\n",
       "      <th></th>\n",
       "      <th></th>\n",
       "      <th></th>\n",
       "      <th></th>\n",
       "      <th></th>\n",
       "      <th></th>\n",
       "      <th></th>\n",
       "      <th></th>\n",
       "      <th></th>\n",
       "      <th></th>\n",
       "      <th></th>\n",
       "      <th></th>\n",
       "      <th></th>\n",
       "      <th></th>\n",
       "      <th></th>\n",
       "      <th></th>\n",
       "      <th></th>\n",
       "    </tr>\n",
       "  </thead>\n",
       "  <tbody>\n",
       "    <tr>\n",
       "      <th>2017-06-13 11:34:09.750000+02:00</th>\n",
       "      <td>NaN</td>\n",
       "      <td>NaN</td>\n",
       "      <td>NaN</td>\n",
       "      <td>NaN</td>\n",
       "      <td>0.16528</td>\n",
       "      <td>-1.550274</td>\n",
       "      <td>NaN</td>\n",
       "      <td>0.171676</td>\n",
       "      <td>0.172955</td>\n",
       "      <td>0.174234</td>\n",
       "      <td>...</td>\n",
       "      <td>32.77</td>\n",
       "      <td>32.73</td>\n",
       "      <td>-0.000387</td>\n",
       "      <td>-0.000067</td>\n",
       "      <td>32.75</td>\n",
       "      <td>32.75</td>\n",
       "      <td>32.75</td>\n",
       "      <td>-0.000052</td>\n",
       "      <td>32.749335</td>\n",
       "      <td>7859.84</td>\n",
       "    </tr>\n",
       "    <tr>\n",
       "      <th>2017-06-13 11:15:29.750000+02:00</th>\n",
       "      <td>NaN</td>\n",
       "      <td>NaN</td>\n",
       "      <td>NaN</td>\n",
       "      <td>NaN</td>\n",
       "      <td>NaN</td>\n",
       "      <td>NaN</td>\n",
       "      <td>NaN</td>\n",
       "      <td>NaN</td>\n",
       "      <td>NaN</td>\n",
       "      <td>NaN</td>\n",
       "      <td>...</td>\n",
       "      <td>NaN</td>\n",
       "      <td>NaN</td>\n",
       "      <td>NaN</td>\n",
       "      <td>NaN</td>\n",
       "      <td>NaN</td>\n",
       "      <td>NaN</td>\n",
       "      <td>NaN</td>\n",
       "      <td>NaN</td>\n",
       "      <td>NaN</td>\n",
       "      <td>NaN</td>\n",
       "    </tr>\n",
       "  </tbody>\n",
       "</table>\n",
       "<p>2 rows × 26 columns</p>\n",
       "</div>"
      ],
      "text/plain": [
       "                                  EDA_mean__w=240_s=80  EDA_std__w=240_s=80  \\\n",
       "timestamp                                                                     \n",
       "2017-06-13 11:34:09.750000+02:00                   NaN                  NaN   \n",
       "2017-06-13 11:15:29.750000+02:00                   NaN                  NaN   \n",
       "\n",
       "                                  EDA_var__w=240_s=80  EDA_amax__w=480_s=80  \\\n",
       "timestamp                                                                     \n",
       "2017-06-13 11:34:09.750000+02:00                  NaN                   NaN   \n",
       "2017-06-13 11:15:29.750000+02:00                  NaN                   NaN   \n",
       "\n",
       "                                  EDA_amin__w=240_s=120  \\\n",
       "timestamp                                                 \n",
       "2017-06-13 11:34:09.750000+02:00                0.16528   \n",
       "2017-06-13 11:15:29.750000+02:00                    NaN   \n",
       "\n",
       "                                  EDA_skew__w=240_s=120  \\\n",
       "timestamp                                                 \n",
       "2017-06-13 11:34:09.750000+02:00              -1.550274   \n",
       "2017-06-13 11:15:29.750000+02:00                    NaN   \n",
       "\n",
       "                                  EDA_kurtosis__w=480_s=80  \\\n",
       "timestamp                                                    \n",
       "2017-06-13 11:34:09.750000+02:00                       NaN   \n",
       "2017-06-13 11:15:29.750000+02:00                       NaN   \n",
       "\n",
       "                                  EDA_quantile_0.25__w=480_s=120  \\\n",
       "timestamp                                                          \n",
       "2017-06-13 11:34:09.750000+02:00                        0.171676   \n",
       "2017-06-13 11:15:29.750000+02:00                             NaN   \n",
       "\n",
       "                                  EDA_quantile_0.5__w=480_s=120  \\\n",
       "timestamp                                                         \n",
       "2017-06-13 11:34:09.750000+02:00                       0.172955   \n",
       "2017-06-13 11:15:29.750000+02:00                            NaN   \n",
       "\n",
       "                                  EDA_quantile_0.75__w=480_s=120  ...  \\\n",
       "timestamp                                                         ...   \n",
       "2017-06-13 11:34:09.750000+02:00                        0.174234  ...   \n",
       "2017-06-13 11:15:29.750000+02:00                             NaN  ...   \n",
       "\n",
       "                                  TMP_amax__w=240_s=120  \\\n",
       "timestamp                                                 \n",
       "2017-06-13 11:34:09.750000+02:00                  32.77   \n",
       "2017-06-13 11:15:29.750000+02:00                    NaN   \n",
       "\n",
       "                                  TMP_amin__w=240_s=120  \\\n",
       "timestamp                                                 \n",
       "2017-06-13 11:34:09.750000+02:00                  32.73   \n",
       "2017-06-13 11:15:29.750000+02:00                    NaN   \n",
       "\n",
       "                                  TMP_skew__w=240_s=120  \\\n",
       "timestamp                                                 \n",
       "2017-06-13 11:34:09.750000+02:00              -0.000387   \n",
       "2017-06-13 11:15:29.750000+02:00                    NaN   \n",
       "\n",
       "                                  TMP_kurtosis__w=240_s=120  \\\n",
       "timestamp                                                     \n",
       "2017-06-13 11:34:09.750000+02:00                  -0.000067   \n",
       "2017-06-13 11:15:29.750000+02:00                        NaN   \n",
       "\n",
       "                                  TMP_quantile_0.25__w=240_s=120  \\\n",
       "timestamp                                                          \n",
       "2017-06-13 11:34:09.750000+02:00                           32.75   \n",
       "2017-06-13 11:15:29.750000+02:00                             NaN   \n",
       "\n",
       "                                  TMP_quantile_0.5__w=240_s=120  \\\n",
       "timestamp                                                         \n",
       "2017-06-13 11:34:09.750000+02:00                          32.75   \n",
       "2017-06-13 11:15:29.750000+02:00                            NaN   \n",
       "\n",
       "                                  TMP_quantile_0.75__w=240_s=120  \\\n",
       "timestamp                                                          \n",
       "2017-06-13 11:34:09.750000+02:00                           32.75   \n",
       "2017-06-13 11:15:29.750000+02:00                             NaN   \n",
       "\n",
       "                                  TMP_slope__w=240_s=120  \\\n",
       "timestamp                                                  \n",
       "2017-06-13 11:34:09.750000+02:00               -0.000052   \n",
       "2017-06-13 11:15:29.750000+02:00                     NaN   \n",
       "\n",
       "                                  TMP_rms__w=240_s=120  TMP_area__w=240_s=120  \n",
       "timestamp                                                                      \n",
       "2017-06-13 11:34:09.750000+02:00             32.749335                7859.84  \n",
       "2017-06-13 11:15:29.750000+02:00                   NaN                    NaN  \n",
       "\n",
       "[2 rows x 26 columns]"
      ]
     },
     "execution_count": 3,
     "metadata": {},
     "output_type": "execute_result"
    }
   ],
   "source": [
    "df_feat = multimodal_feature_extraction.calculate([df_gsr, df_tmp], merge_dfs=True)\n",
    "df_feat.sample(2)"
   ]
  },
  {
   "cell_type": "markdown",
   "metadata": {
    "tags": []
   },
   "source": [
    "# Bonus - Get LAYD: Look At Your Data"
   ]
  },
  {
   "cell_type": "markdown",
   "metadata": {},
   "source": [
    "And as a bonus, for running/reading this notebook, you get some nice visualization code, for\n",
    "ofcourse time-series."
   ]
  },
  {
   "cell_type": "code",
   "execution_count": 6,
   "metadata": {},
   "outputs": [],
   "source": [
    "import ipywidgets as widgets\n",
    "import plotly.graph_objects as go\n",
    "from ipywidgets import interact_manual\n",
    "from plotly.subplots import make_subplots"
   ]
  },
  {
   "cell_type": "code",
   "execution_count": 7,
   "metadata": {},
   "outputs": [],
   "source": [
    "df_dict = {\"tmp\": df_tmp, \"gsr\": df_gsr}"
   ]
  },
  {
   "cell_type": "code",
   "execution_count": 8,
   "metadata": {},
   "outputs": [],
   "source": [
    "feat_widget = widgets.SelectMultiple(options=df_feat.columns)\n",
    "sig_widget = widgets.SelectMultiple(options=[\"gsr\", \"tmp\"])"
   ]
  },
  {
   "cell_type": "code",
   "execution_count": null,
   "metadata": {},
   "outputs": [],
   "source": [
    "@interact_manual\n",
    "def visuzalize(features=feat_widget, signals=sig_widget):\n",
    "    row_titles = list(signals) + [\"features\"] if len(features) else []\n",
    "    fig = make_subplots(\n",
    "        rows=len(row_titles),\n",
    "        cols=1,\n",
    "        shared_xaxes=True,\n",
    "        vertical_spacing=0.1 / len(row_titles),\n",
    "        row_titles=row_titles,\n",
    "    )\n",
    "    fig.update_layout(height=300 * len(row_titles))\n",
    "\n",
    "    # first, visualize the \"raw\" signals\n",
    "    row_idx = 1\n",
    "    for sig in signals:\n",
    "        df_sig = df_dict[sig][10:].resample(\"1s\").mean()\n",
    "        for col in set(df_sig.columns).difference([\"index\", \"timestamp\"]):\n",
    "            fig.add_trace(\n",
    "                go.Scattergl(x=df_sig.index, y=df_sig[col], name=col, hoverinfo=\"skip\"),\n",
    "                row=row_idx,\n",
    "                col=1,\n",
    "            )\n",
    "        row_idx += 1\n",
    "\n",
    "    # then visualize the features\n",
    "    for feature in features:\n",
    "        df_ff = df_feat[feature].dropna()\n",
    "        fig.add_trace(\n",
    "            go.Scattergl(\n",
    "                connectgaps=True,\n",
    "                x=df_ff.index,\n",
    "                y=df_ff,\n",
    "                name=feature,\n",
    "                hoverinfo=\"skip\",\n",
    "                mode=\"markers\",\n",
    "                showlegend=True,\n",
    "            ),\n",
    "            row=row_idx,\n",
    "            col=1,\n",
    "        )\n",
    "\n",
    "    return fig"
   ]
  }
 ],
 "metadata": {
  "kernelspec": {
   "display_name": "Python 3",
   "language": "python",
   "name": "python3"
  },
  "language_info": {
   "codemirror_mode": {
    "name": "ipython",
    "version": 3
   },
   "file_extension": ".py",
   "mimetype": "text/x-python",
   "name": "python",
   "nbconvert_exporter": "python",
   "pygments_lexer": "ipython3",
   "version": "3.7.5"
  },
  "toc-autonumbering": true
 },
 "nbformat": 4,
 "nbformat_minor": 4
}
