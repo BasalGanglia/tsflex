{
 "cells": [
  {
   "cell_type": "markdown",
   "metadata": {},
   "source": [
    "# Time series\n"
   ]
  },
  {
   "cell_type": "code",
   "execution_count": 1,
   "metadata": {},
   "outputs": [],
   "source": [
    "%load_ext autoreload\n",
    "%autoreload 2"
   ]
  },
  {
   "cell_type": "code",
   "execution_count": 2,
   "metadata": {},
   "outputs": [],
   "source": [
    "from datetime import timedelta\n",
    "\n",
    "import numpy as np\n",
    "import pandas as pd"
   ]
  },
  {
   "cell_type": "markdown",
   "metadata": {},
   "source": [
    "## Use case - multiple time series signals"
   ]
  },
  {
   "cell_type": "markdown",
   "metadata": {},
   "source": [
    "### Input: **datetime indexed time(zone-aware) series dataframes**"
   ]
  },
  {
   "cell_type": "markdown",
   "metadata": {},
   "source": [
    "[documentation datetime index](https://pandas.pydata.org/pandas-docs/stable/reference/api/pandas.DatetimeIndex.html)"
   ]
  },
  {
   "cell_type": "code",
   "execution_count": 3,
   "metadata": {},
   "outputs": [],
   "source": [
    "# load the data (and add a random offset to it), as multimodal data might be\n",
    "# with some small offsets\n",
    "df_gsr = pd.read_feather(\"data/gsr.feather\")\n",
    "df_gsr[\"timestamp\"] += timedelta(milliseconds=np.random.randint(-125, 125))\n",
    "df_gsr.set_index(\"timestamp\", inplace=True)\n",
    "\n",
    "df_tmp = pd.read_feather(\"data/tmp.feather\")\n",
    "df_tmp[\"timestamp\"] += timedelta(milliseconds=np.random.randint(-125, 125))\n",
    "df_tmp.set_index(\"timestamp\", inplace=True)"
   ]
  },
  {
   "cell_type": "code",
   "execution_count": 4,
   "metadata": {},
   "outputs": [
    {
     "data": {
      "text/plain": [
       "pandas.core.indexes.datetimes.DatetimeIndex"
      ]
     },
     "execution_count": 4,
     "metadata": {},
     "output_type": "execute_result"
    }
   ],
   "source": [
    "type(df_gsr.index)"
   ]
  },
  {
   "cell_type": "code",
   "execution_count": 5,
   "metadata": {},
   "outputs": [
    {
     "name": "stdout",
     "output_type": "stream",
     "text": [
      "(31998, 1)\n"
     ]
    },
    {
     "data": {
      "text/html": [
       "<div>\n",
       "<style scoped>\n",
       "    .dataframe tbody tr th:only-of-type {\n",
       "        vertical-align: middle;\n",
       "    }\n",
       "\n",
       "    .dataframe tbody tr th {\n",
       "        vertical-align: top;\n",
       "    }\n",
       "\n",
       "    .dataframe thead th {\n",
       "        text-align: right;\n",
       "    }\n",
       "</style>\n",
       "<table border=\"1\" class=\"dataframe\">\n",
       "  <thead>\n",
       "    <tr style=\"text-align: right;\">\n",
       "      <th></th>\n",
       "      <th>EDA</th>\n",
       "    </tr>\n",
       "    <tr>\n",
       "      <th>timestamp</th>\n",
       "      <th></th>\n",
       "    </tr>\n",
       "  </thead>\n",
       "  <tbody>\n",
       "    <tr>\n",
       "      <th>2017-06-13 10:33:39.965000+02:00</th>\n",
       "      <td>0.000000</td>\n",
       "    </tr>\n",
       "    <tr>\n",
       "      <th>2017-06-13 10:33:40.215000+02:00</th>\n",
       "      <td>0.107451</td>\n",
       "    </tr>\n",
       "  </tbody>\n",
       "</table>\n",
       "</div>"
      ],
      "text/plain": [
       "                                       EDA\n",
       "timestamp                                 \n",
       "2017-06-13 10:33:39.965000+02:00  0.000000\n",
       "2017-06-13 10:33:40.215000+02:00  0.107451"
      ]
     },
     "execution_count": 5,
     "metadata": {},
     "output_type": "execute_result"
    }
   ],
   "source": [
    "print(df_gsr.shape)\n",
    "df_gsr.head(2)"
   ]
  },
  {
   "cell_type": "code",
   "execution_count": 6,
   "metadata": {},
   "outputs": [
    {
     "name": "stdout",
     "output_type": "stream",
     "text": [
      "(31992, 1)\n"
     ]
    },
    {
     "data": {
      "text/html": [
       "<div>\n",
       "<style scoped>\n",
       "    .dataframe tbody tr th:only-of-type {\n",
       "        vertical-align: middle;\n",
       "    }\n",
       "\n",
       "    .dataframe tbody tr th {\n",
       "        vertical-align: top;\n",
       "    }\n",
       "\n",
       "    .dataframe thead th {\n",
       "        text-align: right;\n",
       "    }\n",
       "</style>\n",
       "<table border=\"1\" class=\"dataframe\">\n",
       "  <thead>\n",
       "    <tr style=\"text-align: right;\">\n",
       "      <th></th>\n",
       "      <th>TMP</th>\n",
       "    </tr>\n",
       "    <tr>\n",
       "      <th>timestamp</th>\n",
       "      <th></th>\n",
       "    </tr>\n",
       "  </thead>\n",
       "  <tbody>\n",
       "    <tr>\n",
       "      <th>2017-06-13 10:33:40.041000+02:00</th>\n",
       "      <td>382.21</td>\n",
       "    </tr>\n",
       "    <tr>\n",
       "      <th>2017-06-13 10:33:40.291000+02:00</th>\n",
       "      <td>382.21</td>\n",
       "    </tr>\n",
       "  </tbody>\n",
       "</table>\n",
       "</div>"
      ],
      "text/plain": [
       "                                     TMP\n",
       "timestamp                               \n",
       "2017-06-13 10:33:40.041000+02:00  382.21\n",
       "2017-06-13 10:33:40.291000+02:00  382.21"
      ]
     },
     "execution_count": 6,
     "metadata": {},
     "output_type": "execute_result"
    }
   ],
   "source": [
    "print(df_tmp.shape)\n",
    "df_tmp.head(2)"
   ]
  },
  {
   "cell_type": "markdown",
   "metadata": {},
   "source": [
    "---"
   ]
  },
  {
   "cell_type": "markdown",
   "metadata": {},
   "source": [
    "### Intermezzo Joining multiple time series: `pd.merge_asof`"
   ]
  },
  {
   "cell_type": "markdown",
   "metadata": {},
   "source": [
    "[documentation](https://pandas.pydata.org/pandas-docs/stable/reference/api/pandas.merge_asof.html)"
   ]
  },
  {
   "cell_type": "code",
   "execution_count": 7,
   "metadata": {},
   "outputs": [
    {
     "data": {
      "text/html": [
       "<div>\n",
       "<style scoped>\n",
       "    .dataframe tbody tr th:only-of-type {\n",
       "        vertical-align: middle;\n",
       "    }\n",
       "\n",
       "    .dataframe tbody tr th {\n",
       "        vertical-align: top;\n",
       "    }\n",
       "\n",
       "    .dataframe thead th {\n",
       "        text-align: right;\n",
       "    }\n",
       "</style>\n",
       "<table border=\"1\" class=\"dataframe\">\n",
       "  <thead>\n",
       "    <tr style=\"text-align: right;\">\n",
       "      <th></th>\n",
       "      <th>TMP</th>\n",
       "      <th>EDA</th>\n",
       "    </tr>\n",
       "    <tr>\n",
       "      <th>timestamp</th>\n",
       "      <th></th>\n",
       "      <th></th>\n",
       "    </tr>\n",
       "  </thead>\n",
       "  <tbody>\n",
       "    <tr>\n",
       "      <th>2017-06-13 10:33:41.041000+02:00</th>\n",
       "      <td>31.15</td>\n",
       "      <td>0.153501</td>\n",
       "    </tr>\n",
       "    <tr>\n",
       "      <th>2017-06-13 10:33:41.291000+02:00</th>\n",
       "      <td>31.15</td>\n",
       "      <td>0.148384</td>\n",
       "    </tr>\n",
       "  </tbody>\n",
       "</table>\n",
       "</div>"
      ],
      "text/plain": [
       "                                    TMP       EDA\n",
       "timestamp                                        \n",
       "2017-06-13 10:33:41.041000+02:00  31.15  0.153501\n",
       "2017-06-13 10:33:41.291000+02:00  31.15  0.148384"
      ]
     },
     "execution_count": 7,
     "metadata": {},
     "output_type": "execute_result"
    }
   ],
   "source": [
    "# the name of the index columns is \"timestamp\"\n",
    "df_tot = pd.merge_asof(\n",
    "    df_tmp[4:], df_gsr, on=\"timestamp\", direction=\"nearest\"\n",
    ").set_index(\"timestamp\")\n",
    "df_tot.head(2)"
   ]
  },
  {
   "cell_type": "code",
   "execution_count": 8,
   "metadata": {},
   "outputs": [],
   "source": [
    "# preserve causality -> direction = backward\n",
    "#  A “backward” search selects the last row in the right DataFrame whose ‘on’\n",
    "#  key is less than or equal to the left’s key.\n",
    "df_tot = pd.merge_asof(\n",
    "    df_tmp[10:], df_gsr, on=\"timestamp\", direction=\"backward\"\n",
    ").set_index(\"timestamp\")"
   ]
  },
  {
   "cell_type": "markdown",
   "metadata": {},
   "source": [
    "certainly look at `tolerance` and `direction` argument of this function!"
   ]
  },
  {
   "cell_type": "markdown",
   "metadata": {},
   "source": [
    "---"
   ]
  },
  {
   "cell_type": "markdown",
   "metadata": {},
   "source": [
    "# Classical machine learning -> feature extraction"
   ]
  },
  {
   "cell_type": "markdown",
   "metadata": {},
   "source": [
    "Most common way to extract time series features: a **window-strided** manner\n",
    "\n",
    "challenges:\n",
    "* Always assumes fixed window size & stride\n",
    "* No efficient implementations for dataframes (pd.rolling assumes same input<->output dimensions --> no stride possible) \n",
    "* No support aggregation multiple time series \n",
    "\n",
    "--> Writing my own code "
   ]
  },
  {
   "cell_type": "code",
   "execution_count": 9,
   "metadata": {},
   "outputs": [],
   "source": [
    "import sys\n",
    "\n",
    "# time series feature extraction\n",
    "sys.path.append(\"time_series/\")\n",
    "# Serialization\n",
    "import dill as pickle\n",
    "import scipy.stats as ss\n",
    "\n",
    "from time_series import FeatureCollection, NumpyFuncWrapper\n",
    "from time_series.features import FeatureDescriptor\n",
    "\n",
    "# todo add example for MultipleFeatureDescriptors class\n",
    "# from time_series.features import MultipleFeatureDescriptors\n",
    "\n",
    "pickle.settings[\"recurse\"] = True  # allows to serialize lambda's YAY!"
   ]
  },
  {
   "cell_type": "markdown",
   "metadata": {},
   "source": [
    "## Defining functions"
   ]
  },
  {
   "cell_type": "code",
   "execution_count": 10,
   "metadata": {},
   "outputs": [],
   "source": [
    "# --------------------- some custom feature extraction functions ---------------------\n",
    "# 1. one-to-many functions (as quantiles sort the windowed data) you might\n",
    "#    want to calculate them in 1 step\n",
    "quantiles = [0.25, 0.5, 0.75]\n",
    "f_quantiles = NumpyFuncWrapper(\n",
    "    np.quantile, output_names=[f\"quantile_{q}\" for q in quantiles], q=quantiles\n",
    ")  # fyi: you can pass kwargs (in this case q=quantiles)\n",
    "\n",
    "\n",
    "# 2. in-line functions\n",
    "def slope(x):\n",
    "    return np.polyfit(np.arange(0, len(x)), x, 1)[0]\n",
    "\n",
    "\n",
    "def rms(x):\n",
    "    return np.sqrt(np.mean(x ** 2))\n",
    "\n",
    "\n",
    "f_slope = NumpyFuncWrapper(slope, output_names=\"slope\")\n",
    "f_rms = NumpyFuncWrapper(rms, output_names=\"rms\")\n",
    "f_area = NumpyFuncWrapper(np.sum, output_names=\"area\")\n",
    "\n",
    "segment_funcs = [\n",
    "    np.mean,\n",
    "    np.std,\n",
    "    np.var,\n",
    "    np.max,\n",
    "    np.min,\n",
    "    ss.skew,\n",
    "    ss.kurtosis,\n",
    "    f_quantiles,\n",
    "    f_slope,\n",
    "    f_rms,\n",
    "    f_area,\n",
    "]"
   ]
  },
  {
   "cell_type": "markdown",
   "metadata": {},
   "source": [
    "## Lambdas"
   ]
  },
  {
   "cell_type": "markdown",
   "metadata": {},
   "source": [
    "Lambda's aren't serializable by default, making them hard to use in other enivronments (such als multiprocessing pools).\n",
    "\n",
    "Hence, the `FeatureCollection` class will output a warning if lambda's are being used.\n",
    "\n",
    "**note**:\n",
    "* A possible workaround to still use lambdas and multiprocessing is using [dill](https://github.com/uqfoundation/dill) (for serialization) and [pathos](https://github.com/uqfoundation/pathos) (for multiprocessing)."
   ]
  },
  {
   "cell_type": "code",
   "execution_count": 11,
   "metadata": {},
   "outputs": [],
   "source": [
    "import traceback"
   ]
  },
  {
   "cell_type": "code",
   "execution_count": 12,
   "metadata": {},
   "outputs": [
    {
     "name": "stderr",
     "output_type": "stream",
     "text": [
      "Traceback (most recent call last):\n",
      "  File \"<ipython-input-12-97e349b48c52>\", line 3, in <module>\n",
      "    fc.add([FeatureDescriptor(lambda x: np.mean(x), key=\"gsr\", window=10, stride=5)])\n",
      "  File \"/home/jonas/git/gIDLab/predict/time_series/time_series/features/feature_collection.py\", line 114, in add\n",
      "    self._add_feature(feature)\n",
      "  File \"/home/jonas/git/gIDLab/predict/time_series/time_series/features/feature_collection.py\", line 69, in _add_feature\n",
      "    f\"\\nFunction: {feature.function.output_names} is a lambda, thus not \"\n",
      "TypeError: \n",
      "Function: ['<lambda>'] is a lambda, thus not pickle-able. \n",
      "\tThis will give problems with the mulitprocessing based`calculate` function.\n"
     ]
    }
   ],
   "source": [
    "try:\n",
    "    fc = FeatureCollection()\n",
    "    fc.add([FeatureDescriptor(lambda x: np.mean(x), key=\"gsr\", window=10, stride=5)])\n",
    "except:\n",
    "    traceback.print_exc()"
   ]
  },
  {
   "cell_type": "markdown",
   "metadata": {},
   "source": [
    "## Use case 1: single feature extraction for temperature signal"
   ]
  },
  {
   "cell_type": "markdown",
   "metadata": {},
   "source": [
    "### Fixed window size"
   ]
  },
  {
   "cell_type": "markdown",
   "metadata": {},
   "source": [
    "**TMP**"
   ]
  },
  {
   "cell_type": "code",
   "execution_count": 13,
   "metadata": {},
   "outputs": [
    {
     "data": {
      "text/plain": [
       "FeatureCollection(\n",
       "\tFeatureDescriptor(TMP, 240, 120) \n",
       "\tFeatureDescriptor(TMP, 240, 120) \n",
       "\tFeatureDescriptor(TMP, 240, 120) \n",
       "\tFeatureDescriptor(TMP, 240, 120) \n",
       "\tFeatureDescriptor(TMP, 240, 120) \n",
       "\tFeatureDescriptor(TMP, 240, 120) \n",
       "\tFeatureDescriptor(TMP, 240, 120) \n",
       "\tFeatureDescriptor(TMP, 240, 120) \n",
       "\tFeatureDescriptor(TMP, 240, 120) \n",
       "\tFeatureDescriptor(TMP, 240, 120) \n",
       "\tFeatureDescriptor(TMP, 240, 120) \n",
       ")"
      ]
     },
     "execution_count": 13,
     "metadata": {},
     "output_type": "execute_result"
    }
   ],
   "source": [
    "fs_tmp = 4\n",
    "tmp_win_size = 60 * fs_tmp\n",
    "tmp_stride_size = 30 * fs_tmp\n",
    "tmp_feat_extr = FeatureCollection(\n",
    "    [\n",
    "        FeatureDescriptor(\n",
    "            key=\"TMP\", window=tmp_win_size, stride=tmp_stride_size, function=f\n",
    "        )\n",
    "        for f in segment_funcs\n",
    "    ]\n",
    ")\n",
    "tmp_feat_extr"
   ]
  },
  {
   "cell_type": "code",
   "execution_count": 14,
   "metadata": {},
   "outputs": [
    {
     "name": "stdout",
     "output_type": "stream",
     "text": [
      "CPU times: user 46.9 ms, sys: 63.7 ms, total: 111 ms\n",
      "Wall time: 202 ms\n"
     ]
    },
    {
     "data": {
      "text/html": [
       "<div>\n",
       "<style scoped>\n",
       "    .dataframe tbody tr th:only-of-type {\n",
       "        vertical-align: middle;\n",
       "    }\n",
       "\n",
       "    .dataframe tbody tr th {\n",
       "        vertical-align: top;\n",
       "    }\n",
       "\n",
       "    .dataframe thead th {\n",
       "        text-align: right;\n",
       "    }\n",
       "</style>\n",
       "<table border=\"1\" class=\"dataframe\">\n",
       "  <thead>\n",
       "    <tr style=\"text-align: right;\">\n",
       "      <th></th>\n",
       "      <th>TMP_mean__w=240_s=120</th>\n",
       "      <th>TMP_std__w=240_s=120</th>\n",
       "      <th>TMP_var__w=240_s=120</th>\n",
       "      <th>TMP_amax__w=240_s=120</th>\n",
       "      <th>TMP_amin__w=240_s=120</th>\n",
       "      <th>TMP_skew__w=240_s=120</th>\n",
       "      <th>TMP_kurtosis__w=240_s=120</th>\n",
       "      <th>TMP_quantile_0.25__w=240_s=120</th>\n",
       "      <th>TMP_quantile_0.5__w=240_s=120</th>\n",
       "      <th>TMP_quantile_0.75__w=240_s=120</th>\n",
       "      <th>TMP_slope__w=240_s=120</th>\n",
       "      <th>TMP_rms__w=240_s=120</th>\n",
       "      <th>TMP_area__w=240_s=120</th>\n",
       "    </tr>\n",
       "    <tr>\n",
       "      <th>timestamp</th>\n",
       "      <th></th>\n",
       "      <th></th>\n",
       "      <th></th>\n",
       "      <th></th>\n",
       "      <th></th>\n",
       "      <th></th>\n",
       "      <th></th>\n",
       "      <th></th>\n",
       "      <th></th>\n",
       "      <th></th>\n",
       "      <th></th>\n",
       "      <th></th>\n",
       "      <th></th>\n",
       "    </tr>\n",
       "  </thead>\n",
       "  <tbody>\n",
       "    <tr>\n",
       "      <th>2017-06-13 11:12:39.791000+02:00</th>\n",
       "      <td>32.997833</td>\n",
       "      <td>0.012529</td>\n",
       "      <td>0.000157</td>\n",
       "      <td>33.03</td>\n",
       "      <td>32.97</td>\n",
       "      <td>0.617194</td>\n",
       "      <td>2.285778</td>\n",
       "      <td>32.99</td>\n",
       "      <td>33.0</td>\n",
       "      <td>33.00</td>\n",
       "      <td>0.000118</td>\n",
       "      <td>32.997836</td>\n",
       "      <td>7919.48</td>\n",
       "    </tr>\n",
       "    <tr>\n",
       "      <th>2017-06-13 11:24:09.791000+02:00</th>\n",
       "      <td>33.013833</td>\n",
       "      <td>0.017615</td>\n",
       "      <td>0.000310</td>\n",
       "      <td>33.05</td>\n",
       "      <td>32.99</td>\n",
       "      <td>0.486352</td>\n",
       "      <td>-1.191268</td>\n",
       "      <td>33.00</td>\n",
       "      <td>33.0</td>\n",
       "      <td>33.03</td>\n",
       "      <td>-0.000003</td>\n",
       "      <td>33.013838</td>\n",
       "      <td>7923.32</td>\n",
       "    </tr>\n",
       "  </tbody>\n",
       "</table>\n",
       "</div>"
      ],
      "text/plain": [
       "                                  TMP_mean__w=240_s=120  TMP_std__w=240_s=120  \\\n",
       "timestamp                                                                       \n",
       "2017-06-13 11:12:39.791000+02:00              32.997833              0.012529   \n",
       "2017-06-13 11:24:09.791000+02:00              33.013833              0.017615   \n",
       "\n",
       "                                  TMP_var__w=240_s=120  TMP_amax__w=240_s=120  \\\n",
       "timestamp                                                                       \n",
       "2017-06-13 11:12:39.791000+02:00              0.000157                  33.03   \n",
       "2017-06-13 11:24:09.791000+02:00              0.000310                  33.05   \n",
       "\n",
       "                                  TMP_amin__w=240_s=120  \\\n",
       "timestamp                                                 \n",
       "2017-06-13 11:12:39.791000+02:00                  32.97   \n",
       "2017-06-13 11:24:09.791000+02:00                  32.99   \n",
       "\n",
       "                                  TMP_skew__w=240_s=120  \\\n",
       "timestamp                                                 \n",
       "2017-06-13 11:12:39.791000+02:00               0.617194   \n",
       "2017-06-13 11:24:09.791000+02:00               0.486352   \n",
       "\n",
       "                                  TMP_kurtosis__w=240_s=120  \\\n",
       "timestamp                                                     \n",
       "2017-06-13 11:12:39.791000+02:00                   2.285778   \n",
       "2017-06-13 11:24:09.791000+02:00                  -1.191268   \n",
       "\n",
       "                                  TMP_quantile_0.25__w=240_s=120  \\\n",
       "timestamp                                                          \n",
       "2017-06-13 11:12:39.791000+02:00                           32.99   \n",
       "2017-06-13 11:24:09.791000+02:00                           33.00   \n",
       "\n",
       "                                  TMP_quantile_0.5__w=240_s=120  \\\n",
       "timestamp                                                         \n",
       "2017-06-13 11:12:39.791000+02:00                           33.0   \n",
       "2017-06-13 11:24:09.791000+02:00                           33.0   \n",
       "\n",
       "                                  TMP_quantile_0.75__w=240_s=120  \\\n",
       "timestamp                                                          \n",
       "2017-06-13 11:12:39.791000+02:00                           33.00   \n",
       "2017-06-13 11:24:09.791000+02:00                           33.03   \n",
       "\n",
       "                                  TMP_slope__w=240_s=120  \\\n",
       "timestamp                                                  \n",
       "2017-06-13 11:12:39.791000+02:00                0.000118   \n",
       "2017-06-13 11:24:09.791000+02:00               -0.000003   \n",
       "\n",
       "                                  TMP_rms__w=240_s=120  TMP_area__w=240_s=120  \n",
       "timestamp                                                                      \n",
       "2017-06-13 11:12:39.791000+02:00             32.997836                7919.48  \n",
       "2017-06-13 11:24:09.791000+02:00             33.013838                7923.32  "
      ]
     },
     "execution_count": 14,
     "metadata": {},
     "output_type": "execute_result"
    }
   ],
   "source": [
    "%%time\n",
    "tmp_feat_extr.calculate(df_tmp, merge_dfs=True).sample(2)"
   ]
  },
  {
   "cell_type": "code",
   "execution_count": 15,
   "metadata": {},
   "outputs": [
    {
     "name": "stdout",
     "output_type": "stream",
     "text": [
      "CPU times: user 14.8 ms, sys: 14.4 ms, total: 29.2 ms\n",
      "Wall time: 322 ms\n"
     ]
    },
    {
     "data": {
      "text/html": [
       "<div>\n",
       "<style scoped>\n",
       "    .dataframe tbody tr th:only-of-type {\n",
       "        vertical-align: middle;\n",
       "    }\n",
       "\n",
       "    .dataframe tbody tr th {\n",
       "        vertical-align: top;\n",
       "    }\n",
       "\n",
       "    .dataframe thead th {\n",
       "        text-align: right;\n",
       "    }\n",
       "</style>\n",
       "<table border=\"1\" class=\"dataframe\">\n",
       "  <thead>\n",
       "    <tr style=\"text-align: right;\">\n",
       "      <th></th>\n",
       "      <th>TMP_mean__w=240_s=120</th>\n",
       "      <th>TMP_std__w=240_s=120</th>\n",
       "      <th>TMP_var__w=240_s=120</th>\n",
       "      <th>TMP_amax__w=240_s=120</th>\n",
       "      <th>TMP_amin__w=240_s=120</th>\n",
       "      <th>TMP_skew__w=240_s=120</th>\n",
       "      <th>TMP_kurtosis__w=240_s=120</th>\n",
       "      <th>TMP_quantile_0.25__w=240_s=120</th>\n",
       "      <th>TMP_quantile_0.5__w=240_s=120</th>\n",
       "      <th>TMP_quantile_0.75__w=240_s=120</th>\n",
       "      <th>TMP_slope__w=240_s=120</th>\n",
       "      <th>TMP_rms__w=240_s=120</th>\n",
       "      <th>TMP_area__w=240_s=120</th>\n",
       "    </tr>\n",
       "    <tr>\n",
       "      <th>timestamp</th>\n",
       "      <th></th>\n",
       "      <th></th>\n",
       "      <th></th>\n",
       "      <th></th>\n",
       "      <th></th>\n",
       "      <th></th>\n",
       "      <th></th>\n",
       "      <th></th>\n",
       "      <th></th>\n",
       "      <th></th>\n",
       "      <th></th>\n",
       "      <th></th>\n",
       "      <th></th>\n",
       "    </tr>\n",
       "  </thead>\n",
       "  <tbody>\n",
       "    <tr>\n",
       "      <th>2017-06-13 11:15:39.791000+02:00</th>\n",
       "      <td>33.067667</td>\n",
       "      <td>0.014185</td>\n",
       "      <td>0.000201</td>\n",
       "      <td>33.09</td>\n",
       "      <td>33.03</td>\n",
       "      <td>-0.109331</td>\n",
       "      <td>-0.403061</td>\n",
       "      <td>33.05</td>\n",
       "      <td>33.07</td>\n",
       "      <td>33.07</td>\n",
       "      <td>-0.000008</td>\n",
       "      <td>33.067670</td>\n",
       "      <td>7936.24</td>\n",
       "    </tr>\n",
       "    <tr>\n",
       "      <th>2017-06-13 10:58:39.791000+02:00</th>\n",
       "      <td>32.525500</td>\n",
       "      <td>0.017741</td>\n",
       "      <td>0.000315</td>\n",
       "      <td>32.55</td>\n",
       "      <td>32.50</td>\n",
       "      <td>-0.306185</td>\n",
       "      <td>-1.061199</td>\n",
       "      <td>32.50</td>\n",
       "      <td>32.53</td>\n",
       "      <td>32.53</td>\n",
       "      <td>0.000111</td>\n",
       "      <td>32.525505</td>\n",
       "      <td>7806.12</td>\n",
       "    </tr>\n",
       "  </tbody>\n",
       "</table>\n",
       "</div>"
      ],
      "text/plain": [
       "                                  TMP_mean__w=240_s=120  TMP_std__w=240_s=120  \\\n",
       "timestamp                                                                       \n",
       "2017-06-13 11:15:39.791000+02:00              33.067667              0.014185   \n",
       "2017-06-13 10:58:39.791000+02:00              32.525500              0.017741   \n",
       "\n",
       "                                  TMP_var__w=240_s=120  TMP_amax__w=240_s=120  \\\n",
       "timestamp                                                                       \n",
       "2017-06-13 11:15:39.791000+02:00              0.000201                  33.09   \n",
       "2017-06-13 10:58:39.791000+02:00              0.000315                  32.55   \n",
       "\n",
       "                                  TMP_amin__w=240_s=120  \\\n",
       "timestamp                                                 \n",
       "2017-06-13 11:15:39.791000+02:00                  33.03   \n",
       "2017-06-13 10:58:39.791000+02:00                  32.50   \n",
       "\n",
       "                                  TMP_skew__w=240_s=120  \\\n",
       "timestamp                                                 \n",
       "2017-06-13 11:15:39.791000+02:00              -0.109331   \n",
       "2017-06-13 10:58:39.791000+02:00              -0.306185   \n",
       "\n",
       "                                  TMP_kurtosis__w=240_s=120  \\\n",
       "timestamp                                                     \n",
       "2017-06-13 11:15:39.791000+02:00                  -0.403061   \n",
       "2017-06-13 10:58:39.791000+02:00                  -1.061199   \n",
       "\n",
       "                                  TMP_quantile_0.25__w=240_s=120  \\\n",
       "timestamp                                                          \n",
       "2017-06-13 11:15:39.791000+02:00                           33.05   \n",
       "2017-06-13 10:58:39.791000+02:00                           32.50   \n",
       "\n",
       "                                  TMP_quantile_0.5__w=240_s=120  \\\n",
       "timestamp                                                         \n",
       "2017-06-13 11:15:39.791000+02:00                          33.07   \n",
       "2017-06-13 10:58:39.791000+02:00                          32.53   \n",
       "\n",
       "                                  TMP_quantile_0.75__w=240_s=120  \\\n",
       "timestamp                                                          \n",
       "2017-06-13 11:15:39.791000+02:00                           33.07   \n",
       "2017-06-13 10:58:39.791000+02:00                           32.53   \n",
       "\n",
       "                                  TMP_slope__w=240_s=120  \\\n",
       "timestamp                                                  \n",
       "2017-06-13 11:15:39.791000+02:00               -0.000008   \n",
       "2017-06-13 10:58:39.791000+02:00                0.000111   \n",
       "\n",
       "                                  TMP_rms__w=240_s=120  TMP_area__w=240_s=120  \n",
       "timestamp                                                                      \n",
       "2017-06-13 11:15:39.791000+02:00             33.067670                7936.24  \n",
       "2017-06-13 10:58:39.791000+02:00             32.525505                7806.12  "
      ]
     },
     "execution_count": 15,
     "metadata": {},
     "output_type": "execute_result"
    }
   ],
   "source": [
    "%%time\n",
    "tmp_feat_extr.calculate(df_tmp, merge_dfs=True, njobs=1).sample(2)"
   ]
  },
  {
   "cell_type": "markdown",
   "metadata": {},
   "source": [
    "### Arbitrary window size"
   ]
  },
  {
   "cell_type": "markdown",
   "metadata": {},
   "source": [
    "**GSR**"
   ]
  },
  {
   "cell_type": "code",
   "execution_count": 16,
   "metadata": {},
   "outputs": [
    {
     "data": {
      "text/plain": [
       "FeatureCollection(\n",
       "\tFeatureDescriptor(EDA, 240, 80) \n",
       "\tFeatureDescriptor(EDA, 240, 120) \n",
       "\tFeatureDescriptor(EDA, 240, 120) \n",
       "\tFeatureDescriptor(EDA, 480, 120) \n",
       "\tFeatureDescriptor(EDA, 240, 120) \n",
       "\tFeatureDescriptor(EDA, 240, 80) \n",
       "\tFeatureDescriptor(EDA, 240, 80) \n",
       "\tFeatureDescriptor(EDA, 240, 120) \n",
       "\tFeatureDescriptor(EDA, 240, 80) \n",
       "\tFeatureDescriptor(EDA, 240, 120) \n",
       "\tFeatureDescriptor(EDA, 240, 80) \n",
       ")"
      ]
     },
     "execution_count": 16,
     "metadata": {},
     "output_type": "execute_result"
    }
   ],
   "source": [
    "# PoC: we will select a random combination of the window_size stride combination\n",
    "window_size_s = [60, 120]\n",
    "stride_size_s = [30, 10, 20]\n",
    "fs_gsr = 4\n",
    "\n",
    "import random\n",
    "\n",
    "gsr_feat_extr = FeatureCollection(\n",
    "    [\n",
    "        FeatureDescriptor(\n",
    "            key=\"EDA\",\n",
    "            window=random.choice(window_size_s) * fs_tmp,\n",
    "            stride=random.choice(stride_size_s) * fs_tmp,\n",
    "            function=f,\n",
    "        )\n",
    "        for f in segment_funcs\n",
    "    ]\n",
    ")\n",
    "gsr_feat_extr"
   ]
  },
  {
   "cell_type": "code",
   "execution_count": 17,
   "metadata": {},
   "outputs": [
    {
     "name": "stdout",
     "output_type": "stream",
     "text": [
      "CPU times: user 49.9 ms, sys: 60.9 ms, total: 111 ms\n",
      "Wall time: 292 ms\n"
     ]
    },
    {
     "data": {
      "text/html": [
       "<div>\n",
       "<style scoped>\n",
       "    .dataframe tbody tr th:only-of-type {\n",
       "        vertical-align: middle;\n",
       "    }\n",
       "\n",
       "    .dataframe tbody tr th {\n",
       "        vertical-align: top;\n",
       "    }\n",
       "\n",
       "    .dataframe thead th {\n",
       "        text-align: right;\n",
       "    }\n",
       "</style>\n",
       "<table border=\"1\" class=\"dataframe\">\n",
       "  <thead>\n",
       "    <tr style=\"text-align: right;\">\n",
       "      <th></th>\n",
       "      <th>EDA_mean__w=240_s=80</th>\n",
       "      <th>EDA_skew__w=240_s=80</th>\n",
       "      <th>EDA_kurtosis__w=240_s=80</th>\n",
       "      <th>EDA_slope__w=240_s=80</th>\n",
       "      <th>EDA_area__w=240_s=80</th>\n",
       "      <th>EDA_std__w=240_s=120</th>\n",
       "      <th>EDA_var__w=240_s=120</th>\n",
       "      <th>EDA_amin__w=240_s=120</th>\n",
       "      <th>EDA_quantile_0.25__w=240_s=120</th>\n",
       "      <th>EDA_quantile_0.5__w=240_s=120</th>\n",
       "      <th>EDA_quantile_0.75__w=240_s=120</th>\n",
       "      <th>EDA_rms__w=240_s=120</th>\n",
       "      <th>EDA_amax__w=480_s=120</th>\n",
       "    </tr>\n",
       "    <tr>\n",
       "      <th>timestamp</th>\n",
       "      <th></th>\n",
       "      <th></th>\n",
       "      <th></th>\n",
       "      <th></th>\n",
       "      <th></th>\n",
       "      <th></th>\n",
       "      <th></th>\n",
       "      <th></th>\n",
       "      <th></th>\n",
       "      <th></th>\n",
       "      <th></th>\n",
       "      <th></th>\n",
       "      <th></th>\n",
       "    </tr>\n",
       "  </thead>\n",
       "  <tbody>\n",
       "    <tr>\n",
       "      <th>2017-06-13 11:47:59.715000+02:00</th>\n",
       "      <td>0.15963</td>\n",
       "      <td>-0.411834</td>\n",
       "      <td>0.185136</td>\n",
       "      <td>-0.000014</td>\n",
       "      <td>38.311242</td>\n",
       "      <td>NaN</td>\n",
       "      <td>NaN</td>\n",
       "      <td>NaN</td>\n",
       "      <td>NaN</td>\n",
       "      <td>NaN</td>\n",
       "      <td>NaN</td>\n",
       "      <td>NaN</td>\n",
       "      <td>NaN</td>\n",
       "    </tr>\n",
       "    <tr>\n",
       "      <th>2017-06-13 10:58:19.715000+02:00</th>\n",
       "      <td>0.15857</td>\n",
       "      <td>5.292978</td>\n",
       "      <td>32.354198</td>\n",
       "      <td>0.000328</td>\n",
       "      <td>38.056699</td>\n",
       "      <td>NaN</td>\n",
       "      <td>NaN</td>\n",
       "      <td>NaN</td>\n",
       "      <td>NaN</td>\n",
       "      <td>NaN</td>\n",
       "      <td>NaN</td>\n",
       "      <td>NaN</td>\n",
       "      <td>NaN</td>\n",
       "    </tr>\n",
       "  </tbody>\n",
       "</table>\n",
       "</div>"
      ],
      "text/plain": [
       "                                  EDA_mean__w=240_s=80  EDA_skew__w=240_s=80  \\\n",
       "timestamp                                                                      \n",
       "2017-06-13 11:47:59.715000+02:00               0.15963             -0.411834   \n",
       "2017-06-13 10:58:19.715000+02:00               0.15857              5.292978   \n",
       "\n",
       "                                  EDA_kurtosis__w=240_s=80  \\\n",
       "timestamp                                                    \n",
       "2017-06-13 11:47:59.715000+02:00                  0.185136   \n",
       "2017-06-13 10:58:19.715000+02:00                 32.354198   \n",
       "\n",
       "                                  EDA_slope__w=240_s=80  EDA_area__w=240_s=80  \\\n",
       "timestamp                                                                       \n",
       "2017-06-13 11:47:59.715000+02:00              -0.000014             38.311242   \n",
       "2017-06-13 10:58:19.715000+02:00               0.000328             38.056699   \n",
       "\n",
       "                                  EDA_std__w=240_s=120  EDA_var__w=240_s=120  \\\n",
       "timestamp                                                                      \n",
       "2017-06-13 11:47:59.715000+02:00                   NaN                   NaN   \n",
       "2017-06-13 10:58:19.715000+02:00                   NaN                   NaN   \n",
       "\n",
       "                                  EDA_amin__w=240_s=120  \\\n",
       "timestamp                                                 \n",
       "2017-06-13 11:47:59.715000+02:00                    NaN   \n",
       "2017-06-13 10:58:19.715000+02:00                    NaN   \n",
       "\n",
       "                                  EDA_quantile_0.25__w=240_s=120  \\\n",
       "timestamp                                                          \n",
       "2017-06-13 11:47:59.715000+02:00                             NaN   \n",
       "2017-06-13 10:58:19.715000+02:00                             NaN   \n",
       "\n",
       "                                  EDA_quantile_0.5__w=240_s=120  \\\n",
       "timestamp                                                         \n",
       "2017-06-13 11:47:59.715000+02:00                            NaN   \n",
       "2017-06-13 10:58:19.715000+02:00                            NaN   \n",
       "\n",
       "                                  EDA_quantile_0.75__w=240_s=120  \\\n",
       "timestamp                                                          \n",
       "2017-06-13 11:47:59.715000+02:00                             NaN   \n",
       "2017-06-13 10:58:19.715000+02:00                             NaN   \n",
       "\n",
       "                                  EDA_rms__w=240_s=120  EDA_amax__w=480_s=120  \n",
       "timestamp                                                                      \n",
       "2017-06-13 11:47:59.715000+02:00                   NaN                    NaN  \n",
       "2017-06-13 10:58:19.715000+02:00                   NaN                    NaN  "
      ]
     },
     "execution_count": 17,
     "metadata": {},
     "output_type": "execute_result"
    }
   ],
   "source": [
    "%%time\n",
    "gsr_feat_extr.calculate(df_gsr, merge_dfs=True).sample(2)\n",
    "# gsr_feat_extr.get_results(merge_dfs=True)"
   ]
  },
  {
   "cell_type": "markdown",
   "metadata": {},
   "source": [
    "### Multiple time series"
   ]
  },
  {
   "cell_type": "code",
   "execution_count": 18,
   "metadata": {},
   "outputs": [],
   "source": [
    "# Construct the feature FeatureCollection\n",
    "#   =  higher order wrapper which aggregates the featuredescriptions\n",
    "feature_extraction = FeatureCollection(feature_desc_list=[gsr_feat_extr, tmp_feat_extr])"
   ]
  },
  {
   "cell_type": "code",
   "execution_count": 19,
   "metadata": {},
   "outputs": [],
   "source": [
    "df_feat = feature_extraction.calculate([df_gsr, df_tmp], merge_dfs=True)"
   ]
  },
  {
   "cell_type": "markdown",
   "metadata": {},
   "source": [
    "# LAYD: Look At Your Data"
   ]
  },
  {
   "cell_type": "code",
   "execution_count": 20,
   "metadata": {},
   "outputs": [],
   "source": [
    "import ipywidgets as widgets\n",
    "import plotly.graph_objects as go\n",
    "from ipywidgets import interact_manual\n",
    "from plotly.subplots import make_subplots"
   ]
  },
  {
   "cell_type": "code",
   "execution_count": 21,
   "metadata": {},
   "outputs": [],
   "source": [
    "df_dict = {\"tmp\": df_tmp, \"gsr\": df_gsr}"
   ]
  },
  {
   "cell_type": "code",
   "execution_count": 22,
   "metadata": {},
   "outputs": [],
   "source": [
    "feat_widget = widgets.SelectMultiple(options=df_feat.columns)\n",
    "sig_widget = widgets.SelectMultiple(options=[\"gsr\", \"tmp\"])"
   ]
  },
  {
   "cell_type": "code",
   "execution_count": 23,
   "metadata": {},
   "outputs": [
    {
     "data": {
      "application/vnd.jupyter.widget-view+json": {
       "model_id": "5baf4721fb6447ffbc4c35e06ee08dcc",
       "version_major": 2,
       "version_minor": 0
      },
      "text/plain": [
       "interactive(children=(SelectMultiple(description='features', options=('EDA_mean__w=240_s=80', 'EDA_skew__w=240…"
      ]
     },
     "metadata": {},
     "output_type": "display_data"
    }
   ],
   "source": [
    "@interact_manual\n",
    "def visuzalize(features=feat_widget, signals=sig_widget):\n",
    "    row_titles = list(signals) + [\"features\"] if len(features) else []\n",
    "    fig = make_subplots(\n",
    "        rows=len(row_titles),\n",
    "        cols=1,\n",
    "        shared_xaxes=True,\n",
    "        vertical_spacing=0.1 / len(row_titles),\n",
    "        row_titles=row_titles,\n",
    "    )\n",
    "    fig.update_layout(height=300 * len(row_titles))\n",
    "\n",
    "    # first, visualize the \"raw\" signals\n",
    "    row_idx = 1\n",
    "    for sig in signals:\n",
    "        df_sig = df_dict[sig][10:].resample(\"1s\").mean()\n",
    "        for col in set(df_sig.columns).difference([\"index\", \"timestamp\"]):\n",
    "            fig.add_trace(\n",
    "                go.Scattergl(x=df_sig.index, y=df_sig[col], name=col, hoverinfo=\"skip\"),\n",
    "                row=row_idx,\n",
    "                col=1,\n",
    "            )\n",
    "        row_idx += 1\n",
    "\n",
    "    # then visualize the features\n",
    "    df_f = df_feat[3:]\n",
    "    for feature in features:\n",
    "        fig.add_trace(\n",
    "            go.Scattergl(\n",
    "                x=df_f.index,\n",
    "                y=df_f[feature],\n",
    "                name=feature,\n",
    "                hoverinfo=\"skip\",\n",
    "                showlegend=True,\n",
    "            ),\n",
    "            row=row_idx,\n",
    "            col=1,\n",
    "        )\n",
    "\n",
    "    return fig"
   ]
  }
 ],
 "metadata": {
  "kernelspec": {
   "display_name": "Python 3",
   "language": "python",
   "name": "python3"
  },
  "language_info": {
   "codemirror_mode": {
    "name": "ipython",
    "version": 3
   },
   "file_extension": ".py",
   "mimetype": "text/x-python",
   "name": "python",
   "nbconvert_exporter": "python",
   "pygments_lexer": "ipython3",
   "version": "3.7.5"
  },
  "toc-autonumbering": true
 },
 "nbformat": 4,
 "nbformat_minor": 4
}
